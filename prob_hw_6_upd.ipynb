{
  "cells": [
    {
      "cell_type": "markdown",
      "metadata": {
        "id": "1V3XnzkMTsI6"
      },
      "source": [
        "Известно, что генеральная совокупность распределена нормально со средним квадратическим отклонением, равным 16. Найти доверительный интервал для оценки математического ожидания a с надежностью 0.95, если выборочная средняя M = 80, а объем выборки n = 256.\n"
      ]
    },
    {
      "cell_type": "code",
      "execution_count": 1,
      "metadata": {
        "id": "L4Fmz-ZsTsI8",
        "outputId": "21e0d34e-8550-41e3-b147-fb0c775cf224",
        "colab": {
          "base_uri": "https://localhost:8080/"
        }
      },
      "outputs": [
        {
          "output_type": "stream",
          "name": "stdout",
          "text": [
            "Доверительный интервал [78.0400;81.9600]\n"
          ]
        }
      ],
      "source": [
        "# Дано\n",
        "s = 16\n",
        "p = 0.95\n",
        "M = 80\n",
        "n = 256\n",
        "# Дана генеральная совокупность, большая выборка, следовательно можем использовать Z-оценку\n",
        "\n",
        "\n",
        "Z = 1.96 # Ф^(-1) (1-(0.05/2))\n",
        "\n",
        "left_right = Z * s / (n ** 0.5)\n",
        "print(f\"Доверительный интервал [{M-left_right:.4f};{M+left_right:.4f}]\")"
      ]
    },
    {
      "cell_type": "markdown",
      "metadata": {
        "id": "y0WW-LDFTsI9"
      },
      "source": [
        "В результате 10 независимых измерений некоторой величины X, выполненных с одинаковой точностью, получены опытные данные: 6.9, 6.1, 6.2, 6.8, 7.5, 6.3, 6.4, 6.9, 6.7, 6.1 Предполагая, что результаты измерений подчинены нормальному закону распределения вероятностей, оценить истинное значение величины X при помощи доверительного интервала, покрывающего это значение с доверительной вероятностью 0,95."
      ]
    },
    {
      "cell_type": "code",
      "execution_count": 2,
      "metadata": {
        "id": "6iGCLutFTsI-",
        "outputId": "a90e7012-26f8-4437-de01-a40d40b935fe",
        "colab": {
          "base_uri": "https://localhost:8080/"
        }
      },
      "outputs": [
        {
          "output_type": "stream",
          "name": "stdout",
          "text": [
            "Среднее 6.5900, исправленная дисперсия 0.2032\n",
            "Доверительный интервал [6.2675;6.9125]\n"
          ]
        }
      ],
      "source": [
        "import numpy as np\n",
        "\n",
        "\n",
        "X = np.array([ 6.9, 6.1, 6.2, 6.8, 7.5, 6.3, 6.4, 6.9, 6.7, 6.1])\n",
        "print(f\"Среднее {X.mean():.4f}, исправленная дисперсия {X.var(ddof=1):.4f}\")\n",
        "s = np.sqrt(X.var(ddof=1))\n",
        "# нет информации о генеральной совокупности, используем критерий Стьюдента\n",
        "# по таблице Стьюдента находим t для параметров (9; 0,025) = 2.262\n",
        "t = 2.262\n",
        "M = X.mean()\n",
        "left_right = t * s / (len(X) ** 0.5)\n",
        "print(f\"Доверительный интервал [{M-left_right:.4f};{M+left_right:.4f}]\")"
      ]
    },
    {
      "cell_type": "markdown",
      "metadata": {
        "id": "OJlS2aBkTsJB"
      },
      "source": [
        "\n",
        "3) Рост дочерей 175, 167, 154, 174, 178, 148, 160, 167, 169, 170\n",
        "Рост матерей 178, 165, 165, 173, 168, 155, 160, 164, 178, 175\n",
        "Используя эти данные построить 95% доверительный интервал для разности среднего роста родителей и детей."
      ]
    },
    {
      "cell_type": "code",
      "execution_count": 17,
      "metadata": {
        "id": "BOmavmxBTsJB",
        "outputId": "d56b801f-570d-4bea-fcc2-0a93fef7fcc1",
        "colab": {
          "base_uri": "https://localhost:8080/"
        }
      },
      "outputs": [
        {
          "output_type": "stream",
          "name": "stdout",
          "text": [
            "X1 mean 168.1\n",
            "X2 mean 166.2\n",
            "delta 1.9000000000000057\n",
            "D1 60.10000000000001\n",
            "D2 91.06666666666666\n",
            "D 75.58333333333334\n",
            "Sd 3.8880157750022915\n",
            "df= 18\n",
            "t= 2.10092204024096\n",
            "95% доверительный интервал для разности роста родителей и детей: [-6.2684; 10.0684]\n"
          ]
        }
      ],
      "source": [
        "import scipy.stats as stats\n",
        "\n",
        "\n",
        "# задача поиска интервальной оценки для разности средних арифметических\n",
        "X1 = np.array([178, 165, 165, 173, 168, 155, 160, 164, 178, 175])\n",
        "X2 = np.array([ 175, 167, 154, 174, 178, 148, 160, 167, 169, 170])\n",
        "n1 = len(X1)\n",
        "n2 = len(X2)\n",
        "\n",
        "# Считаем среднее по выборкам\n",
        "Xm_1 = np.mean(X1)\n",
        "print('X1 mean', Xm_1)\n",
        "Xm_2 = np.mean(X2)\n",
        "print('X2 mean', Xm_2)\n",
        "\n",
        "delta = Xm_1 - Xm_2\n",
        "print('delta', delta)\n",
        "\n",
        "D1 = np.var(X1, ddof=1)  # несмещённая дисперсия для выборки 1\n",
        "print('D1', D1)\n",
        "D2 = np.var(X2, ddof=1)  # то же для выборки 2\n",
        "print('D2', D2)\n",
        "\n",
        "D = 0.5*(D1 + D2)  # \n",
        "print('D', D)\n",
        "\n",
        "Sd = np.sqrt(D/n1 + D/n2)  # стандартная ошибка разности средних\n",
        "print('Sd', Sd)\n",
        "\n",
        "df = 2 * (n1 - 1)  # объёмы выборок одинаковые \n",
        "print('df=', df)\n",
        "\n",
        "t = stats.t.ppf(0.975, df)  # критерий Стьюдента\n",
        "print('t=', t)\n",
        "\n",
        "Low = delta - t*Sd  # нижняя граница\n",
        "High = delta + t*Sd  # верхняя граница\n",
        "\n",
        "print(f'95% доверительный интервал для разности роста родителей и детей: [{Low:.4f}; {High:.4f}]')"
      ]
    }
  ],
  "metadata": {
    "kernelspec": {
      "display_name": "Python 3",
      "language": "python",
      "name": "python3"
    },
    "language_info": {
      "codemirror_mode": {
        "name": "ipython",
        "version": 3
      },
      "file_extension": ".py",
      "mimetype": "text/x-python",
      "name": "python",
      "nbconvert_exporter": "python",
      "pygments_lexer": "ipython3",
      "version": "3.7.4"
    },
    "colab": {
      "provenance": []
    }
  },
  "nbformat": 4,
  "nbformat_minor": 0
}