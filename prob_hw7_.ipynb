{
  "nbformat": 4,
  "nbformat_minor": 0,
  "metadata": {
    "colab": {
      "provenance": [],
      "authorship_tag": "ABX9TyNXIexrLWeDGwPgq5b6Luzx",
      "include_colab_link": true
    },
    "kernelspec": {
      "name": "python3",
      "display_name": "Python 3"
    },
    "language_info": {
      "name": "python"
    }
  },
  "cells": [
    {
      "cell_type": "markdown",
      "metadata": {
        "id": "view-in-github",
        "colab_type": "text"
      },
      "source": [
        "<a href=\"https://colab.research.google.com/github/eridanletalis/probability_and_statistics/blob/master/prob_hw7_.ipynb\" target=\"_parent\"><img src=\"https://colab.research.google.com/assets/colab-badge.svg\" alt=\"Open In Colab\"/></a>"
      ]
    },
    {
      "cell_type": "code",
      "execution_count": 2,
      "metadata": {
        "id": "cJiixiZysA5x"
      },
      "outputs": [],
      "source": [
        "import numpy as np\n",
        "import scipy.stats as stat"
      ]
    },
    {
      "cell_type": "markdown",
      "source": [
        "Коментарий\n",
        "\n",
        "Чтобы не писать много, под гипотезой $H(0)$ будет пониматься отсутствие статистически значимых различий, под альтернативной гипотезой $H(1)$ - наличие статистически значимых различий (выборки взяты из разных генеальных совокупностей). \n",
        "Если не указано иное, критерий $α=0.05$."
      ],
      "metadata": {
        "id": "yVa_cDef0CfJ"
      }
    },
    {
      "cell_type": "markdown",
      "source": [
        "1-4 задачи решать с помощью функций, 5ю вручную\n",
        "\n",
        "Выбрать тест и проверить, есть  ли различия между выборками:\n",
        "\n",
        "1.  Даны две  независимые выборки. Не соблюдается условие нормальности\n",
        "\n",
        "x1  380,420, 290\n",
        "\n",
        "y1 140,360,200,900\n",
        "\n",
        "Сделайте вывод по результатам, полученным с помощью функции"
      ],
      "metadata": {
        "id": "iq6RE8cyy8Sp"
      }
    },
    {
      "cell_type": "markdown",
      "source": [
        "Указано, что две выборки независимы и не соблюдено условие нормальности. Следовательно, нужно использовать U-критерий (критерий Манна-Уитни)"
      ],
      "metadata": {
        "id": "4WTZOGQOzBp_"
      }
    },
    {
      "cell_type": "code",
      "source": [
        "data1, data2 = [380,420, 290], [140,360,200,900]\n",
        "stat.mannwhitneyu(data1, data2)"
      ],
      "metadata": {
        "colab": {
          "base_uri": "https://localhost:8080/"
        },
        "id": "00quYmTxzp1E",
        "outputId": "9dadf8fb-58ab-444a-92bb-8ae81546d393"
      },
      "execution_count": 3,
      "outputs": [
        {
          "output_type": "execute_result",
          "data": {
            "text/plain": [
              "MannwhitneyuResult(statistic=8.0, pvalue=0.6285714285714286)"
            ]
          },
          "metadata": {},
          "execution_count": 3
        }
      ]
    },
    {
      "cell_type": "markdown",
      "source": [
        "Видим, что значение $pvalue = 0.6286$, что выше уровня значимости, следовательно, нет оснований для отвегания гипотезы и между выборками нет различий."
      ],
      "metadata": {
        "id": "tKGEot-6zyL0"
      }
    },
    {
      "cell_type": "markdown",
      "source": [
        "2. Исследовалось влияние препарата на уровень давления пациентов. Сначала измерялось давление до приема препарата, потом через 10 минут и через 30 минут. Есть ли статистически значимые различия?\n",
        "\n",
        "1е измерение до приема препарата: 150, 160, 165, 145, 155\n",
        "\n",
        "2е измерение через 10 минут: 140, 155, 150,  130, 135\n",
        "\n",
        "3е измерение через 30 минут: 130, 130, 120, 130, 125"
      ],
      "metadata": {
        "id": "KEhFsw9G33PJ"
      }
    },
    {
      "cell_type": "markdown",
      "source": [
        "Видим множественное сравнение разных измерений величин одного параметра, т.е. величины зависимы и можно использовать тест Фридмана."
      ],
      "metadata": {
        "id": "5bAK4ejM4FuW"
      }
    },
    {
      "cell_type": "code",
      "source": [
        "data1 = [150, 160, 165, 145, 155]\n",
        "data2 = [140, 155, 150, 130, 135]\n",
        "data3 = [130, 130, 120, 130, 125]\n",
        "stat.friedmanchisquare(data1, data2, data3)"
      ],
      "metadata": {
        "colab": {
          "base_uri": "https://localhost:8080/"
        },
        "id": "2ZJieE5j32dr",
        "outputId": "0db0e0b4-a04b-4597-da49-e799e9c93732"
      },
      "execution_count": 13,
      "outputs": [
        {
          "output_type": "execute_result",
          "data": {
            "text/plain": [
              "FriedmanchisquareResult(statistic=9.578947368421062, pvalue=0.00831683351100441)"
            ]
          },
          "metadata": {},
          "execution_count": 13
        }
      ]
    },
    {
      "cell_type": "markdown",
      "source": [
        "В результате получаем $p-value=0.008$, что меньше уровня значимости, следовательно, нулевая гипотеза должна быть отвергнута и мы принимаем, что есть статистически значимые различия."
      ],
      "metadata": {
        "id": "O8ePcvsc4yK3"
      }
    },
    {
      "cell_type": "markdown",
      "source": [
        "3.  Сравните 1 и 2 е измерения, предполагая, что 3го измерения через 30 минут не было."
      ],
      "metadata": {
        "id": "cYlHgR6P5PJp"
      }
    },
    {
      "cell_type": "markdown",
      "source": [
        "Два измерения и зависимые величины дают основания для использования критерия Уилкоксона"
      ],
      "metadata": {
        "id": "qdpdlZco5TOI"
      }
    },
    {
      "cell_type": "code",
      "source": [
        "stat.wilcoxon(data1, data2)"
      ],
      "metadata": {
        "colab": {
          "base_uri": "https://localhost:8080/"
        },
        "id": "UrjnvZK-5eN1",
        "outputId": "9fb3f945-6770-4b07-cf7e-4631c2403ffe"
      },
      "execution_count": 14,
      "outputs": [
        {
          "output_type": "execute_result",
          "data": {
            "text/plain": [
              "WilcoxonResult(statistic=0.0, pvalue=0.0625)"
            ]
          },
          "metadata": {},
          "execution_count": 14
        }
      ]
    },
    {
      "cell_type": "markdown",
      "source": [
        "На основе результата $p-value=0.0625$ можно прийти к выводу, что различий нет (принимаем нулевую гипотезу)."
      ],
      "metadata": {
        "id": "3zc1NOgf5pYC"
      }
    },
    {
      "cell_type": "code",
      "source": [
        "# тест Уилкоксона на двух других параметрах\n",
        "stat.wilcoxon(data1, data3)"
      ],
      "metadata": {
        "colab": {
          "base_uri": "https://localhost:8080/"
        },
        "id": "oWvDN4-T50aw",
        "outputId": "62e331e3-c3dc-48a5-bb0c-b45a6000b53e"
      },
      "execution_count": 16,
      "outputs": [
        {
          "output_type": "execute_result",
          "data": {
            "text/plain": [
              "WilcoxonResult(statistic=0.0, pvalue=0.0625)"
            ]
          },
          "metadata": {},
          "execution_count": 16
        }
      ]
    },
    {
      "cell_type": "code",
      "source": [
        "# тест Уилкоксона на двух других параметрах\n",
        "stat.wilcoxon(data2, data3)"
      ],
      "metadata": {
        "colab": {
          "base_uri": "https://localhost:8080/"
        },
        "id": "n6eO2pgb6D1z",
        "outputId": "4d0f6b89-8737-47d4-e537-9be584f14d98"
      },
      "execution_count": 17,
      "outputs": [
        {
          "output_type": "stream",
          "name": "stderr",
          "text": [
            "/usr/local/lib/python3.8/dist-packages/scipy/stats/_morestats.py:3414: UserWarning: Exact p-value calculation does not work if there are zeros. Switching to normal approximation.\n",
            "  warnings.warn(\"Exact p-value calculation does not work if there are \"\n",
            "/usr/local/lib/python3.8/dist-packages/scipy/stats/_morestats.py:3428: UserWarning: Sample size too small for normal approximation.\n",
            "  warnings.warn(\"Sample size too small for normal approximation.\")\n"
          ]
        },
        {
          "output_type": "execute_result",
          "data": {
            "text/plain": [
              "WilcoxonResult(statistic=0.0, pvalue=0.06559969214707187)"
            ]
          },
          "metadata": {},
          "execution_count": 17
        }
      ]
    },
    {
      "cell_type": "markdown",
      "source": [
        "4. Даны 3 группы  учеников плавания.\n",
        "\n",
        "В 1 группе время на дистанцию 50 м составляют:\n",
        "\n",
        "56, 60, 62, 55, 71, 67, 59, 58, 64, 67\n",
        "\n",
        "Вторая группа : 57, 58, 69, 48, 72, 70, 68, 71, 50, 53\n",
        "\n",
        "Третья группа: 57, 67, 49, 48, 47, 55, 66, 51, 54"
      ],
      "metadata": {
        "id": "q2r8k7Nc6MQr"
      }
    },
    {
      "cell_type": "markdown",
      "source": [
        "Здесь параметры не зависимы (речь о разных людях), поэтому следует использовать критерий Крускала-Уоллиса."
      ],
      "metadata": {
        "id": "2xezr-jG6Q5u"
      }
    },
    {
      "cell_type": "code",
      "source": [
        "data1 = [56, 60, 62, 55, 71, 67, 59, 58, 64, 67]\n",
        "data2 = [57, 58, 69, 48, 72, 70, 68, 71, 50, 53]\n",
        "data3 = [57, 67, 49, 48, 47, 55, 66, 51, 54]\n",
        "stat.kruskal(data1, data2, data3)"
      ],
      "metadata": {
        "colab": {
          "base_uri": "https://localhost:8080/"
        },
        "id": "klTjZu6J6con",
        "outputId": "b69be249-e127-4bef-8548-12d554a3f91d"
      },
      "execution_count": 19,
      "outputs": [
        {
          "output_type": "execute_result",
          "data": {
            "text/plain": [
              "KruskalResult(statistic=5.465564058257224, pvalue=0.0650380998590494)"
            ]
          },
          "metadata": {},
          "execution_count": 19
        }
      ]
    },
    {
      "cell_type": "markdown",
      "source": [
        "На основе результата $p-value=0.065$ можно прийти к выводу, что различий нет (принимаем нулевую гипотезу), т.е. во всех трёх группах уровень подготовки примерно одинаковый и вероятность встретить неожиданный результат равна 5%."
      ],
      "metadata": {
        "id": "EqGsXBqX6v8o"
      }
    },
    {
      "cell_type": "markdown",
      "source": [
        "5. Заявляется, что партия изготавливается со средним арифметическим 2,5 см. Проверить данную гипотезу, если известно, что размеры изделий подчинены нормальному закону распределения. Объем выборки 10, уровень статистической значимости 5%\n",
        "\n",
        "2.51, 2.35, 2.74, 2.56, 2.40, 2.36, 2.65, 2.7, 2.67, 2.34"
      ],
      "metadata": {
        "id": "2-MEzgNJ7KNc"
      }
    },
    {
      "cell_type": "markdown",
      "source": [
        "Можно использовать следующй алгоритм, помня, что тест будет двусторонний, значит в таблице ищем для 1-(0,05/2) = 0,975"
      ],
      "metadata": {
        "id": "6OyRMSuw-Fyt"
      }
    },
    {
      "cell_type": "code",
      "source": [
        "X = np.array([2.51, 2.35, 2.74, 2.56, 2.40, 2.36, 2.65, 2.7, 2.67, 2.34])\n",
        "n = len(X)\n",
        "mu = 2.5\n",
        "a = 0.05\n",
        "print(f\"Среднее {X.mean():.4f}, исправленная дисперсия {X.var(ddof=1):.4f}\")\n",
        "s = np.sqrt(X.var(ddof=1))\n",
        "# \n",
        "t_kr = 2.262 # таблица, P = 0.975, k = 9\n",
        "M = X.mean()\n",
        "t_nabl = (M - mu) * np.sqrt(n)/s\n",
        "\n",
        "if abs(t_nabl) > t_kr:  # по модулю, т.к. критерий двусторонний\n",
        "    print(f\"Отвергаем нулевую гипотезу, t наблюдаемое = {t_nabl}\")\n",
        "else:\n",
        "    print(f\"Принимаем нулевую гипотезу, t наблюдаемое = {t_nabl}\")\n",
        "     "
      ],
      "metadata": {
        "colab": {
          "base_uri": "https://localhost:8080/"
        },
        "id": "mBgiXnr4-JoT",
        "outputId": "c66a7e50-5859-444c-b0d2-60cdb6726b60"
      },
      "execution_count": 23,
      "outputs": [
        {
          "output_type": "stream",
          "name": "stdout",
          "text": [
            "Среднее 2.5280, исправленная дисперсия 0.0247\n",
            "Принимаем нулевую гипотезу, t наблюдаемое = 0.563061366180296\n"
          ]
        }
      ]
    },
    {
      "cell_type": "markdown",
      "source": [
        "Так как нулевая гипотеза принята, то можно утверждать, что с 95% вероятностью вреднее равно 2.5 см"
      ],
      "metadata": {
        "id": "uFCDPbXmAhow"
      }
    }
  ]
}