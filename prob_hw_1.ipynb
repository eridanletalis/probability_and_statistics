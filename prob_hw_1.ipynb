{
  "cells": [
    {
      "cell_type": "markdown",
      "metadata": {
        "id": "HD91oF-FybQ3"
      },
      "source": [
        "Урок 1.\n",
        "\n",
        "    Из колоды в 52 карты извлекаются случайным образом 4 карты. a) Найти вероятность того, что все карты – крести. б) Найти вероятность, что среди 4-х карт окажется хотя бы один туз.\n",
        "    "
      ]
    },
    {
      "cell_type": "markdown",
      "metadata": {
        "id": "VTXZrNq3ybQ6"
      },
      "source": [
        "\n",
        "\n",
        "4 карты из колоды можно вытянуть С(52,4) способами .\n",
        "\n",
        "а) Вероятности того, что 4 карты имеют масть \"крести\" соответствует цепочка зависимых событий: \"достали одну крестовую из 13 при 52 возможных случаев\" -> \"достали одну крестовую из 12 при 51 возможном случае\" -> \"достали одну крестовую из 11 при 50 возможных случаев\" -> \"достали одну крестовую из 10 при 49 возможных случаях\"\n",
        "C(13,1) / C(52,1)  * C(12,1) / C (51,1) * C(11,1) / C (50,1) * C(10,1) / C (49,1) = 0.00264 = 2.64%\n",
        "\n",
        "б) задача может быть решена как нахождение обратной вероятности события \"среди четырёх взятых карт нет ни одного туза\"\n",
        "- Общее число исходов - 52. \n",
        "- Так как порядок выбора не существенен, можно применить формулу для числа сочетаний (сколькими способами можно выбрать 4 карты из всей колоды) С(52,4). \n",
        "- Число благоприятных исходов: сколькими способами можно выбрать 4 карты из (52 всего - 4 туза)  равна С(48, 4)\n",
        "- $P = 1 -  \\overline{A} = 1 - m/n = 1-C(48,4) / C(52,4) = 0.28$\n"
      ]
    },
    {
      "cell_type": "code",
      "execution_count": 1,
      "metadata": {
        "id": "dpTxfHKcybQ7"
      },
      "outputs": [],
      "source": [
        "import numpy as np\n",
        "\n",
        "def permutations(n: int) -> int:\n",
        "   \n",
        "    return np.math.factorial(n)\n",
        "\n",
        "def combinations(n: int, k: int) -> int:\n",
        "    \n",
        "    return np.math.factorial(n) // (np.math.factorial(k)*np.math.factorial(n-k))\n",
        " \n",
        "\n",
        "def arrangement(n: int, k: int) -> int:\n",
        "    \n",
        "    return combinations(n,k)*perm(k)\n"
      ]
    },
    {
      "cell_type": "code",
      "execution_count": 2,
      "metadata": {
        "colab": {
          "base_uri": "https://localhost:8080/"
        },
        "id": "c7wlk39sybQ7",
        "outputId": "b111b292-ca1a-47e5-e64e-8f1b15ac87d5"
      },
      "outputs": [
        {
          "output_type": "stream",
          "name": "stdout",
          "text": [
            "0.0026410564225690276\n"
          ]
        }
      ],
      "source": [
        "# 1a\n",
        "print(combinations(13,1)/combinations(52,1) * \\\n",
        "combinations(12,1)/combinations(51,1) *  \\\n",
        "combinations(11,1)/combinations(50,1)*  \\\n",
        "combinations(10,1)/combinations(49,1))"
      ]
    },
    {
      "cell_type": "code",
      "execution_count": 8,
      "metadata": {
        "colab": {
          "base_uri": "https://localhost:8080/"
        },
        "id": "FxFZusmFybQ8",
        "outputId": "e2628b8f-0f2d-4e08-e185-abdf3b5d88e5"
      },
      "outputs": [
        {
          "output_type": "execute_result",
          "data": {
            "text/plain": [
              "0.2812632745405854"
            ]
          },
          "metadata": {},
          "execution_count": 8
        }
      ],
      "source": [
        "#1б\n",
        "1-(combinations(48,4) )  / combinations(52,4)"
      ]
    },
    {
      "cell_type": "markdown",
      "metadata": {
        "id": "uiqIJmKkybQ8"
      },
      "source": [
        "2. На входной двери подъезда установлен кодовый замок, содержащий десять кнопок с цифрами от 0 до 9. Код содержит три цифры, которые нужно нажать одновременно. Какова вероятность того, что человек, не знающий код, откроет дверь с первой попытки?\n"
      ]
    },
    {
      "cell_type": "markdown",
      "metadata": {
        "id": "vN6mIh30ybQ8"
      },
      "source": [
        "Рассуждения следующие: всего возможно выбрать три цифры из десяти С(10,3), Так как порядок нажимания не важен и нажатая кнопка больше не учавствует в выборе (10*9*8). А верная комбинация всего одна. Таким образом, вероятность открыть с первой попытки \n",
        "$P = 1 / С(10,3) = 0.0084 $\n",
        "\n",
        "Если бы был важен порядок нажатия, то вероятность была бы 1/A(10,3) = 0.0014"
      ]
    },
    {
      "cell_type": "code",
      "execution_count": 9,
      "metadata": {
        "colab": {
          "base_uri": "https://localhost:8080/"
        },
        "id": "JEtNMkZKybQ9",
        "outputId": "1226d4f0-5fe2-4e12-8122-efec6fc8a919"
      },
      "outputs": [
        {
          "output_type": "stream",
          "name": "stdout",
          "text": [
            "0.008333333333333333\n"
          ]
        }
      ],
      "source": [
        "print(1/combinations(10,3))\n"
      ]
    },
    {
      "cell_type": "markdown",
      "metadata": {
        "id": "X11fgb3cybQ9"
      },
      "source": [
        "\n",
        "    В ящике имеется 15 деталей, из которых 9 окрашены. Рабочий случайным образом извлекает 3 детали. Какова вероятность того, что все извлеченные детали окрашены?\n"
      ]
    },
    {
      "cell_type": "code",
      "execution_count": 10,
      "metadata": {
        "colab": {
          "base_uri": "https://localhost:8080/"
        },
        "id": "itHgsrgrybQ9",
        "outputId": "8b421f85-adf8-43bb-ce33-da89f7734f62"
      },
      "outputs": [
        {
          "output_type": "execute_result",
          "data": {
            "text/plain": [
              "0.18461538461538463"
            ]
          },
          "metadata": {},
          "execution_count": 10
        }
      ],
      "source": [
        "combinations(9,3)/combinations(15,3)"
      ]
    },
    {
      "cell_type": "markdown",
      "metadata": {
        "id": "lYHAmpzbybQ9"
      },
      "source": [
        "    В лотерее 100 билетов. Из них 2 выигрышных. Какова вероятность того, что 2 приобретенных билета окажутся выигрышными?"
      ]
    },
    {
      "cell_type": "code",
      "execution_count": 11,
      "metadata": {
        "colab": {
          "base_uri": "https://localhost:8080/"
        },
        "id": "zh_jcqVJybQ9",
        "outputId": "b1a00bde-0f8f-4334-83e1-f8d8040b1a13"
      },
      "outputs": [
        {
          "output_type": "execute_result",
          "data": {
            "text/plain": [
              "0.00020202020202020202"
            ]
          },
          "metadata": {},
          "execution_count": 11
        }
      ],
      "source": [
        "combinations(2,2)/combinations(100,2)"
      ]
    }
  ],
  "metadata": {
    "kernelspec": {
      "display_name": "Python 3",
      "language": "python",
      "name": "python3"
    },
    "language_info": {
      "codemirror_mode": {
        "name": "ipython",
        "version": 3
      },
      "file_extension": ".py",
      "mimetype": "text/x-python",
      "name": "python",
      "nbconvert_exporter": "python",
      "pygments_lexer": "ipython3",
      "version": "3.7.4"
    },
    "colab": {
      "provenance": []
    }
  },
  "nbformat": 4,
  "nbformat_minor": 0
}