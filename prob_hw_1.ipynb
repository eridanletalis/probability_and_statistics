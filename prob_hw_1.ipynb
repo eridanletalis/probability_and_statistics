{
 "cells": [
  {
   "cell_type": "markdown",
   "metadata": {},
   "source": [
    "Урок 1.\n",
    "\n",
    "    Из колоды в 52 карты извлекаются случайным образом 4 карты. a) Найти вероятность того, что все карты – крести. б) Найти вероятность, что среди 4-х карт окажется хотя бы один туз.\n",
    "    "
   ]
  },
  {
   "cell_type": "markdown",
   "metadata": {},
   "source": [
    "\n",
    "\n",
    "4 карты из колоды можно вытянуть С(52,4) способами.\n",
    "\n",
    "а) Вероятности того, что 4 карты имеют масть \"крести\" соответствует цепочка зависимых событий: \"достали одну крестовую из 13 при 52 возможных случаев\" -> \"достали одну крестовую из 12 при 51 возможном случае\" -> \"достали одну крестовую из 11 при 50 возможных случаев\" -> \"достали одну крестовую из 10 при 49 возможных случаях\"\n",
    "C(13,1) / C(52,1)  * C(12,1) / C (51,1) * C(11,1) / C (50,1) * C(10,1) / C (49,1) = 0.00264 = 2.64%\n",
    "\n",
    "б)Возможны четыре ситуации:\n",
    "\n",
    "    Один туз, все остальные карты - нет\n",
    "    Два туза.\n",
    "    Три туза.\n",
    "    Четыре туза. События независимы и произойти может только одно из четырёх. В колоде 4 туза. Один из четрыхёх можно выбрать С(4,1) способами, остальные карты С(48,3) Для остальных способов размышления аналогичны. Далее число способов можно просуммировать. и разделить на общее число возможных ситуаций  С(52,4)\n",
    "    0,028\n",
    "\n"
   ]
  },
  {
   "cell_type": "code",
   "execution_count": 2,
   "metadata": {},
   "outputs": [],
   "source": [
    "import numpy as np\n",
    "\n",
    "def permutations(n: int) -> int:\n",
    "   \n",
    "    return np.math.factorial(n)\n",
    "\n",
    "def combinations(n: int, k: int) -> int:\n",
    "    \n",
    "    return np.math.factorial(n) // (np.math.factorial(k)*np.math.factorial(n-k))\n",
    " \n",
    "\n",
    "def arrangement(n: int, k: int) -> int:\n",
    "    \n",
    "    return combinations(n,k)*perm(k)\n"
   ]
  },
  {
   "cell_type": "code",
   "execution_count": 9,
   "metadata": {},
   "outputs": [
    {
     "name": "stdout",
     "output_type": "stream",
     "text": [
      "0.0026410564225690276\n"
     ]
    }
   ],
   "source": [
    "# 1a\n",
    "print(combinations(13,1)/combinations(52,1) * \\\n",
    "combinations(12,1)/combinations(51,1) *  \\\n",
    "combinations(11,1)/combinations(50,1)*  \\\n",
    "combinations(10,1)/combinations(49,1))"
   ]
  },
  {
   "cell_type": "code",
   "execution_count": 13,
   "metadata": {},
   "outputs": [
    {
     "data": {
      "text/plain": [
       "0.0682907008957429"
      ]
     },
     "execution_count": 13,
     "metadata": {},
     "output_type": "execute_result"
    }
   ],
   "source": [
    "#1б\n",
    "(combinations(4,1) * combinations(48,3) + combinations(4,2) * combinations(48,2) + \\\n",
    "combinations(4,3) * combinations(48,1) + combinations(4,4) * combinations(48,0)  )  / combinations(52,4)"
   ]
  },
  {
   "cell_type": "markdown",
   "metadata": {},
   "source": [
    "2. На входной двери подъезда установлен кодовый замок, содержащий десять кнопок с цифрами от 0 до 9. Код содержит три цифры, которые нужно нажать одновременно. Какова вероятность того, что человек, не знающий код, откроет дверь с первой попытки?\n"
   ]
  },
  {
   "cell_type": "markdown",
   "metadata": {},
   "source": [
    "Рассуждения следующие: всего возможно выбрать три цифры из десяти С(10,3), Так как важен порядок нажимания не важен и нажатая кнопка больше не учавствует в выборе (10*9*8). А верная комбинация всего одна. Таким образом, вероятность открыть с первой попытки = 1/С(10,3) = 0.0084\n",
    "\n",
    "Если бы был важен порядок нажатия, то вероятность была бы 1/A(10,3) = 0.0014"
   ]
  },
  {
   "cell_type": "code",
   "execution_count": 20,
   "metadata": {},
   "outputs": [
    {
     "name": "stdout",
     "output_type": "stream",
     "text": [
      "0.008333333333333333\n"
     ]
    }
   ],
   "source": [
    "print(1/combinations(10,3))\n"
   ]
  },
  {
   "cell_type": "markdown",
   "metadata": {},
   "source": [
    "\n",
    "    В ящике имеется 15 деталей, из которых 9 окрашены. Рабочий случайным образом извлекает 3 детали. Какова вероятность того, что все извлеченные детали окрашены?\n"
   ]
  },
  {
   "cell_type": "code",
   "execution_count": 21,
   "metadata": {},
   "outputs": [
    {
     "data": {
      "text/plain": [
       "0.18461538461538463"
      ]
     },
     "execution_count": 21,
     "metadata": {},
     "output_type": "execute_result"
    }
   ],
   "source": [
    "combinations(9,3)/combinations(15,3)"
   ]
  },
  {
   "cell_type": "markdown",
   "metadata": {},
   "source": [
    "    В лотерее 100 билетов. Из них 2 выигрышных. Какова вероятность того, что 2 приобретенных билета окажутся выигрышными?"
   ]
  },
  {
   "cell_type": "code",
   "execution_count": 23,
   "metadata": {},
   "outputs": [
    {
     "data": {
      "text/plain": [
       "0.00020202020202020202"
      ]
     },
     "execution_count": 23,
     "metadata": {},
     "output_type": "execute_result"
    }
   ],
   "source": [
    "combinations(2,2)/combinations(100,2)"
   ]
  }
 ],
 "metadata": {
  "kernelspec": {
   "display_name": "Python 3",
   "language": "python",
   "name": "python3"
  },
  "language_info": {
   "codemirror_mode": {
    "name": "ipython",
    "version": 3
   },
   "file_extension": ".py",
   "mimetype": "text/x-python",
   "name": "python",
   "nbconvert_exporter": "python",
   "pygments_lexer": "ipython3",
   "version": "3.7.4"
  }
 },
 "nbformat": 4,
 "nbformat_minor": 2
}
