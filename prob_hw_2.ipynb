{
  "cells": [
    {
      "cell_type": "code",
      "execution_count": 1,
      "metadata": {
        "id": "d1VQ1B6SVFEE",
        "outputId": "7c78292b-734c-4d22-9680-221c617859ef",
        "colab": {
          "base_uri": "https://localhost:8080/"
        }
      },
      "outputs": [
        {
          "output_type": "execute_result",
          "data": {
            "text/plain": [
              "55"
            ]
          },
          "metadata": {},
          "execution_count": 1
        }
      ],
      "source": [
        "import numpy as np\n",
        "\n",
        "# n - число испытаний\n",
        "# p - вероятность появления события\n",
        "np.random.binomial(n=100, p=0.5)"
      ]
    },
    {
      "cell_type": "markdown",
      "metadata": {
        "id": "I7OXT3IRVFEH"
      },
      "source": [
        "Вероятность того, что стрелок попадет в мишень, выстрелив один раз, равна 0.8. Стрелок выстрелил 100 раз. Найдите вероятность того, что стрелок попадет в цель ровно 85 раз.\n",
        "\n",
        "$P_{100}(n=85)=C^k_n * p^k * q^(n-k) = C^{85}_{100} * 0.8^{85} * 0.2^{15} = 0.0481 $"
      ]
    },
    {
      "cell_type": "code",
      "execution_count": 2,
      "metadata": {
        "id": "77kUKbsOVFEI",
        "outputId": "e0966d25-2b60-429e-b061-6e25d4670397",
        "colab": {
          "base_uri": "https://localhost:8080/"
        }
      },
      "outputs": [
        {
          "output_type": "stream",
          "name": "stdout",
          "text": [
            " По Бернулли вероятность равна 0.0481\n",
            " По Пуассону вероятность равна 0.0371\n"
          ]
        }
      ],
      "source": [
        "# Исходные данные\n",
        "\n",
        "n = 100\n",
        "m = 85\n",
        "p = 0.8\n",
        "\n",
        "# Применим формулу Бернулли, т.к. происходят независимые испытание и вероятность успеха высокая\n",
        "\n",
        "def combinations(n: int, k: int) -> int:\n",
        "    \n",
        "    return np.math.factorial(n) // (np.math.factorial(k)*np.math.factorial(n-k))\n",
        "\n",
        "bernully = combinations(n, m) * (p ** m) * ((1 - p) ** (n - m))\n",
        "print(f\" По Бернулли вероятность равна {bernully:0.4f}\")\n",
        "\n",
        "# Применим формулу Пуассона, исключительно ради сравнения результата, в результат принимать Бернулли\n",
        "\n",
        "lambda_ = n * p\n",
        "\n",
        "poisson = (lambda_**m / np.math.factorial(m)) * np.exp(-lambda_)\n",
        "print(f\" По Пуассону вероятность равна {poisson:0.4f}\")"
      ]
    },
    {
      "cell_type": "markdown",
      "metadata": {
        "id": "e0dhrVYGVFEJ"
      },
      "source": [
        "Вероятность того, что лампочка перегорит в течение первого дня эксплуатации, равна 0.0004. В жилом комплексе после ремонта в один день включили 5000 новых лампочек. Какова вероятность, что ни одна из них не перегорит в первый день? Какова вероятность, что перегорят ровно две?\n",
        "\n",
        "$P_{5000}(m=0) = \\frac{\\lambda^{0}}{0!} * e^{-\\lambda} = \\frac{{5000*0.0004}^{0}}{0!} * e^{-5000*0.0004} = 0.1353   $\n",
        "\n",
        "$P_{5000}(m=2) = \\frac{\\lambda^{2}}{2!} * e^{-\\lambda} = \\frac{{5000*0.0004}^{2}}{2!} * e^{-2} = 0.2707   $"
      ]
    },
    {
      "cell_type": "code",
      "execution_count": 4,
      "metadata": {
        "id": "kUp8Cf3ZVFEK",
        "outputId": "9e9ea807-337d-43ed-c6a9-ac32fb84ad80",
        "colab": {
          "base_uri": "https://localhost:8080/"
        }
      },
      "outputs": [
        {
          "output_type": "stream",
          "name": "stdout",
          "text": [
            "Вероятность того, то ни одна лампочка не перегорит равна 0.1353\n",
            "Вероятность того, то перегорят ровно две 0.2707\n"
          ]
        }
      ],
      "source": [
        "n = 5000\n",
        "p = 0.0004\n",
        "m = 0\n",
        "\n",
        "# Попробуем найти вероятность события через формулу распределения Пуасснона, приняв m = 0 (событие произошло\n",
        "# ровно норль раз), т.к. ряд событий \"лампочка перегорела\" независимы и вероятность меньше 0,1\n",
        "\n",
        "lambda_ = n * p # \"среднее ожидаемое\"  вышедших из строя ламочек\n",
        "\n",
        "poisson = (lambda_ ** m / np.math.factorial(m)) * np.exp(-lambda_)\n",
        "\n",
        "print(f\"Вероятность того, то ни одна лампочка не перегорит равна {poisson:0.04f}\")\n",
        "\n",
        "m = 2\n",
        "lambda_ = n * p\n",
        "\n",
        "\n",
        "poisson = (lambda_**m / np.math.factorial(m)) * np.exp(-lambda_)\n",
        "\n",
        "print(f\"Вероятность того, то перегорят ровно две {poisson:.4f}\")"
      ]
    },
    {
      "cell_type": "markdown",
      "metadata": {
        "id": "u0BTqp6DVFEL"
      },
      "source": [
        "Монету подбросили 144 раза. Какова вероятность, что орел выпадет ровно 70 раз?\n",
        "\n",
        "\n",
        "$P_{144}(k=70) = C^{70}_{144}*0.5^{70}*{(1-0.5)}^{144-70} = 0.0628$"
      ]
    },
    {
      "cell_type": "code",
      "execution_count": 6,
      "metadata": {
        "id": "Zhxr1OenVFEL",
        "outputId": "c478fcfd-4f90-484f-b426-26a807f60640",
        "colab": {
          "base_uri": "https://localhost:8080/"
        }
      },
      "outputs": [
        {
          "output_type": "stream",
          "name": "stdout",
          "text": [
            " По Бернулли вероятность равна 0.0628\n"
          ]
        }
      ],
      "source": [
        "# В задаче присутствует небольшое количество испытаний и вероятность, выше 0.1, а, значит, дело снова за \n",
        "# законом Бернулли\n",
        "n = 144\n",
        "p = 0.5\n",
        "m = 70\n",
        "\n",
        "bernully = combinations(n, m) * (p ** m) * ((1 - p) ** (n - m))\n",
        "print(f\" По Бернулли вероятность равна {bernully:0.4f}\")"
      ]
    },
    {
      "cell_type": "markdown",
      "metadata": {
        "id": "gYZJqzUMVFEM"
      },
      "source": [
        "В первом ящике находится 10 мячей, из которых 7 - белые. Во втором ящике - 11 мячей, из которых 9 белых. Из каждого ящика вытаскивают случайным образом по два мяча. (1)Какова вероятность того, что все мячи белые? (2) Какова вероятность того, что ровно два мяча белые? (3) Какова вероятность того, что хотя бы один мяч белый?"
      ]
    },
    {
      "cell_type": "code",
      "execution_count": 14,
      "metadata": {
        "id": "sma7gqwgVFEN",
        "outputId": "80e89058-b1c2-432d-afb6-95970029b578",
        "colab": {
          "base_uri": "https://localhost:8080/"
        }
      },
      "outputs": [
        {
          "output_type": "stream",
          "name": "stdout",
          "text": [
            "Вероятность вытащить все белые шары равна 0.3055\n",
            "Вероятность вытащить ровно два белых шара равна 0.2048\n",
            "Вероятность вытащить один белый шар равна 0.9988\n"
          ]
        }
      ],
      "source": [
        "# Рассуждения:\n",
        "\"\"\"\n",
        "Вероятность извлечения белого мяча из первого ящика равна 7/10. Из второго - 9/11.\n",
        "\n",
        "(1) Первое событие успешно, когда у нас из первого ящика достают два белых шара и из второго также. События \n",
        "зависимые, используем умножение вероятностей и сочения C(7,2)/C(10,2) * C(9,2)/C(11,2)\n",
        "(2) Успех события \"ровно два мяча белые\" наступает в трёх случаях: ББ | ЧЧ, ЧЧ | ББ, БЧ | БЧ. Здесь речь идёт\n",
        "о трёх возможных независимых событий, поэтому верояности каждого можно сложить. Сами вероятности считаме \n",
        "аналогично (1)\n",
        "(3) Решить можно аналогично (2), приняв события ЧЧ | ЧБ + ЧЧ | БЧ + ЧБ | ЧЧ + БЧ | ЧЧ, а можно использовать\n",
        "обратное собитие - все шары чёрные и найти обратное ему C(3,2) / C(10,2) * C(2,2) / C(11,2)\n",
        "\"\"\"\n",
        "\n",
        "P1 = (combinations(7,2)/combinations(10,2))*(combinations(9,2)/combinations(11,2))\n",
        "\n",
        "print(f\"Вероятность вытащить все белые шары равна {P1:.4f}\")\n",
        "\n",
        "p_a = (combinations(7,2)/combinations(10,2))*(combinations(2,2)/combinations(11,2))\n",
        "p_b = (combinations(3,2)/combinations(10,2))*(combinations(9,2)/combinations(11,2))\n",
        "p_c = ((combinations(7,1) * combinations(3,1))/combinations(10,2))* \\\n",
        "((combinations(9,1) * combinations(2,1))/combinations(11,2))\n",
        "\n",
        "print(f\"Вероятность вытащить ровно два белых шара равна {p_a + p_b + p_c:.4f}\")\n",
        "\n",
        "P3 = combinations(3,2) / combinations(10,2) * (combinations(2,2) / combinations(11,2))\n",
        "P3 = 1 - P3\n",
        "\n",
        "print(f\"Вероятность вытащить один белый шар равна {P3:.4f}\")"
      ]
    }
  ],
  "metadata": {
    "kernelspec": {
      "display_name": "Python 3",
      "language": "python",
      "name": "python3"
    },
    "language_info": {
      "codemirror_mode": {
        "name": "ipython",
        "version": 3
      },
      "file_extension": ".py",
      "mimetype": "text/x-python",
      "name": "python",
      "nbconvert_exporter": "python",
      "pygments_lexer": "ipython3",
      "version": "3.7.4"
    },
    "colab": {
      "provenance": []
    }
  },
  "nbformat": 4,
  "nbformat_minor": 0
}