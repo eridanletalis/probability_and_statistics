{
  "nbformat": 4,
  "nbformat_minor": 0,
  "metadata": {
    "colab": {
      "provenance": [],
      "authorship_tag": "ABX9TyMaRbpX1JWfrjXZNZioEdWG",
      "include_colab_link": true
    },
    "kernelspec": {
      "name": "python3",
      "display_name": "Python 3"
    },
    "language_info": {
      "name": "python"
    }
  },
  "cells": [
    {
      "cell_type": "markdown",
      "metadata": {
        "id": "view-in-github",
        "colab_type": "text"
      },
      "source": [
        "<a href=\"https://colab.research.google.com/github/eridanletalis/probability_and_statistics/blob/master/prob_hw_10.ipynb\" target=\"_parent\"><img src=\"https://colab.research.google.com/assets/colab-badge.svg\" alt=\"Open In Colab\"/></a>"
      ]
    },
    {
      "cell_type": "markdown",
      "source": [
        "Провести дисперсионный анализ для определения того, есть ли различия среднего роста среди взрослых футболистов, хоккеистов и штангистов.\n",
        "\n",
        "Футболисты: 173, 175, 180, 178, 177, 185, 183, 182.\n",
        "\n",
        "Хоккеисты: 177, 179, 180, 188, 177, 172, 171, 184, 180.\n",
        "\n",
        "Штангисты: 172, 173, 169, 177, 166, 180, 178, 177, 172, 166, 170."
      ],
      "metadata": {
        "id": "UM4pjIcQunbB"
      }
    },
    {
      "cell_type": "code",
      "execution_count": 1,
      "metadata": {
        "id": "IgFvLJ9M5E7I"
      },
      "outputs": [],
      "source": [
        "import numpy as np\n",
        "import scipy.stats as stats\n",
        "import matplotlib.pyplot as plt\n",
        "from statsmodels.stats.multicomp import pairwise_tukeyhsd\n",
        "\n",
        "import pandas as pd"
      ]
    },
    {
      "cell_type": "code",
      "source": [
        "footboll_players = np.array([173, 175, 180, 178, 177, 185, 183, 182])\n",
        "hockey_players = np.array([177, 179, 180, 188, 177, 172, 171, 184, 180])\n",
        "weightlifters = np.array([172, 173, 169, 177, 166, 180, 178, 177, 172, 166, 170])"
      ],
      "metadata": {
        "id": "oP_vvHGHu7lX"
      },
      "execution_count": 45,
      "outputs": []
    },
    {
      "cell_type": "code",
      "source": [
        "len(footboll_players)\n"
      ],
      "metadata": {
        "colab": {
          "base_uri": "https://localhost:8080/"
        },
        "id": "NotI-1SVQLOD",
        "outputId": "6062f8e3-1c77-48ef-d03b-22c0bd54cca0"
      },
      "execution_count": 8,
      "outputs": [
        {
          "output_type": "execute_result",
          "data": {
            "text/plain": [
              "8"
            ]
          },
          "metadata": {},
          "execution_count": 8
        }
      ]
    },
    {
      "cell_type": "code",
      "source": [
        "len(hockey_players)"
      ],
      "metadata": {
        "colab": {
          "base_uri": "https://localhost:8080/"
        },
        "id": "RsKvxUUPQRj9",
        "outputId": "e7ce210e-cb9c-4abe-cc40-3b1848889d1d"
      },
      "execution_count": 9,
      "outputs": [
        {
          "output_type": "execute_result",
          "data": {
            "text/plain": [
              "9"
            ]
          },
          "metadata": {},
          "execution_count": 9
        }
      ]
    },
    {
      "cell_type": "code",
      "source": [
        "len(weightlifters)"
      ],
      "metadata": {
        "colab": {
          "base_uri": "https://localhost:8080/"
        },
        "id": "GFJTF-jBQSPp",
        "outputId": "7e0e4dff-d66f-4feb-fb30-ce58cdc92578"
      },
      "execution_count": 10,
      "outputs": [
        {
          "output_type": "execute_result",
          "data": {
            "text/plain": [
              "11"
            ]
          },
          "metadata": {},
          "execution_count": 10
        }
      ]
    },
    {
      "cell_type": "code",
      "source": [],
      "metadata": {
        "id": "3nILL15WVeTa"
      },
      "execution_count": null,
      "outputs": []
    },
    {
      "cell_type": "markdown",
      "source": [
        "Прежде чем мы сможем провести однофакторный дисперсионный анализ, мы должны сначала проверить, чтобы убедиться, что выполняются три предположения.\n",
        "\n",
        "1. Нормальность. Каждая выборка была взята из нормально распределенной популяции. Выполним с помощью теста Шапиро\n",
        "\n",
        "2. Равные дисперсии — дисперсии совокупностей, из которых взяты выборки, равны. Будет выполнено с помощью теста Бартлетта.\n",
        "\n",
        "3. Независимость. В эксперименте принимало участие три разных группы людей, выборки независимы."
      ],
      "metadata": {
        "id": "azzec5c9VfCR"
      }
    },
    {
      "cell_type": "markdown",
      "source": [
        "Выполним проверку на нормальность"
      ],
      "metadata": {
        "id": "CO1U_FZE26XA"
      }
    },
    {
      "cell_type": "code",
      "source": [
        "stats.shapiro(footboll_players)"
      ],
      "metadata": {
        "colab": {
          "base_uri": "https://localhost:8080/"
        },
        "id": "Qyvw8WfZ5Hbh",
        "outputId": "a1c9472e-8b92-4843-e72c-953c02bf325b"
      },
      "execution_count": 3,
      "outputs": [
        {
          "output_type": "execute_result",
          "data": {
            "text/plain": [
              "ShapiroResult(statistic=0.9775082468986511, pvalue=0.9495404362678528)"
            ]
          },
          "metadata": {},
          "execution_count": 3
        }
      ]
    },
    {
      "cell_type": "code",
      "source": [
        "stats.shapiro(hockey_players)"
      ],
      "metadata": {
        "colab": {
          "base_uri": "https://localhost:8080/"
        },
        "id": "vOaJKHpj5ITD",
        "outputId": "1305e4ef-dfc3-4c32-b744-b65598af7b59"
      },
      "execution_count": 4,
      "outputs": [
        {
          "output_type": "execute_result",
          "data": {
            "text/plain": [
              "ShapiroResult(statistic=0.9579196572303772, pvalue=0.7763139009475708)"
            ]
          },
          "metadata": {},
          "execution_count": 4
        }
      ]
    },
    {
      "cell_type": "code",
      "source": [
        "stats.shapiro(weightlifters)"
      ],
      "metadata": {
        "colab": {
          "base_uri": "https://localhost:8080/"
        },
        "id": "RkRNOyAP5IWT",
        "outputId": "31e2aa1a-383b-4497-e6d5-27464a7b8c88"
      },
      "execution_count": 5,
      "outputs": [
        {
          "output_type": "execute_result",
          "data": {
            "text/plain": [
              "ShapiroResult(statistic=0.9386808276176453, pvalue=0.5051165223121643)"
            ]
          },
          "metadata": {},
          "execution_count": 5
        }
      ]
    },
    {
      "cell_type": "markdown",
      "source": [
        "Во всех случаях pvalue выше уровня значимости, следовательно, принимаем гипотезу о нормальности."
      ],
      "metadata": {
        "id": "Z1675UZDVthR"
      }
    },
    {
      "cell_type": "markdown",
      "source": [
        "Проверим, равны ли дисперсии между этими группами с помощью теста Бартлетта (нулевая гипотеза) или есть отличия."
      ],
      "metadata": {
        "id": "LWTnAN1PU4aw"
      }
    },
    {
      "cell_type": "code",
      "source": [
        "stats.bartlett(footboll_players, hockey_players, weightlifters)"
      ],
      "metadata": {
        "colab": {
          "base_uri": "https://localhost:8080/"
        },
        "id": "b_j16AXuQ2sy",
        "outputId": "8f0b70f2-c890-4db7-c28c-ee6d07e1287c"
      },
      "execution_count": 11,
      "outputs": [
        {
          "output_type": "execute_result",
          "data": {
            "text/plain": [
              "BartlettResult(statistic=0.4640521043406442, pvalue=0.7929254656083131)"
            ]
          },
          "metadata": {},
          "execution_count": 11
        }
      ]
    },
    {
      "cell_type": "markdown",
      "source": [
        "Так как pvalue выше уровня значимости, то гипотезу о равных дисперсиях мы принимаем"
      ],
      "metadata": {
        "id": "JM7OkJhuU-wl"
      }
    },
    {
      "cell_type": "markdown",
      "source": [
        "Данные во всех группах распределены нормально, они независимы и гипотезы равны. Можно выполнять ANOVA"
      ],
      "metadata": {
        "id": "SQ5TybdT5OPx"
      }
    },
    {
      "cell_type": "code",
      "source": [
        "f = stats.f_oneway(footboll_players, hockey_players, weightlifters)\n",
        "f"
      ],
      "metadata": {
        "colab": {
          "base_uri": "https://localhost:8080/"
        },
        "id": "e8MYd5pW5WLN",
        "outputId": "cefeedb9-f229-42d1-c0f7-7d80cd140512"
      },
      "execution_count": 7,
      "outputs": [
        {
          "output_type": "execute_result",
          "data": {
            "text/plain": [
              "F_onewayResult(statistic=5.500053450812596, pvalue=0.010482206918698694)"
            ]
          },
          "metadata": {},
          "execution_count": 7
        }
      ]
    },
    {
      "cell_type": "markdown",
      "source": [
        "Принимаем $\\alpha = 0.05$. Т.к. $p-value < \\alpha$, то принимаем гипотезу о том, что средний рост среди футболистов, хоккеистов и штангистов хотя бы в одной группе существенно отличается. (отвергаем нулевую гипотезу в пользу альтернативной)\n",
        "\n",
        "Однако, на уровне значимости $\\alpha = 0.01  $ $ pvalue > \\alpha$, а, значит, можно говорить о том, что средние в группах на этом уровне значимости одинаковый. "
      ],
      "metadata": {
        "id": "HOLRNbjo5dwO"
      }
    },
    {
      "cell_type": "markdown",
      "source": [],
      "metadata": {
        "id": "1ItbCca3Ql_s"
      }
    },
    {
      "cell_type": "markdown",
      "source": [
        "Попробуем найти, между какими группами есть отличия. Так как выборки отличаются по количеству, сначала попробуем парные тесты между группами. Всего таких проверок будет 3:\n",
        "футболисты-хоккеисты\n",
        "футболисты-штангисты\n",
        "хоккеисты-штангисты"
      ],
      "metadata": {
        "id": "yRzYKM9xOZBX"
      }
    },
    {
      "cell_type": "code",
      "source": [
        "stats.ttest_ind(footboll_players, hockey_players)"
      ],
      "metadata": {
        "colab": {
          "base_uri": "https://localhost:8080/"
        },
        "id": "UJopyL8OWj3i",
        "outputId": "79f780c0-6c93-4ac3-dfa6-defbe092c79a"
      },
      "execution_count": 12,
      "outputs": [
        {
          "output_type": "execute_result",
          "data": {
            "text/plain": [
              "Ttest_indResult(statistic=0.19614731169591437, pvalue=0.8471274829862304)"
            ]
          },
          "metadata": {},
          "execution_count": 12
        }
      ]
    },
    {
      "cell_type": "markdown",
      "source": [
        "pvalue больше уровня значимости, следовательно, нет оснований считать, что рост футболистов и хоккеистов статистически не отличается"
      ],
      "metadata": {
        "id": "MA4yI0eNXL6N"
      }
    },
    {
      "cell_type": "code",
      "source": [
        "stats.ttest_ind(footboll_players, weightlifters)"
      ],
      "metadata": {
        "colab": {
          "base_uri": "https://localhost:8080/"
        },
        "id": "vtifG-YbXGuU",
        "outputId": "285f0fce-2f4c-47b9-d5c7-dabb27ff745c"
      },
      "execution_count": 13,
      "outputs": [
        {
          "output_type": "execute_result",
          "data": {
            "text/plain": [
              "Ttest_indResult(statistic=3.03855188243496, pvalue=0.007418502503470327)"
            ]
          },
          "metadata": {},
          "execution_count": 13
        }
      ]
    },
    {
      "cell_type": "markdown",
      "source": [
        "pvalue  ниже уровня значимости, следовательно, есть основания принять альтернативную гипотезу о том, что рост футболистов и штангистов статистически отличается."
      ],
      "metadata": {
        "id": "82kxUOdEZQtH"
      }
    },
    {
      "cell_type": "code",
      "source": [
        "stats.ttest_ind(weightlifters, hockey_players)"
      ],
      "metadata": {
        "colab": {
          "base_uri": "https://localhost:8080/"
        },
        "id": "z5MhUk8TXG1W",
        "outputId": "b6624996-03df-4731-b901-972038d80e8b"
      },
      "execution_count": 14,
      "outputs": [
        {
          "output_type": "execute_result",
          "data": {
            "text/plain": [
              "Ttest_indResult(statistic=-2.6191601707417584, pvalue=0.017384077963160167)"
            ]
          },
          "metadata": {},
          "execution_count": 14
        }
      ]
    },
    {
      "cell_type": "markdown",
      "source": [
        "pvalue  ниже уровня значимости, следовательно, есть основания принять альтернативную гипотезу о том, что рост хоккеистов и штангистов статистически отличается на уровне значимости 0.05, но не на уровне значимости 0.01."
      ],
      "metadata": {
        "id": "WGT83JX6c0dB"
      }
    },
    {
      "cell_type": "markdown",
      "source": [
        "Попробуем проверить гипотезы о том, в какой группе средний рост больше"
      ],
      "metadata": {
        "id": "oCTWD6zac_e6"
      }
    },
    {
      "cell_type": "code",
      "source": [
        "stats.ttest_ind(footboll_players, hockey_players, alternative='greater')"
      ],
      "metadata": {
        "colab": {
          "base_uri": "https://localhost:8080/"
        },
        "id": "4q-PLgh4dG4U",
        "outputId": "81a14c60-a624-411f-8f93-9fc3fa1df4bb"
      },
      "execution_count": 18,
      "outputs": [
        {
          "output_type": "execute_result",
          "data": {
            "text/plain": [
              "Ttest_indResult(statistic=0.19614731169591437, pvalue=0.4235637414931152)"
            ]
          },
          "metadata": {},
          "execution_count": 18
        }
      ]
    },
    {
      "cell_type": "markdown",
      "source": [
        "Отвергаем гипотезу о том, что рост футболистов больше, чем рост хоккеистов"
      ],
      "metadata": {
        "id": "J_IyTrNoddr0"
      }
    },
    {
      "cell_type": "code",
      "source": [
        "stats.ttest_ind(footboll_players, weightlifters, alternative='greater')"
      ],
      "metadata": {
        "colab": {
          "base_uri": "https://localhost:8080/"
        },
        "id": "-V0l69FPdRaV",
        "outputId": "53a8bfab-ef33-4c89-d30e-46e3228679fb"
      },
      "execution_count": 19,
      "outputs": [
        {
          "output_type": "execute_result",
          "data": {
            "text/plain": [
              "Ttest_indResult(statistic=3.03855188243496, pvalue=0.0037092512517351633)"
            ]
          },
          "metadata": {},
          "execution_count": 19
        }
      ]
    },
    {
      "cell_type": "markdown",
      "source": [
        "Принимаем альтернативную гипотезу о том, что рост футболистов ниже, чем рост штангистов"
      ],
      "metadata": {
        "id": "33NcO1FUdjpX"
      }
    },
    {
      "cell_type": "code",
      "source": [
        "stats.ttest_ind(weightlifters, hockey_players, alternative='greater')"
      ],
      "metadata": {
        "colab": {
          "base_uri": "https://localhost:8080/"
        },
        "id": "XBBmmz0ydRg1",
        "outputId": "e4e27323-248c-47f1-a624-189cd0d0becc"
      },
      "execution_count": 20,
      "outputs": [
        {
          "output_type": "execute_result",
          "data": {
            "text/plain": [
              "Ttest_indResult(statistic=-2.6191601707417584, pvalue=0.9913079610184199)"
            ]
          },
          "metadata": {},
          "execution_count": 20
        }
      ]
    },
    {
      "cell_type": "markdown",
      "source": [
        "Принимаем гипотезу о том, что рост штангистов больше, чем росто хоккеистов."
      ],
      "metadata": {
        "id": "jhB7KKtmdpW8"
      }
    },
    {
      "cell_type": "markdown",
      "source": [
        "Таким образом, можно утверждать, что росто штангистов самый большой, далее идут футболисты, затем хоккеисты"
      ],
      "metadata": {
        "id": "D_10B643dubg"
      }
    },
    {
      "cell_type": "code",
      "source": [
        "import statsmodels.api as sm"
      ],
      "metadata": {
        "id": "Xy9mc7hzd9DX"
      },
      "execution_count": 24,
      "outputs": []
    },
    {
      "cell_type": "code",
      "source": [
        "fig = sm.qqplot(weightlifters)\n",
        "plt.grid()\n",
        "plt.show()"
      ],
      "metadata": {
        "colab": {
          "base_uri": "https://localhost:8080/",
          "height": 279
        },
        "id": "ftojt3yRfmVg",
        "outputId": "2c121306-c966-4d20-c3bd-bb58848abd55"
      },
      "execution_count": 29,
      "outputs": [
        {
          "output_type": "display_data",
          "data": {
            "text/plain": [
              "<Figure size 432x288 with 1 Axes>"
            ],
            "image/png": "[encoded data removed]"
          },
          "metadata": {
            "needs_background": "light"
          }
        }
      ]
    },
    {
      "cell_type": "code",
      "source": [
        "fig = sm.qqplot(hockey_players)\n",
        "plt.grid()\n",
        "plt.show()"
      ],
      "metadata": {
        "colab": {
          "base_uri": "https://localhost:8080/",
          "height": 279
        },
        "id": "sHster43fy1L",
        "outputId": "b1effef6-87c5-4cae-f968-3ff92dd59296"
      },
      "execution_count": 30,
      "outputs": [
        {
          "output_type": "display_data",
          "data": {
            "text/plain": [
              "<Figure size 432x288 with 1 Axes>"
            ],
            "image/png": "[encoded data removed]"
          },
          "metadata": {
            "needs_background": "light"
          }
        }
      ]
    },
    {
      "cell_type": "code",
      "source": [
        "fig = sm.qqplot(footboll_players)\n",
        "plt.grid()\n",
        "plt.show()"
      ],
      "metadata": {
        "colab": {
          "base_uri": "https://localhost:8080/",
          "height": 279
        },
        "id": "4QIY_uiSfy8S",
        "outputId": "cc572e31-0425-40ee-da6b-d34642e77528"
      },
      "execution_count": 31,
      "outputs": [
        {
          "output_type": "display_data",
          "data": {
            "text/plain": [
              "<Figure size 432x288 with 1 Axes>"
            ],
            "image/png": "[encoded data removed]"
          },
          "metadata": {
            "needs_background": "light"
          }
        }
      ]
    },
    {
      "cell_type": "markdown",
      "source": [
        "Попробуем обогатить все наборы до 11 и выполнить тест Тьюки\n",
        "Добавим футболистам 3 средний значения, а хоккеистам 2"
      ],
      "metadata": {
        "id": "VXGiKhVfjh_v"
      }
    },
    {
      "cell_type": "code",
      "source": [
        "footboll_players = np.append(footboll_players, np.repeat(footboll_players.mean(), repeats=3))"
      ],
      "metadata": {
        "id": "zhRAqYNblGeM"
      },
      "execution_count": 53,
      "outputs": []
    },
    {
      "cell_type": "code",
      "source": [
        "hockey_players = np.append(hockey_players, np.repeat(hockey_players.mean(), repeats=2))"
      ],
      "metadata": {
        "id": "yEVKpCKslOlo"
      },
      "execution_count": 54,
      "outputs": []
    },
    {
      "cell_type": "code",
      "source": [
        "df = pd.DataFrame({'score': list(np.hstack([footboll_players,hockey_players, weightlifters])), \n",
        "                   'group': np.repeat(['footboll_players', 'hockey_players', 'weightlifters'], repeats=11)})\n",
        "df"
      ],
      "metadata": {
        "colab": {
          "base_uri": "https://localhost:8080/",
          "height": 1000
        },
        "id": "cn946bccOg-a",
        "outputId": "261ad452-d06c-4a8b-89c1-1f239e50bfb0"
      },
      "execution_count": 55,
      "outputs": [
        {
          "output_type": "execute_result",
          "data": {
            "text/plain": [
              "         score             group\n",
              "0   173.000000  footboll_players\n",
              "1   175.000000  footboll_players\n",
              "2   180.000000  footboll_players\n",
              "3   178.000000  footboll_players\n",
              "4   177.000000  footboll_players\n",
              "5   185.000000  footboll_players\n",
              "6   183.000000  footboll_players\n",
              "7   182.000000  footboll_players\n",
              "8   179.125000  footboll_players\n",
              "9   179.125000  footboll_players\n",
              "10  179.125000  footboll_players\n",
              "11  177.000000    hockey_players\n",
              "12  179.000000    hockey_players\n",
              "13  180.000000    hockey_players\n",
              "14  188.000000    hockey_players\n",
              "15  177.000000    hockey_players\n",
              "16  172.000000    hockey_players\n",
              "17  171.000000    hockey_players\n",
              "18  184.000000    hockey_players\n",
              "19  180.000000    hockey_players\n",
              "20  178.666667    hockey_players\n",
              "21  178.666667    hockey_players\n",
              "22  172.000000     weightlifters\n",
              "23  173.000000     weightlifters\n",
              "24  169.000000     weightlifters\n",
              "25  177.000000     weightlifters\n",
              "26  166.000000     weightlifters\n",
              "27  180.000000     weightlifters\n",
              "28  178.000000     weightlifters\n",
              "29  177.000000     weightlifters\n",
              "30  172.000000     weightlifters\n",
              "31  166.000000     weightlifters\n",
              "32  170.000000     weightlifters"
            ],
            "text/html": [
              "\n",
              "  <div id=\"df-eb42d421-0258-491d-99f0-67fd148cc4a2\">\n",
              "    <div class=\"colab-df-container\">\n",
              "      <div>\n",
              "<style scoped>\n",
              "    .dataframe tbody tr th:only-of-type {\n",
              "        vertical-align: middle;\n",
              "    }\n",
              "\n",
              "    .dataframe tbody tr th {\n",
              "        vertical-align: top;\n",
              "    }\n",
              "\n",
              "    .dataframe thead th {\n",
              "        text-align: right;\n",
              "    }\n",
              "</style>\n",
              "<table border=\"1\" class=\"dataframe\">\n",
              "  <thead>\n",
              "    <tr style=\"text-align: right;\">\n",
              "      <th></th>\n",
              "      <th>score</th>\n",
              "      <th>group</th>\n",
              "    </tr>\n",
              "  </thead>\n",
              "  <tbody>\n",
              "    <tr>\n",
              "      <th>0</th>\n",
              "      <td>173.000000</td>\n",
              "      <td>footboll_players</td>\n",
              "    </tr>\n",
              "    <tr>\n",
              "      <th>1</th>\n",
              "      <td>175.000000</td>\n",
              "      <td>footboll_players</td>\n",
              "    </tr>\n",
              "    <tr>\n",
              "      <th>2</th>\n",
              "      <td>180.000000</td>\n",
              "      <td>footboll_players</td>\n",
              "    </tr>\n",
              "    <tr>\n",
              "      <th>3</th>\n",
              "      <td>178.000000</td>\n",
              "      <td>footboll_players</td>\n",
              "    </tr>\n",
              "    <tr>\n",
              "      <th>4</th>\n",
              "      <td>177.000000</td>\n",
              "      <td>footboll_players</td>\n",
              "    </tr>\n",
              "    <tr>\n",
              "      <th>5</th>\n",
              "      <td>185.000000</td>\n",
              "      <td>footboll_players</td>\n",
              "    </tr>\n",
              "    <tr>\n",
              "      <th>6</th>\n",
              "      <td>183.000000</td>\n",
              "      <td>footboll_players</td>\n",
              "    </tr>\n",
              "    <tr>\n",
              "      <th>7</th>\n",
              "      <td>182.000000</td>\n",
              "      <td>footboll_players</td>\n",
              "    </tr>\n",
              "    <tr>\n",
              "      <th>8</th>\n",
              "      <td>179.125000</td>\n",
              "      <td>footboll_players</td>\n",
              "    </tr>\n",
              "    <tr>\n",
              "      <th>9</th>\n",
              "      <td>179.125000</td>\n",
              "      <td>footboll_players</td>\n",
              "    </tr>\n",
              "    <tr>\n",
              "      <th>10</th>\n",
              "      <td>179.125000</td>\n",
              "      <td>footboll_players</td>\n",
              "    </tr>\n",
              "    <tr>\n",
              "      <th>11</th>\n",
              "      <td>177.000000</td>\n",
              "      <td>hockey_players</td>\n",
              "    </tr>\n",
              "    <tr>\n",
              "      <th>12</th>\n",
              "      <td>179.000000</td>\n",
              "      <td>hockey_players</td>\n",
              "    </tr>\n",
              "    <tr>\n",
              "      <th>13</th>\n",
              "      <td>180.000000</td>\n",
              "      <td>hockey_players</td>\n",
              "    </tr>\n",
              "    <tr>\n",
              "      <th>14</th>\n",
              "      <td>188.000000</td>\n",
              "      <td>hockey_players</td>\n",
              "    </tr>\n",
              "    <tr>\n",
              "      <th>15</th>\n",
              "      <td>177.000000</td>\n",
              "      <td>hockey_players</td>\n",
              "    </tr>\n",
              "    <tr>\n",
              "      <th>16</th>\n",
              "      <td>172.000000</td>\n",
              "      <td>hockey_players</td>\n",
              "    </tr>\n",
              "    <tr>\n",
              "      <th>17</th>\n",
              "      <td>171.000000</td>\n",
              "      <td>hockey_players</td>\n",
              "    </tr>\n",
              "    <tr>\n",
              "      <th>18</th>\n",
              "      <td>184.000000</td>\n",
              "      <td>hockey_players</td>\n",
              "    </tr>\n",
              "    <tr>\n",
              "      <th>19</th>\n",
              "      <td>180.000000</td>\n",
              "      <td>hockey_players</td>\n",
              "    </tr>\n",
              "    <tr>\n",
              "      <th>20</th>\n",
              "      <td>178.666667</td>\n",
              "      <td>hockey_players</td>\n",
              "    </tr>\n",
              "    <tr>\n",
              "      <th>21</th>\n",
              "      <td>178.666667</td>\n",
              "      <td>hockey_players</td>\n",
              "    </tr>\n",
              "    <tr>\n",
              "      <th>22</th>\n",
              "      <td>172.000000</td>\n",
              "      <td>weightlifters</td>\n",
              "    </tr>\n",
              "    <tr>\n",
              "      <th>23</th>\n",
              "      <td>173.000000</td>\n",
              "      <td>weightlifters</td>\n",
              "    </tr>\n",
              "    <tr>\n",
              "      <th>24</th>\n",
              "      <td>169.000000</td>\n",
              "      <td>weightlifters</td>\n",
              "    </tr>\n",
              "    <tr>\n",
              "      <th>25</th>\n",
              "      <td>177.000000</td>\n",
              "      <td>weightlifters</td>\n",
              "    </tr>\n",
              "    <tr>\n",
              "      <th>26</th>\n",
              "      <td>166.000000</td>\n",
              "      <td>weightlifters</td>\n",
              "    </tr>\n",
              "    <tr>\n",
              "      <th>27</th>\n",
              "      <td>180.000000</td>\n",
              "      <td>weightlifters</td>\n",
              "    </tr>\n",
              "    <tr>\n",
              "      <th>28</th>\n",
              "      <td>178.000000</td>\n",
              "      <td>weightlifters</td>\n",
              "    </tr>\n",
              "    <tr>\n",
              "      <th>29</th>\n",
              "      <td>177.000000</td>\n",
              "      <td>weightlifters</td>\n",
              "    </tr>\n",
              "    <tr>\n",
              "      <th>30</th>\n",
              "      <td>172.000000</td>\n",
              "      <td>weightlifters</td>\n",
              "    </tr>\n",
              "    <tr>\n",
              "      <th>31</th>\n",
              "      <td>166.000000</td>\n",
              "      <td>weightlifters</td>\n",
              "    </tr>\n",
              "    <tr>\n",
              "      <th>32</th>\n",
              "      <td>170.000000</td>\n",
              "      <td>weightlifters</td>\n",
              "    </tr>\n",
              "  </tbody>\n",
              "</table>\n",
              "</div>\n",
              "      <button class=\"colab-df-convert\" onclick=\"convertToInteractive('df-eb42d421-0258-491d-99f0-67fd148cc4a2')\"\n",
              "              title=\"Convert this dataframe to an interactive table.\"\n",
              "              style=\"display:none;\">\n",
              "        \n",
              "  <svg xmlns=\"http://www.w3.org/2000/svg\" height=\"24px\"viewBox=\"0 0 24 24\"\n",
              "       width=\"24px\">\n",
              "    <path d=\"M0 0h24v24H0V0z\" fill=\"none\"/>\n",
              "    <path d=\"M18.56 5.44l.94 2.06.94-2.06 2.06-.94-2.06-.94-.94-2.06-.94 2.06-2.06.94zm-11 1L8.5 8.5l.94-2.06 2.06-.94-2.06-.94L8.5 2.5l-.94 2.06-2.06.94zm10 10l.94 2.06.94-2.06 2.06-.94-2.06-.94-.94-2.06-.94 2.06-2.06.94z\"/><path d=\"M17.41 7.96l-1.37-1.37c-.4-.4-.92-.59-1.43-.59-.52 0-1.04.2-1.43.59L10.3 9.45l-7.72 7.72c-.78.78-.78 2.05 0 2.83L4 21.41c.39.39.9.59 1.41.59.51 0 1.02-.2 1.41-.59l7.78-7.78 2.81-2.81c.8-.78.8-2.07 0-2.86zM5.41 20L4 18.59l7.72-7.72 1.47 1.35L5.41 20z\"/>\n",
              "  </svg>\n",
              "      </button>\n",
              "      \n",
              "  <style>\n",
              "    .colab-df-container {\n",
              "      display:flex;\n",
              "      flex-wrap:wrap;\n",
              "      gap: 12px;\n",
              "    }\n",
              "\n",
              "    .colab-df-convert {\n",
              "      background-color: #E8F0FE;\n",
              "      border: none;\n",
              "      border-radius: 50%;\n",
              "      cursor: pointer;\n",
              "      display: none;\n",
              "      fill: #1967D2;\n",
              "      height: 32px;\n",
              "      padding: 0 0 0 0;\n",
              "      width: 32px;\n",
              "    }\n",
              "\n",
              "    .colab-df-convert:hover {\n",
              "      background-color: #E2EBFA;\n",
              "      box-shadow: 0px 1px 2px rgba(60, 64, 67, 0.3), 0px 1px 3px 1px rgba(60, 64, 67, 0.15);\n",
              "      fill: #174EA6;\n",
              "    }\n",
              "\n",
              "    [theme=dark] .colab-df-convert {\n",
              "      background-color: #3B4455;\n",
              "      fill: #D2E3FC;\n",
              "    }\n",
              "\n",
              "    [theme=dark] .colab-df-convert:hover {\n",
              "      background-color: #434B5C;\n",
              "      box-shadow: 0px 1px 3px 1px rgba(0, 0, 0, 0.15);\n",
              "      filter: drop-shadow(0px 1px 2px rgba(0, 0, 0, 0.3));\n",
              "      fill: #FFFFFF;\n",
              "    }\n",
              "  </style>\n",
              "\n",
              "      <script>\n",
              "        const buttonEl =\n",
              "          document.querySelector('#df-eb42d421-0258-491d-99f0-67fd148cc4a2 button.colab-df-convert');\n",
              "        buttonEl.style.display =\n",
              "          google.colab.kernel.accessAllowed ? 'block' : 'none';\n",
              "\n",
              "        async function convertToInteractive(key) {\n",
              "          const element = document.querySelector('#df-eb42d421-0258-491d-99f0-67fd148cc4a2');\n",
              "          const dataTable =\n",
              "            await google.colab.kernel.invokeFunction('convertToInteractive',\n",
              "                                                     [key], {});\n",
              "          if (!dataTable) return;\n",
              "\n",
              "          const docLinkHtml = 'Like what you see? Visit the ' +\n",
              "            '<a target=\"_blank\" href=https://colab.research.google.com/notebooks/data_table.ipynb>data table notebook</a>'\n",
              "            + ' to learn more about interactive tables.';\n",
              "          element.innerHTML = '';\n",
              "          dataTable['output_type'] = 'display_data';\n",
              "          await google.colab.output.renderOutput(dataTable, element);\n",
              "          const docLink = document.createElement('div');\n",
              "          docLink.innerHTML = docLinkHtml;\n",
              "          element.appendChild(docLink);\n",
              "        }\n",
              "      </script>\n",
              "    </div>\n",
              "  </div>\n",
              "  "
            ]
          },
          "metadata": {},
          "execution_count": 55
        }
      ]
    },
    {
      "cell_type": "code",
      "source": [
        "tukey = pairwise_tukeyhsd(endog = df['score'],\n",
        "                          groups=df['group'],\n",
        "                          alpha=0.05)\n",
        "print(tukey)"
      ],
      "metadata": {
        "colab": {
          "base_uri": "https://localhost:8080/"
        },
        "id": "uGOSbnBymIIY",
        "outputId": "28f2ec94-8bcc-4cbf-9a8e-e26e2e454537"
      },
      "execution_count": 56,
      "outputs": [
        {
          "output_type": "stream",
          "name": "stdout",
          "text": [
            "          Multiple Comparison of Means - Tukey HSD, FWER=0.05          \n",
            "=======================================================================\n",
            "     group1          group2     meandiff p-adj   lower    upper  reject\n",
            "-----------------------------------------------------------------------\n",
            "footboll_players hockey_players  -0.4583 0.9675  -5.0687   4.152  False\n",
            "footboll_players  weightlifters  -6.3977  0.005 -11.0081 -1.7874   True\n",
            "  hockey_players  weightlifters  -5.9394 0.0094 -10.5497 -1.3291   True\n",
            "-----------------------------------------------------------------------\n"
          ]
        }
      ]
    },
    {
      "cell_type": "markdown",
      "source": [
        "По результату видим, что p-value для роста футболистов и хоккеистов выше значения критерия значимости, значит между их средними нет значимых различий (нулевая гипотеза)\n",
        "Между футболистами и штангистами и хоккеистами и штангистами нулевая гипотеза отвергается и принимается гипотеза о том, что средние имеют статистические различия. То же мы увидели, когда проверяли попарно выше.\n"
      ],
      "metadata": {
        "id": "-nHgZaOomSCT"
      }
    },
    {
      "cell_type": "markdown",
      "source": [
        "**Лекция**"
      ],
      "metadata": {
        "id": "5o66LCrkJC30"
      }
    },
    {
      "cell_type": "markdown",
      "source": [
        "**Однофакторный ДА**"
      ],
      "metadata": {
        "id": "B0QUGvYyJAFQ"
      }
    },
    {
      "cell_type": "markdown",
      "source": [
        "В однофакторном дисперсионном анализе на одну количественную переменную Y влияет один фактор, наблюдаемый на k выборок для переменной Y\n",
        "\n",
        "Нулевая гипотеза: $\\mu_1 = \\mu_2 = \\mu_3$\n",
        "Если различия будут найдены хотя бы между одной парой, то вывод, что профессия оказывает влияние на заработную плату.\n",
        "\n",
        "Проблема множественных сравнений\n",
        "При сравнении более 2х групп - критерий Фишера\n",
        "2 - критерий Стьюдента\n",
        "\n",
        "Если три пары сравнений, то истенный уровень статистической значимости $\\alpha = 1 - (1-0.15)^{3} = 0.14$\n",
        "\n",
        "Распределение Фишера:\n",
        "\n",
        "$F_H = \\frac{\\sigma^2_{ф}}{\\sigma^2_{ост}}$\n",
        "\n",
        "\n",
        "post hoc tests\n",
        "\n",
        "- Ньюмана_Кейлся\n",
        "- Тесть Тьюки\n",
        "- Поправка Бонферрони (устаревшаа, не использовать, когда более 8 сравнений)\n",
        "\n",
        "\n"
      ],
      "metadata": {
        "id": "kPEvxyYc5P9C"
      }
    },
    {
      "cell_type": "markdown",
      "source": [
        "Задача\n",
        "Даны з/п юристов, программистов и бухгалтеров. Определить, влияет ли профессия на зп"
      ],
      "metadata": {
        "id": "ww0TOI3o8Rkr"
      }
    },
    {
      "cell_type": "code",
      "source": [
        "import numpy as np\n",
        "import scipy.stats as stats\n",
        "import matplotlib.pyplot as plt"
      ],
      "metadata": {
        "id": "tai-jbll7c1i"
      },
      "execution_count": null,
      "outputs": []
    },
    {
      "cell_type": "code",
      "source": [
        "y1 = np.array([70, 50, 65, 60, 75, 67, 74])\n",
        "y2 = np.array([80, 74, 90, 70, 75, 65, 85])\n",
        "y3 = np.array([148, 142, 140, 150, 160, 170, 155])\n",
        "\n",
        "k = 3\n",
        "n = 21\n",
        "\n",
        "y_mean_1 = y1.mean()\n",
        "y_mean_1"
      ],
      "metadata": {
        "colab": {
          "base_uri": "https://localhost:8080/"
        },
        "id": "8Ncw0wBD7qSM",
        "outputId": "3e23a435-5959-4772-ef5f-3062c12451a6"
      },
      "execution_count": null,
      "outputs": [
        {
          "output_type": "execute_result",
          "data": {
            "text/plain": [
              "65.85714285714286"
            ]
          },
          "metadata": {},
          "execution_count": 3
        }
      ]
    },
    {
      "cell_type": "code",
      "source": [
        "y_mean_2 = y2.mean()\n",
        "y_mean_2"
      ],
      "metadata": {
        "colab": {
          "base_uri": "https://localhost:8080/"
        },
        "id": "BJq5QHpZ8Gp9",
        "outputId": "5d2287e7-c134-4efc-a029-e01eeafc8c1d"
      },
      "execution_count": null,
      "outputs": [
        {
          "output_type": "execute_result",
          "data": {
            "text/plain": [
              "77.0"
            ]
          },
          "metadata": {},
          "execution_count": 4
        }
      ]
    },
    {
      "cell_type": "code",
      "source": [
        "y_mean_3 = y3.mean()\n",
        "y_mean_3"
      ],
      "metadata": {
        "colab": {
          "base_uri": "https://localhost:8080/"
        },
        "id": "rV4VTzMj8LcN",
        "outputId": "94b7bb2c-b76d-4fdb-fc1b-068e6acebe82"
      },
      "execution_count": null,
      "outputs": [
        {
          "output_type": "execute_result",
          "data": {
            "text/plain": [
              "152.14285714285714"
            ]
          },
          "metadata": {},
          "execution_count": 5
        }
      ]
    },
    {
      "cell_type": "markdown",
      "source": [
        "$$F_H = \\frac{\\sigma^2_{ф}}{\\sigma^2_{ост}}$$\n",
        "\n",
        "$$\\sigma^2_{ф} = \\frac{S^2_{ф}}{k-1}, k=3$$\n",
        "\n",
        "$$\\sigma^2_{ост} = \\frac{S^2_{ост}}{n-k}, n=21$$"
      ],
      "metadata": {
        "id": "0QGnqgIq8QCi"
      }
    },
    {
      "cell_type": "code",
      "source": [
        "total = np.array([y1, y2, y3])\n",
        "total"
      ],
      "metadata": {
        "colab": {
          "base_uri": "https://localhost:8080/"
        },
        "id": "E-OjwhzF9OYQ",
        "outputId": "3dd65b35-258d-46b2-f728-9da908b7a3f2"
      },
      "execution_count": null,
      "outputs": [
        {
          "output_type": "execute_result",
          "data": {
            "text/plain": [
              "array([[ 70,  50,  65,  60,  75,  67,  74],\n",
              "       [ 80,  74,  90,  70,  75,  65,  85],\n",
              "       [148, 142, 140, 150, 160, 170, 155]])"
            ]
          },
          "metadata": {},
          "execution_count": 6
        }
      ]
    },
    {
      "cell_type": "code",
      "source": [
        "total.mean()"
      ],
      "metadata": {
        "colab": {
          "base_uri": "https://localhost:8080/"
        },
        "id": "OaNjIQZ79axV",
        "outputId": "cd11e950-9345-410e-bc31-796ef8f7b62c"
      },
      "execution_count": null,
      "outputs": [
        {
          "output_type": "execute_result",
          "data": {
            "text/plain": [
              "98.33333333333333"
            ]
          },
          "metadata": {},
          "execution_count": 7
        }
      ]
    },
    {
      "cell_type": "markdown",
      "source": [
        "$$S^2_{общ} = \\Sigma (y_{ij} - Y_{mean-total}) \\approx 32401$$\n",
        "\n",
        "$$S^2_{ф} =  \\sum^{k}_{i=1} (y_{mean, k} - Y_{mean-total})^2 * n_{i} \\approx 30837$$\n",
        "\n",
        "$$S^2_{ост} = \\sum^{k}_{i=1} \\sum^{n_i}_{j=1}(y_{ij}-y_{mean, i})^2 \\approx 1564 $$"
      ],
      "metadata": {
        "id": "EQn5dr_T88da"
      }
    },
    {
      "cell_type": "code",
      "source": [
        "# Сумма квадратов отклонений наблюдейний от общего среднего\n",
        "S2obsh = np.sum((total - total.mean())**2)\n",
        "S2obsh"
      ],
      "metadata": {
        "colab": {
          "base_uri": "https://localhost:8080/"
        },
        "id": "B3BtjDqj9esJ",
        "outputId": "7dd571d6-0d88-4336-e6b7-a3ca25b3ccea"
      },
      "execution_count": null,
      "outputs": [
        {
          "output_type": "execute_result",
          "data": {
            "text/plain": [
              "32400.66666666667"
            ]
          },
          "metadata": {},
          "execution_count": 14
        }
      ]
    },
    {
      "cell_type": "code",
      "source": [
        "# Сумма квадратов отклонений средних групповых значений от общего среднего\n",
        "S2ph = 0\n",
        "for y_m1 in [y1.mean(), y2.mean(), y3.mean()]:\n",
        "  S2ph += ((y_m1 - total.mean() ) ** 2) * len(y1)\n",
        "\n",
        "S2ph"
      ],
      "metadata": {
        "colab": {
          "base_uri": "https://localhost:8080/"
        },
        "id": "BPxy-GjUACqR",
        "outputId": "291c9ae0-5ade-4a8b-bda8-5609422c26ca"
      },
      "execution_count": null,
      "outputs": [
        {
          "output_type": "execute_result",
          "data": {
            "text/plain": [
              "30836.952380952374"
            ]
          },
          "metadata": {},
          "execution_count": 27
        }
      ]
    },
    {
      "cell_type": "code",
      "source": [
        "y1"
      ],
      "metadata": {
        "colab": {
          "base_uri": "https://localhost:8080/"
        },
        "id": "SB7aQAdQC78w",
        "outputId": "399b6648-be4a-4e4b-d16a-949191216a02"
      },
      "execution_count": null,
      "outputs": [
        {
          "output_type": "execute_result",
          "data": {
            "text/plain": [
              "array([70, 50, 65, 60, 75, 67, 74])"
            ]
          },
          "metadata": {},
          "execution_count": 24
        }
      ]
    },
    {
      "cell_type": "code",
      "source": [
        "# Остаточная сумма квадратов отклонений\n",
        "S2ost = 0\n",
        "for y_m in list([y1, y2, y3]):\n",
        "  for y_x in y_m:\n",
        "    S2ost += (y_x - y_m.mean()) ** 2\n",
        "\n",
        "S2ost"
      ],
      "metadata": {
        "colab": {
          "base_uri": "https://localhost:8080/"
        },
        "id": "jyjlOPK0BHRD",
        "outputId": "417acb33-70ef-479c-dc35-04b0a8e567e1"
      },
      "execution_count": null,
      "outputs": [
        {
          "output_type": "execute_result",
          "data": {
            "text/plain": [
              "1563.7142857142858"
            ]
          },
          "metadata": {},
          "execution_count": 21
        }
      ]
    },
    {
      "cell_type": "code",
      "source": [
        "sigma2ph = S2ph / 2  # D_f\n",
        "sigma2ph"
      ],
      "metadata": {
        "colab": {
          "base_uri": "https://localhost:8080/"
        },
        "id": "JsjH_1o8Cd2Q",
        "outputId": "87472c64-2dc7-4cb2-cead-0ba465af3868"
      },
      "execution_count": null,
      "outputs": [
        {
          "output_type": "execute_result",
          "data": {
            "text/plain": [
              "15418.476190476187"
            ]
          },
          "metadata": {},
          "execution_count": 28
        }
      ]
    },
    {
      "cell_type": "code",
      "source": [
        "sigma2ost = S2ost / 18  # D_ost\n",
        "sigma2ost"
      ],
      "metadata": {
        "colab": {
          "base_uri": "https://localhost:8080/"
        },
        "id": "V92WHCaIDEzn",
        "outputId": "45c49bd3-a979-4809-a07f-ac1104caff45"
      },
      "execution_count": null,
      "outputs": [
        {
          "output_type": "execute_result",
          "data": {
            "text/plain": [
              "86.87301587301587"
            ]
          },
          "metadata": {},
          "execution_count": 30
        }
      ]
    },
    {
      "cell_type": "code",
      "source": [
        "F_n = sigma2ph / sigma2ost \n",
        "F_n"
      ],
      "metadata": {
        "colab": {
          "base_uri": "https://localhost:8080/"
        },
        "id": "Gs5LpXXuDNXa",
        "outputId": "7b114cad-513c-4255-ce3d-c4b3a0b0eb20"
      },
      "execution_count": null,
      "outputs": [
        {
          "output_type": "execute_result",
          "data": {
            "text/plain": [
              "177.48291613374744"
            ]
          },
          "metadata": {},
          "execution_count": 31
        }
      ]
    },
    {
      "cell_type": "markdown",
      "source": [
        "Из таблицы: Степерь свободы числителя (K1), степень свободы знаменателя для $\\alpha = 0.05 $ равна 3.55\n",
        "\n",
        "Так как значение расчётное меньше, чем критическое, то применяем альтернативную гипотезу, т.е. разница между выборками статистически значима для $\\alpha = 0.05$"
      ],
      "metadata": {
        "id": "KpRgi_UTDgJ9"
      }
    },
    {
      "cell_type": "code",
      "source": [],
      "metadata": {
        "id": "bFQmRl1iDenk"
      },
      "execution_count": null,
      "outputs": []
    },
    {
      "cell_type": "code",
      "source": [
        "f = stats.f_oneway(y1, y2, y3)\n",
        "f"
      ],
      "metadata": {
        "colab": {
          "base_uri": "https://localhost:8080/"
        },
        "id": "YUY5JqGJDXgC",
        "outputId": "835d0652-bca3-4421-ba99-c13c53c8a23e"
      },
      "execution_count": null,
      "outputs": [
        {
          "output_type": "execute_result",
          "data": {
            "text/plain": [
              "F_onewayResult(statistic=177.48291613374704, pvalue=1.420466900107174e-12)"
            ]
          },
          "metadata": {},
          "execution_count": 33
        }
      ]
    },
    {
      "cell_type": "markdown",
      "source": [
        "Пост хок тест Тьюки"
      ],
      "metadata": {
        "id": "KspMcFGe88jV"
      }
    },
    {
      "cell_type": "code",
      "source": [
        "from statsmodels.stats.multicomp import pairwise_tukeyhsd\n",
        "\n",
        "import pandas as pd"
      ],
      "metadata": {
        "id": "6nkLHCzaXyCy"
      },
      "execution_count": null,
      "outputs": []
    },
    {
      "cell_type": "code",
      "source": [
        "from statsmodels.stats.multicomp import pairwise_tukeyhsd\n",
        "\n",
        "import pandas as pd\n",
        "\n",
        "df = pd.DataFrame({'score': list(np.hstack([y1,y2, y3])), \n",
        "                   'group': np.repeat(['accountant', 'lawyer', 'programmer'], repeats=7)})\n",
        "df"
      ],
      "metadata": {
        "colab": {
          "base_uri": "https://localhost:8080/",
          "height": 708
        },
        "id": "hx_odkXmE-AF",
        "outputId": "e11d8169-2812-4354-ea74-188c09297885"
      },
      "execution_count": null,
      "outputs": [
        {
          "output_type": "execute_result",
          "data": {
            "text/plain": [
              "    score       group\n",
              "0      70  accountant\n",
              "1      50  accountant\n",
              "2      65  accountant\n",
              "3      60  accountant\n",
              "4      75  accountant\n",
              "5      67  accountant\n",
              "6      74  accountant\n",
              "7      80      lawyer\n",
              "8      74      lawyer\n",
              "9      90      lawyer\n",
              "10     70      lawyer\n",
              "11     75      lawyer\n",
              "12     65      lawyer\n",
              "13     85      lawyer\n",
              "14    148  programmer\n",
              "15    142  programmer\n",
              "16    140  programmer\n",
              "17    150  programmer\n",
              "18    160  programmer\n",
              "19    170  programmer\n",
              "20    155  programmer"
            ],
            "text/html": [
              "\n",
              "  <div id=\"df-3593d7f4-c2f7-427f-91b5-527f7e05b32a\">\n",
              "    <div class=\"colab-df-container\">\n",
              "      <div>\n",
              "<style scoped>\n",
              "    .dataframe tbody tr th:only-of-type {\n",
              "        vertical-align: middle;\n",
              "    }\n",
              "\n",
              "    .dataframe tbody tr th {\n",
              "        vertical-align: top;\n",
              "    }\n",
              "\n",
              "    .dataframe thead th {\n",
              "        text-align: right;\n",
              "    }\n",
              "</style>\n",
              "<table border=\"1\" class=\"dataframe\">\n",
              "  <thead>\n",
              "    <tr style=\"text-align: right;\">\n",
              "      <th></th>\n",
              "      <th>score</th>\n",
              "      <th>group</th>\n",
              "    </tr>\n",
              "  </thead>\n",
              "  <tbody>\n",
              "    <tr>\n",
              "      <th>0</th>\n",
              "      <td>70</td>\n",
              "      <td>accountant</td>\n",
              "    </tr>\n",
              "    <tr>\n",
              "      <th>1</th>\n",
              "      <td>50</td>\n",
              "      <td>accountant</td>\n",
              "    </tr>\n",
              "    <tr>\n",
              "      <th>2</th>\n",
              "      <td>65</td>\n",
              "      <td>accountant</td>\n",
              "    </tr>\n",
              "    <tr>\n",
              "      <th>3</th>\n",
              "      <td>60</td>\n",
              "      <td>accountant</td>\n",
              "    </tr>\n",
              "    <tr>\n",
              "      <th>4</th>\n",
              "      <td>75</td>\n",
              "      <td>accountant</td>\n",
              "    </tr>\n",
              "    <tr>\n",
              "      <th>5</th>\n",
              "      <td>67</td>\n",
              "      <td>accountant</td>\n",
              "    </tr>\n",
              "    <tr>\n",
              "      <th>6</th>\n",
              "      <td>74</td>\n",
              "      <td>accountant</td>\n",
              "    </tr>\n",
              "    <tr>\n",
              "      <th>7</th>\n",
              "      <td>80</td>\n",
              "      <td>lawyer</td>\n",
              "    </tr>\n",
              "    <tr>\n",
              "      <th>8</th>\n",
              "      <td>74</td>\n",
              "      <td>lawyer</td>\n",
              "    </tr>\n",
              "    <tr>\n",
              "      <th>9</th>\n",
              "      <td>90</td>\n",
              "      <td>lawyer</td>\n",
              "    </tr>\n",
              "    <tr>\n",
              "      <th>10</th>\n",
              "      <td>70</td>\n",
              "      <td>lawyer</td>\n",
              "    </tr>\n",
              "    <tr>\n",
              "      <th>11</th>\n",
              "      <td>75</td>\n",
              "      <td>lawyer</td>\n",
              "    </tr>\n",
              "    <tr>\n",
              "      <th>12</th>\n",
              "      <td>65</td>\n",
              "      <td>lawyer</td>\n",
              "    </tr>\n",
              "    <tr>\n",
              "      <th>13</th>\n",
              "      <td>85</td>\n",
              "      <td>lawyer</td>\n",
              "    </tr>\n",
              "    <tr>\n",
              "      <th>14</th>\n",
              "      <td>148</td>\n",
              "      <td>programmer</td>\n",
              "    </tr>\n",
              "    <tr>\n",
              "      <th>15</th>\n",
              "      <td>142</td>\n",
              "      <td>programmer</td>\n",
              "    </tr>\n",
              "    <tr>\n",
              "      <th>16</th>\n",
              "      <td>140</td>\n",
              "      <td>programmer</td>\n",
              "    </tr>\n",
              "    <tr>\n",
              "      <th>17</th>\n",
              "      <td>150</td>\n",
              "      <td>programmer</td>\n",
              "    </tr>\n",
              "    <tr>\n",
              "      <th>18</th>\n",
              "      <td>160</td>\n",
              "      <td>programmer</td>\n",
              "    </tr>\n",
              "    <tr>\n",
              "      <th>19</th>\n",
              "      <td>170</td>\n",
              "      <td>programmer</td>\n",
              "    </tr>\n",
              "    <tr>\n",
              "      <th>20</th>\n",
              "      <td>155</td>\n",
              "      <td>programmer</td>\n",
              "    </tr>\n",
              "  </tbody>\n",
              "</table>\n",
              "</div>\n",
              "      <button class=\"colab-df-convert\" onclick=\"convertToInteractive('df-3593d7f4-c2f7-427f-91b5-527f7e05b32a')\"\n",
              "              title=\"Convert this dataframe to an interactive table.\"\n",
              "              style=\"display:none;\">\n",
              "        \n",
              "  <svg xmlns=\"http://www.w3.org/2000/svg\" height=\"24px\"viewBox=\"0 0 24 24\"\n",
              "       width=\"24px\">\n",
              "    <path d=\"M0 0h24v24H0V0z\" fill=\"none\"/>\n",
              "    <path d=\"M18.56 5.44l.94 2.06.94-2.06 2.06-.94-2.06-.94-.94-2.06-.94 2.06-2.06.94zm-11 1L8.5 8.5l.94-2.06 2.06-.94-2.06-.94L8.5 2.5l-.94 2.06-2.06.94zm10 10l.94 2.06.94-2.06 2.06-.94-2.06-.94-.94-2.06-.94 2.06-2.06.94z\"/><path d=\"M17.41 7.96l-1.37-1.37c-.4-.4-.92-.59-1.43-.59-.52 0-1.04.2-1.43.59L10.3 9.45l-7.72 7.72c-.78.78-.78 2.05 0 2.83L4 21.41c.39.39.9.59 1.41.59.51 0 1.02-.2 1.41-.59l7.78-7.78 2.81-2.81c.8-.78.8-2.07 0-2.86zM5.41 20L4 18.59l7.72-7.72 1.47 1.35L5.41 20z\"/>\n",
              "  </svg>\n",
              "      </button>\n",
              "      \n",
              "  <style>\n",
              "    .colab-df-container {\n",
              "      display:flex;\n",
              "      flex-wrap:wrap;\n",
              "      gap: 12px;\n",
              "    }\n",
              "\n",
              "    .colab-df-convert {\n",
              "      background-color: #E8F0FE;\n",
              "      border: none;\n",
              "      border-radius: 50%;\n",
              "      cursor: pointer;\n",
              "      display: none;\n",
              "      fill: #1967D2;\n",
              "      height: 32px;\n",
              "      padding: 0 0 0 0;\n",
              "      width: 32px;\n",
              "    }\n",
              "\n",
              "    .colab-df-convert:hover {\n",
              "      background-color: #E2EBFA;\n",
              "      box-shadow: 0px 1px 2px rgba(60, 64, 67, 0.3), 0px 1px 3px 1px rgba(60, 64, 67, 0.15);\n",
              "      fill: #174EA6;\n",
              "    }\n",
              "\n",
              "    [theme=dark] .colab-df-convert {\n",
              "      background-color: #3B4455;\n",
              "      fill: #D2E3FC;\n",
              "    }\n",
              "\n",
              "    [theme=dark] .colab-df-convert:hover {\n",
              "      background-color: #434B5C;\n",
              "      box-shadow: 0px 1px 3px 1px rgba(0, 0, 0, 0.15);\n",
              "      filter: drop-shadow(0px 1px 2px rgba(0, 0, 0, 0.3));\n",
              "      fill: #FFFFFF;\n",
              "    }\n",
              "  </style>\n",
              "\n",
              "      <script>\n",
              "        const buttonEl =\n",
              "          document.querySelector('#df-3593d7f4-c2f7-427f-91b5-527f7e05b32a button.colab-df-convert');\n",
              "        buttonEl.style.display =\n",
              "          google.colab.kernel.accessAllowed ? 'block' : 'none';\n",
              "\n",
              "        async function convertToInteractive(key) {\n",
              "          const element = document.querySelector('#df-3593d7f4-c2f7-427f-91b5-527f7e05b32a');\n",
              "          const dataTable =\n",
              "            await google.colab.kernel.invokeFunction('convertToInteractive',\n",
              "                                                     [key], {});\n",
              "          if (!dataTable) return;\n",
              "\n",
              "          const docLinkHtml = 'Like what you see? Visit the ' +\n",
              "            '<a target=\"_blank\" href=https://colab.research.google.com/notebooks/data_table.ipynb>data table notebook</a>'\n",
              "            + ' to learn more about interactive tables.';\n",
              "          element.innerHTML = '';\n",
              "          dataTable['output_type'] = 'display_data';\n",
              "          await google.colab.output.renderOutput(dataTable, element);\n",
              "          const docLink = document.createElement('div');\n",
              "          docLink.innerHTML = docLinkHtml;\n",
              "          element.appendChild(docLink);\n",
              "        }\n",
              "      </script>\n",
              "    </div>\n",
              "  </div>\n",
              "  "
            ]
          },
          "metadata": {},
          "execution_count": 54
        }
      ]
    },
    {
      "cell_type": "code",
      "source": [
        "tukey = pairwise_tukeyhsd(endog = df['score'],\n",
        "                          groups=df['group'],\n",
        "                          alpha=0.05)\n",
        "print(tukey)"
      ],
      "metadata": {
        "colab": {
          "base_uri": "https://localhost:8080/"
        },
        "id": "asUtWNeVFMng",
        "outputId": "9e2a7e8e-7796-4fef-946d-ae3b4322e58a"
      },
      "execution_count": null,
      "outputs": [
        {
          "output_type": "stream",
          "name": "stdout",
          "text": [
            "    Multiple Comparison of Means - Tukey HSD, FWER=0.05     \n",
            "============================================================\n",
            "  group1     group2   meandiff p-adj   lower   upper  reject\n",
            "------------------------------------------------------------\n",
            "accountant     lawyer  11.1429 0.0918 -1.5722 23.8579  False\n",
            "accountant programmer  86.2857    0.0 73.5707 99.0007   True\n",
            "    lawyer programmer  75.1429    0.0 62.4278 87.8579   True\n",
            "------------------------------------------------------------\n"
          ]
        }
      ]
    },
    {
      "cell_type": "markdown",
      "source": [
        "**Двухфакторный ДА**"
      ],
      "metadata": {
        "id": "bU1u5brbG7AO"
      }
    },
    {
      "cell_type": "markdown",
      "source": [
        "$$y_{ijk} = M + A_{i} + B_{j} + AB + E_{ijk}$$\n",
        "$$y_{ijk} - M = A_{i} + B_{j} + AB + E_{ijk}$$\n",
        "$$SS_{T} = SS_{A} + SS_{B} + SS_{AB} + SS_{E}$$\n",
        "\n",
        "$$F_{н.А} -  F_{кр.А}$$\n",
        "$$F_{н.B} F_{кр.B}$$\n",
        "$$F_{н.АB} F_{кр.AB}$$"
      ],
      "metadata": {
        "id": "YCRUMbt_JITE"
      }
    },
    {
      "cell_type": "code",
      "source": [],
      "metadata": {
        "id": "3g-qRpiqLtJe"
      },
      "execution_count": null,
      "outputs": []
    },
    {
      "cell_type": "markdown",
      "source": [
        "**Семинар** "
      ],
      "metadata": {
        "id": "3N8nh1RHb8e_"
      }
    },
    {
      "cell_type": "code",
      "source": [
        "pu_238 = np.array([0.126, 0.133, 0.127, 0.156, 0.503, 0.113, 0.129, 0.124, 1.022, 1.412, 1.533, 1.534, 1.437, 1.439, 1.375, 1.153, 0.201, \n",
        "          0.176, 0.239, 0.102, 1.070, 0.851, 0.125, 0.142, 0.352, 0.351, 0.346, 0.217, 1.068, 1.171, 1.213, 1.226, 1.111, 0.183, \n",
        "          0.162, 0.113, 1.30, 9, 1.638, 1.589, 1.411, 1.457, 0.397, 0.328, 0.242, 1.367])\n",
        "pu_239 = np.array([75.804, 75.515, 75.175, 78.872, 73.317, 79.116, 75.751, 75.326, 63.287, 59.553, 58.688, 58.758, 59.728, \n",
        "          59.544, 59.877, 61.1, 82, 78.244, 78.166, 74.254, 79.840, 62.455, 73.189, 75.968, 75.957, 72.885,72.907, \n",
        "          72.919, 76.089, 70.129, 69.273, 69.147, 68.294, 71.076, 75.714, 76.150, 77.845, 62.382, 60.112, 60.519, \n",
        "          61.585, 61.332, 72.291, 73.451, 74.888, 60.507])\n",
        "pu_240 = np.array([21.204, 21.408, 21.668, 18.428, 20.223, 18.548, 21.162, 21.557, 24.493, 25.576, 25.719, 25.692, 25.146, 25.126, 25.128, \n",
        "          25.100, 18.488, 18.629, 21.515, 17.872, 24.656, 18.285, 20.794, 20.867, 21.718, 21.721, 21.713, 20.225, 18.573, 18.633, \n",
        "          18.640, 18.869, 18.122, 20.750, 20.345, 19.108, 22.754, 23.320, 23.128, 23.133, 23.239, 21.761, 21.429, 20.939, 23.603])\n",
        "pu_241 = np.array([2.180, 2.240, 2.305, 1.906, 4.128, 1.690, 2.260, 2.282, 6.990, 8.027, 8.279, 8.261, 8.377, 8.569, 8.428, 7.802, 2.351, \n",
        "          2.365, 2.901, 1.674, 7.512, 5.597, 2.407, 2.341, 3.618, 3.601, 3.600, 2.556, 7.689, 8.300, 8.363, 8.826, 7.248, 2.488, \n",
        "          2.524, 2.275, 9.311, 9.972, 9.970, 9.339, 9.321, 3.836, 3.419, 2.875, 9.839])"
      ],
      "metadata": {
        "id": "hg6XB-YOXgj8"
      },
      "execution_count": null,
      "outputs": []
    },
    {
      "cell_type": "code",
      "source": [],
      "metadata": {
        "colab": {
          "base_uri": "https://localhost:8080/"
        },
        "id": "H58vQWeBX2kb",
        "outputId": "d59e6214-e1e7-4262-c092-3074373c7391"
      },
      "execution_count": null,
      "outputs": [
        {
          "output_type": "execute_result",
          "data": {
            "text/plain": [
              "ShapiroResult(statistic=0.4726342558860779, pvalue=1.234524461823927e-11)"
            ]
          },
          "metadata": {},
          "execution_count": 8
        }
      ]
    },
    {
      "cell_type": "code",
      "source": [
        "stats.shapiro(pu_239)"
      ],
      "metadata": {
        "colab": {
          "base_uri": "https://localhost:8080/"
        },
        "id": "Jx7okuaEYvM6",
        "outputId": "155031a1-4643-48a2-e56d-e8bd58886da5"
      },
      "execution_count": null,
      "outputs": [
        {
          "output_type": "execute_result",
          "data": {
            "text/plain": [
              "ShapiroResult(statistic=0.8797206282615662, pvalue=0.0002011819597100839)"
            ]
          },
          "metadata": {},
          "execution_count": 9
        }
      ]
    },
    {
      "cell_type": "code",
      "source": [
        "stats.shapiro(pu_240)"
      ],
      "metadata": {
        "colab": {
          "base_uri": "https://localhost:8080/"
        },
        "id": "Xx2P6lhQYvVQ",
        "outputId": "ccf973ed-f8b7-4af3-f50d-f3cb1bcb0028"
      },
      "execution_count": null,
      "outputs": [
        {
          "output_type": "execute_result",
          "data": {
            "text/plain": [
              "ShapiroResult(statistic=0.9316781759262085, pvalue=0.010755813680589199)"
            ]
          },
          "metadata": {},
          "execution_count": 10
        }
      ]
    },
    {
      "cell_type": "code",
      "source": [
        "stats.shapiro(pu_241)"
      ],
      "metadata": {
        "colab": {
          "base_uri": "https://localhost:8080/"
        },
        "id": "zAdDQ_lPYvdS",
        "outputId": "ffc1eed7-c3ee-42f6-a3b1-0879ca8dcee7"
      },
      "execution_count": null,
      "outputs": [
        {
          "output_type": "execute_result",
          "data": {
            "text/plain": [
              "ShapiroResult(statistic=0.8336212635040283, pvalue=1.4246789760363754e-05)"
            ]
          },
          "metadata": {},
          "execution_count": 11
        }
      ]
    },
    {
      "cell_type": "code",
      "source": [
        "stats.kruskal(pu_238, pu_239, pu_240, pu_241)"
      ],
      "metadata": {
        "colab": {
          "base_uri": "https://localhost:8080/"
        },
        "id": "xqTUYWdSZsbs",
        "outputId": "2a84ed43-3b27-4ed3-8350-15e8f3d37c58"
      },
      "execution_count": null,
      "outputs": [
        {
          "output_type": "execute_result",
          "data": {
            "text/plain": [
              "KruskalResult(statistic=168.43409493963125, pvalue=2.771481039926156e-36)"
            ]
          },
          "metadata": {},
          "execution_count": 12
        }
      ]
    },
    {
      "cell_type": "markdown",
      "source": [
        "2. "
      ],
      "metadata": {
        "id": "HbYeZVTdcBaO"
      }
    },
    {
      "cell_type": "code",
      "source": [
        "JJ_1=np.array([0.71, 0.63, 0.85, 0.44, 0.61, 0.69, 0.92, 0.55, 0.72, 0.77, 0.92, 0.60, 0.83, 0.80, 1.00, 0.77, 0.92, 1.00, 1.24, 1.00, 1.16 ])\n",
        "JJ_2=np.array([1.30, 1.45, 1.25, 1.26, 1.38, 1.86, 1.56, 1.53, 1.59, 1.83, 1.86, 1.53, 2.07, 2.34, 2.25, 2.16, 2.43, 2.70, 2.25, 2.79, 3.42 ])\n",
        "JJ_3=np.array([3.69, 3.60, 3.60, 4.32, 4.32, 4.05, 4.86, 5.04, 5.04, 4.41, 5.58, 5.85, 6.57, 5.31, 6.03, 6.39, 6.93, 5.85, 6.93, 7.74, 7.83])\n",
        "JJ_4=np.array([6.12, 7.74, 8.91, 8.28, 6.84, 9.54, 10.26, 9.54, 8.73, 11.88, 12.06, 12.15, 8.91, 14.04, 12.96, 14.85, 9.99, 16.20, 14.67, 16.02, 11.61 ])"
      ],
      "metadata": {
        "id": "0VExYQjHcDlF"
      },
      "execution_count": null,
      "outputs": []
    },
    {
      "cell_type": "code",
      "source": [
        "stats.shapiro(JJ_1)"
      ],
      "metadata": {
        "colab": {
          "base_uri": "https://localhost:8080/"
        },
        "id": "Lzee8uSTcGUQ",
        "outputId": "b1746dcc-1e65-4f83-b0c3-b077f1530ee0"
      },
      "execution_count": null,
      "outputs": [
        {
          "output_type": "execute_result",
          "data": {
            "text/plain": [
              "ShapiroResult(statistic=0.9837694764137268, pvalue=0.9688350558280945)"
            ]
          },
          "metadata": {},
          "execution_count": 15
        }
      ]
    },
    {
      "cell_type": "code",
      "source": [
        "stats.shapiro(JJ_2)"
      ],
      "metadata": {
        "colab": {
          "base_uri": "https://localhost:8080/"
        },
        "id": "wNinh4oAcbRc",
        "outputId": "b8996689-7f25-4b29-db99-21aa4db26573"
      },
      "execution_count": null,
      "outputs": [
        {
          "output_type": "execute_result",
          "data": {
            "text/plain": [
              "ShapiroResult(statistic=0.9252575635910034, pvalue=0.11057926714420319)"
            ]
          },
          "metadata": {},
          "execution_count": 16
        }
      ]
    },
    {
      "cell_type": "code",
      "source": [
        "stats.shapiro(JJ_3)"
      ],
      "metadata": {
        "colab": {
          "base_uri": "https://localhost:8080/"
        },
        "id": "3346-F--cbUk",
        "outputId": "4fd29302-1c19-4d34-ce8c-80bed569f331"
      },
      "execution_count": null,
      "outputs": [
        {
          "output_type": "execute_result",
          "data": {
            "text/plain": [
              "ShapiroResult(statistic=0.9523218274116516, pvalue=0.37654614448547363)"
            ]
          },
          "metadata": {},
          "execution_count": 17
        }
      ]
    },
    {
      "cell_type": "code",
      "source": [
        "stats.shapiro(JJ_4)"
      ],
      "metadata": {
        "colab": {
          "base_uri": "https://localhost:8080/"
        },
        "id": "R8oDQZ7JcbiU",
        "outputId": "399acc76-8a0f-40a7-e6eb-6442027666e9"
      },
      "execution_count": null,
      "outputs": [
        {
          "output_type": "execute_result",
          "data": {
            "text/plain": [
              "ShapiroResult(statistic=0.9590807557106018, pvalue=0.49780404567718506)"
            ]
          },
          "metadata": {},
          "execution_count": 18
        }
      ]
    },
    {
      "cell_type": "code",
      "source": [
        "stats.bartlett(JJ_1, JJ_2, JJ_3, JJ_4)"
      ],
      "metadata": {
        "colab": {
          "base_uri": "https://localhost:8080/"
        },
        "id": "yXPZXJD4cPnV",
        "outputId": "d026c48b-abdf-479f-aaf5-a966f1e6f186"
      },
      "execution_count": null,
      "outputs": [
        {
          "output_type": "execute_result",
          "data": {
            "text/plain": [
              "BartlettResult(statistic=109.62893110687119, pvalue=1.3188378332498392e-23)"
            ]
          },
          "metadata": {},
          "execution_count": 14
        }
      ]
    },
    {
      "cell_type": "code",
      "source": [
        "len(JJ_1)"
      ],
      "metadata": {
        "colab": {
          "base_uri": "https://localhost:8080/"
        },
        "id": "o4TODV1bdhoF",
        "outputId": "f275b065-4c65-4e9c-a2ed-84a5e64f3421"
      },
      "execution_count": null,
      "outputs": [
        {
          "output_type": "execute_result",
          "data": {
            "text/plain": [
              "21"
            ]
          },
          "metadata": {},
          "execution_count": 20
        }
      ]
    },
    {
      "cell_type": "code",
      "source": [
        "len(JJ_2)"
      ],
      "metadata": {
        "colab": {
          "base_uri": "https://localhost:8080/"
        },
        "id": "EBmqWCULdk0-",
        "outputId": "1609f15a-8e42-4c45-9a7c-dc7e7fbc6298"
      },
      "execution_count": null,
      "outputs": [
        {
          "output_type": "execute_result",
          "data": {
            "text/plain": [
              "21"
            ]
          },
          "metadata": {},
          "execution_count": 21
        }
      ]
    },
    {
      "cell_type": "code",
      "source": [
        "len(JJ_3)"
      ],
      "metadata": {
        "colab": {
          "base_uri": "https://localhost:8080/"
        },
        "id": "Mwbe6NO8dk4I",
        "outputId": "1fcf42d1-2161-443d-99f3-a23d0b2d88c6"
      },
      "execution_count": null,
      "outputs": [
        {
          "output_type": "execute_result",
          "data": {
            "text/plain": [
              "21"
            ]
          },
          "metadata": {},
          "execution_count": 22
        }
      ]
    },
    {
      "cell_type": "code",
      "source": [
        "len(JJ_4)"
      ],
      "metadata": {
        "colab": {
          "base_uri": "https://localhost:8080/"
        },
        "id": "LFplHdnOdlCK",
        "outputId": "80230f08-f81d-4ac0-a51c-d4e5beb144ee"
      },
      "execution_count": null,
      "outputs": [
        {
          "output_type": "execute_result",
          "data": {
            "text/plain": [
              "21"
            ]
          },
          "metadata": {},
          "execution_count": 23
        }
      ]
    },
    {
      "cell_type": "code",
      "source": [
        "stats.f_oneway(JJ_1, JJ_2, JJ_3, JJ_4)"
      ],
      "metadata": {
        "colab": {
          "base_uri": "https://localhost:8080/"
        },
        "id": "UZ9_SO7vdsn7",
        "outputId": "d295c18a-dcd0-40df-ab4a-c2c024b532ce"
      },
      "execution_count": null,
      "outputs": [
        {
          "output_type": "execute_result",
          "data": {
            "text/plain": [
              "F_onewayResult(statistic=162.03157448390618, pvalue=6.81307443530621e-34)"
            ]
          },
          "metadata": {},
          "execution_count": 24
        }
      ]
    },
    {
      "cell_type": "code",
      "source": [
        "{'score': list(np.hstack([JJ_1, JJ_2, JJ_3, JJ_4])), \n",
        "                   'group': np.repeat(['JJ1', 'JJ2', 'JJ3', 'JJ4'], repeats=21)}"
      ],
      "metadata": {
        "id": "2ta6kVAaig4M"
      },
      "execution_count": null,
      "outputs": []
    },
    {
      "cell_type": "code",
      "source": [
        "np.hstack([JJ_1, JJ_2, JJ_3, JJ_4])"
      ],
      "metadata": {
        "colab": {
          "base_uri": "https://localhost:8080/"
        },
        "id": "cOVPF8sxilBY",
        "outputId": "88e8a490-3468-4a3f-97ad-2f6ef7798b07"
      },
      "execution_count": null,
      "outputs": [
        {
          "output_type": "execute_result",
          "data": {
            "text/plain": [
              "array([ 0.71,  0.63,  0.85,  0.44,  0.61,  0.69,  0.92,  0.55,  0.72,\n",
              "        0.77,  0.92,  0.6 ,  0.83,  0.8 ,  1.  ,  0.77,  0.92,  1.  ,\n",
              "        1.24,  1.  ,  1.16,  1.3 ,  1.45,  1.25,  1.26,  1.38,  1.86,\n",
              "        1.56,  1.53,  1.59,  1.83,  1.86,  1.53,  2.07,  2.34,  2.25,\n",
              "        2.16,  2.43,  2.7 ,  2.25,  2.79,  3.42,  3.69,  3.6 ,  3.6 ,\n",
              "        4.32,  4.32,  4.05,  4.86,  5.04,  5.04,  4.41,  5.58,  5.85,\n",
              "        6.57,  5.31,  6.03,  6.39,  6.93,  5.85,  6.93,  7.74,  7.83,\n",
              "        6.12,  7.74,  8.91,  8.28,  6.84,  9.54, 10.26,  9.54,  8.73,\n",
              "       11.88, 12.06, 12.15,  8.91, 14.04, 12.96, 14.85,  9.99, 16.2 ,\n",
              "       14.67, 16.02, 11.61])"
            ]
          },
          "metadata": {},
          "execution_count": 35
        }
      ]
    },
    {
      "cell_type": "code",
      "source": [
        "df = pd.DataFrame({'score': list(np.hstack([JJ_1, JJ_2, JJ_3, JJ_4])), \n",
        "                   'group': np.repeat(['JJ1', 'JJ2', 'JJ3', 'JJ4'], repeats=21)})\n",
        "df"
      ],
      "metadata": {
        "colab": {
          "base_uri": "https://localhost:8080/",
          "height": 424
        },
        "id": "Bwsrczh8dxTm",
        "outputId": "f79e1b3d-f734-4e33-b5c0-5d9f0c5a4c16"
      },
      "execution_count": null,
      "outputs": [
        {
          "output_type": "execute_result",
          "data": {
            "text/plain": [
              "    score group\n",
              "0    0.71   JJ1\n",
              "1    0.63   JJ1\n",
              "2    0.85   JJ1\n",
              "3    0.44   JJ1\n",
              "4    0.61   JJ1\n",
              "..    ...   ...\n",
              "79   9.99   JJ4\n",
              "80  16.20   JJ4\n",
              "81  14.67   JJ4\n",
              "82  16.02   JJ4\n",
              "83  11.61   JJ4\n",
              "\n",
              "[84 rows x 2 columns]"
            ],
            "text/html": [
              "\n",
              "  <div id=\"df-ace72aa8-baf5-4aee-99f7-47a564ef3b87\">\n",
              "    <div class=\"colab-df-container\">\n",
              "      <div>\n",
              "<style scoped>\n",
              "    .dataframe tbody tr th:only-of-type {\n",
              "        vertical-align: middle;\n",
              "    }\n",
              "\n",
              "    .dataframe tbody tr th {\n",
              "        vertical-align: top;\n",
              "    }\n",
              "\n",
              "    .dataframe thead th {\n",
              "        text-align: right;\n",
              "    }\n",
              "</style>\n",
              "<table border=\"1\" class=\"dataframe\">\n",
              "  <thead>\n",
              "    <tr style=\"text-align: right;\">\n",
              "      <th></th>\n",
              "      <th>score</th>\n",
              "      <th>group</th>\n",
              "    </tr>\n",
              "  </thead>\n",
              "  <tbody>\n",
              "    <tr>\n",
              "      <th>0</th>\n",
              "      <td>0.71</td>\n",
              "      <td>JJ1</td>\n",
              "    </tr>\n",
              "    <tr>\n",
              "      <th>1</th>\n",
              "      <td>0.63</td>\n",
              "      <td>JJ1</td>\n",
              "    </tr>\n",
              "    <tr>\n",
              "      <th>2</th>\n",
              "      <td>0.85</td>\n",
              "      <td>JJ1</td>\n",
              "    </tr>\n",
              "    <tr>\n",
              "      <th>3</th>\n",
              "      <td>0.44</td>\n",
              "      <td>JJ1</td>\n",
              "    </tr>\n",
              "    <tr>\n",
              "      <th>4</th>\n",
              "      <td>0.61</td>\n",
              "      <td>JJ1</td>\n",
              "    </tr>\n",
              "    <tr>\n",
              "      <th>...</th>\n",
              "      <td>...</td>\n",
              "      <td>...</td>\n",
              "    </tr>\n",
              "    <tr>\n",
              "      <th>79</th>\n",
              "      <td>9.99</td>\n",
              "      <td>JJ4</td>\n",
              "    </tr>\n",
              "    <tr>\n",
              "      <th>80</th>\n",
              "      <td>16.20</td>\n",
              "      <td>JJ4</td>\n",
              "    </tr>\n",
              "    <tr>\n",
              "      <th>81</th>\n",
              "      <td>14.67</td>\n",
              "      <td>JJ4</td>\n",
              "    </tr>\n",
              "    <tr>\n",
              "      <th>82</th>\n",
              "      <td>16.02</td>\n",
              "      <td>JJ4</td>\n",
              "    </tr>\n",
              "    <tr>\n",
              "      <th>83</th>\n",
              "      <td>11.61</td>\n",
              "      <td>JJ4</td>\n",
              "    </tr>\n",
              "  </tbody>\n",
              "</table>\n",
              "<p>84 rows × 2 columns</p>\n",
              "</div>\n",
              "      <button class=\"colab-df-convert\" onclick=\"convertToInteractive('df-ace72aa8-baf5-4aee-99f7-47a564ef3b87')\"\n",
              "              title=\"Convert this dataframe to an interactive table.\"\n",
              "              style=\"display:none;\">\n",
              "        \n",
              "  <svg xmlns=\"http://www.w3.org/2000/svg\" height=\"24px\"viewBox=\"0 0 24 24\"\n",
              "       width=\"24px\">\n",
              "    <path d=\"M0 0h24v24H0V0z\" fill=\"none\"/>\n",
              "    <path d=\"M18.56 5.44l.94 2.06.94-2.06 2.06-.94-2.06-.94-.94-2.06-.94 2.06-2.06.94zm-11 1L8.5 8.5l.94-2.06 2.06-.94-2.06-.94L8.5 2.5l-.94 2.06-2.06.94zm10 10l.94 2.06.94-2.06 2.06-.94-2.06-.94-.94-2.06-.94 2.06-2.06.94z\"/><path d=\"M17.41 7.96l-1.37-1.37c-.4-.4-.92-.59-1.43-.59-.52 0-1.04.2-1.43.59L10.3 9.45l-7.72 7.72c-.78.78-.78 2.05 0 2.83L4 21.41c.39.39.9.59 1.41.59.51 0 1.02-.2 1.41-.59l7.78-7.78 2.81-2.81c.8-.78.8-2.07 0-2.86zM5.41 20L4 18.59l7.72-7.72 1.47 1.35L5.41 20z\"/>\n",
              "  </svg>\n",
              "      </button>\n",
              "      \n",
              "  <style>\n",
              "    .colab-df-container {\n",
              "      display:flex;\n",
              "      flex-wrap:wrap;\n",
              "      gap: 12px;\n",
              "    }\n",
              "\n",
              "    .colab-df-convert {\n",
              "      background-color: #E8F0FE;\n",
              "      border: none;\n",
              "      border-radius: 50%;\n",
              "      cursor: pointer;\n",
              "      display: none;\n",
              "      fill: #1967D2;\n",
              "      height: 32px;\n",
              "      padding: 0 0 0 0;\n",
              "      width: 32px;\n",
              "    }\n",
              "\n",
              "    .colab-df-convert:hover {\n",
              "      background-color: #E2EBFA;\n",
              "      box-shadow: 0px 1px 2px rgba(60, 64, 67, 0.3), 0px 1px 3px 1px rgba(60, 64, 67, 0.15);\n",
              "      fill: #174EA6;\n",
              "    }\n",
              "\n",
              "    [theme=dark] .colab-df-convert {\n",
              "      background-color: #3B4455;\n",
              "      fill: #D2E3FC;\n",
              "    }\n",
              "\n",
              "    [theme=dark] .colab-df-convert:hover {\n",
              "      background-color: #434B5C;\n",
              "      box-shadow: 0px 1px 3px 1px rgba(0, 0, 0, 0.15);\n",
              "      filter: drop-shadow(0px 1px 2px rgba(0, 0, 0, 0.3));\n",
              "      fill: #FFFFFF;\n",
              "    }\n",
              "  </style>\n",
              "\n",
              "      <script>\n",
              "        const buttonEl =\n",
              "          document.querySelector('#df-ace72aa8-baf5-4aee-99f7-47a564ef3b87 button.colab-df-convert');\n",
              "        buttonEl.style.display =\n",
              "          google.colab.kernel.accessAllowed ? 'block' : 'none';\n",
              "\n",
              "        async function convertToInteractive(key) {\n",
              "          const element = document.querySelector('#df-ace72aa8-baf5-4aee-99f7-47a564ef3b87');\n",
              "          const dataTable =\n",
              "            await google.colab.kernel.invokeFunction('convertToInteractive',\n",
              "                                                     [key], {});\n",
              "          if (!dataTable) return;\n",
              "\n",
              "          const docLinkHtml = 'Like what you see? Visit the ' +\n",
              "            '<a target=\"_blank\" href=https://colab.research.google.com/notebooks/data_table.ipynb>data table notebook</a>'\n",
              "            + ' to learn more about interactive tables.';\n",
              "          element.innerHTML = '';\n",
              "          dataTable['output_type'] = 'display_data';\n",
              "          await google.colab.output.renderOutput(dataTable, element);\n",
              "          const docLink = document.createElement('div');\n",
              "          docLink.innerHTML = docLinkHtml;\n",
              "          element.appendChild(docLink);\n",
              "        }\n",
              "      </script>\n",
              "    </div>\n",
              "  </div>\n",
              "  "
            ]
          },
          "metadata": {},
          "execution_count": 25
        }
      ]
    },
    {
      "cell_type": "code",
      "source": [
        "tukey = pairwise_tukeyhsd(endog = df['score'],\n",
        "                          groups=df['group'],\n",
        "                          alpha=0.05)\n",
        "print(tukey)"
      ],
      "metadata": {
        "colab": {
          "base_uri": "https://localhost:8080/"
        },
        "id": "Z7GQkIhDeEB9",
        "outputId": "f482fccd-4011-4c55-f544-23ece163b96c"
      },
      "execution_count": null,
      "outputs": [
        {
          "output_type": "stream",
          "name": "stdout",
          "text": [
            "Multiple Comparison of Means - Tukey HSD, FWER=0.05 \n",
            "====================================================\n",
            "group1 group2 meandiff p-adj   lower   upper  reject\n",
            "----------------------------------------------------\n",
            "   JJ1    JJ2   1.1276 0.1282 -0.2087   2.464  False\n",
            "   JJ1    JJ3     4.61    0.0  3.2737  5.9463   True\n",
            "   JJ1    JJ4  10.1986    0.0  8.8622 11.5349   True\n",
            "   JJ2    JJ3   3.4824    0.0   2.146  4.8187   True\n",
            "   JJ2    JJ4    9.071    0.0  7.7346 10.4073   True\n",
            "   JJ3    JJ4   5.5886    0.0  4.2522  6.9249   True\n",
            "----------------------------------------------------\n"
          ]
        }
      ]
    },
    {
      "cell_type": "code",
      "source": [
        "stats.bartlett(JJ_1, JJ_2, JJ_3, JJ_4)"
      ],
      "metadata": {
        "colab": {
          "base_uri": "https://localhost:8080/"
        },
        "id": "fl7bRsBOjR6Y",
        "outputId": "22add9e4-d73c-4b19-de02-9915422d6419"
      },
      "execution_count": null,
      "outputs": [
        {
          "output_type": "execute_result",
          "data": {
            "text/plain": [
              "BartlettResult(statistic=18.576818199590036, pvalue=1.6319305004885752e-05)"
            ]
          },
          "metadata": {},
          "execution_count": 40
        }
      ]
    },
    {
      "cell_type": "code",
      "source": [
        "stats.f_oneway(JJ_1, JJ_2)"
      ],
      "metadata": {
        "colab": {
          "base_uri": "https://localhost:8080/"
        },
        "id": "NWhw_pMuf9Sw",
        "outputId": "aae00d41-4722-4dd3-b63e-02a6129ab89d"
      },
      "execution_count": null,
      "outputs": [
        {
          "output_type": "execute_result",
          "data": {
            "text/plain": [
              "F_onewayResult(statistic=71.3215817007263, pvalue=1.9900379011154155e-10)"
            ]
          },
          "metadata": {},
          "execution_count": 37
        }
      ]
    },
    {
      "cell_type": "code",
      "source": [],
      "metadata": {
        "id": "C6cDwinohf1F"
      },
      "execution_count": null,
      "outputs": []
    },
    {
      "cell_type": "markdown",
      "source": [
        "4."
      ],
      "metadata": {
        "id": "3Bb5LdxchhSw"
      }
    },
    {
      "cell_type": "code",
      "source": [
        "before = np.array([92.8 , 95.6, 92.1, 100.6, 96.2, 92.1, 96.7, 97.6, 97.0, 93.9])\n",
        "after = np.array([87.1, 84.1, 81.3, 77.0, 86.0, 82.9, 83.0, 85.5, 85.2, 84.6]) "
      ],
      "metadata": {
        "id": "DvG3ijxlhf36"
      },
      "execution_count": null,
      "outputs": []
    },
    {
      "cell_type": "code",
      "source": [
        "stats.ttest_rel(before, after, alternative='greater').pvalue + stats.ttest_rel(before, after, alternative='less').pvalue"
      ],
      "metadata": {
        "colab": {
          "base_uri": "https://localhost:8080/"
        },
        "id": "67Q9EGe-iHKK",
        "outputId": "cd15dc5e-6063-452d-fb95-e249dc11ec07"
      },
      "execution_count": null,
      "outputs": [
        {
          "output_type": "execute_result",
          "data": {
            "text/plain": [
              "1.0"
            ]
          },
          "metadata": {},
          "execution_count": 46
        }
      ]
    },
    {
      "cell_type": "code",
      "source": [
        "stats.ttest_rel(before, after, alternative='less')"
      ],
      "metadata": {
        "colab": {
          "base_uri": "https://localhost:8080/"
        },
        "id": "Z-S7FIQ2kN5O",
        "outputId": "9e808f54-17a7-47fa-da96-2cccad071158"
      },
      "execution_count": null,
      "outputs": [
        {
          "output_type": "execute_result",
          "data": {
            "text/plain": [
              "TtestResult(statistic=7.972831441034037, pvalue=0.9999886277862766, df=9)"
            ]
          },
          "metadata": {},
          "execution_count": 42
        }
      ]
    },
    {
      "cell_type": "code",
      "source": [
        "stats.ttest_rel(before, after, alternative='two-sided')"
      ],
      "metadata": {
        "colab": {
          "base_uri": "https://localhost:8080/"
        },
        "id": "CQLoN5d0kODW",
        "outputId": "e7caa7fd-f04e-4d67-de3d-8fae35b10ca0"
      },
      "execution_count": null,
      "outputs": [
        {
          "output_type": "execute_result",
          "data": {
            "text/plain": [
              "TtestResult(statistic=7.972831441034037, pvalue=2.2744427446816035e-05, df=9)"
            ]
          },
          "metadata": {},
          "execution_count": 43
        }
      ]
    },
    {
      "cell_type": "code",
      "source": [
        "stats.ttest_rel(before, after)"
      ],
      "metadata": {
        "colab": {
          "base_uri": "https://localhost:8080/"
        },
        "id": "ggofmvOBkWi3",
        "outputId": "3c78b5dd-5fa4-4c4a-95d9-0a500f35a7a0"
      },
      "execution_count": null,
      "outputs": [
        {
          "output_type": "execute_result",
          "data": {
            "text/plain": [
              "TtestResult(statistic=7.972831441034037, pvalue=2.2744427446816035e-05, df=9)"
            ]
          },
          "metadata": {},
          "execution_count": 44
        }
      ]
    },
    {
      "cell_type": "code",
      "source": [],
      "metadata": {
        "id": "W7XTJBagleIu"
      },
      "execution_count": null,
      "outputs": []
    },
    {
      "cell_type": "markdown",
      "source": [
        "5.\n"
      ],
      "metadata": {
        "id": "IY0TDAjvlfEm"
      }
    },
    {
      "cell_type": "code",
      "source": [
        "Xm_1 = 75\n",
        "Xm_2 = 69\n",
        "n=100\n",
        "delta = Xm_1 - Xm_2\n",
        "print('delta', delta)\n",
        "\n",
        "Z = 1.96 # Ф^(-1) (1-(0.05/2))\n",
        "\n",
        "left_right = Z * s / (n ** 0.5)\n",
        "\n",
        "D1 = np.var(X1, ddof=1)  # несмещённая дисперсия для выборки 1\n",
        "print('D1', D1)\n",
        "D2 = np.var(X2, ddof=1)  # то же для выборки 2\n",
        "print('D2', D2)\n",
        "\n",
        "D = 0.5*(D1 + D2)  # \n",
        "print('D', D)\n",
        "\n",
        "Sd = np.sqrt(D/n1 + D/n2)  # стандартная ошибка разности средних\n",
        "print('Sd', Sd)\n",
        "\n",
        "df = 2 * (n1 - 1)  # объёмы выборок одинаковые \n",
        "print('df=', df)\n",
        "\n",
        "t = stats.t.ppf(0.975, df)  # критерий Стьюдента\n",
        "print('t=', t)\n",
        "\n",
        "Low = delta - t*Sd  # нижняя граница\n",
        "High = delta + t*Sd  # верхняя граница\n",
        "\n",
        "print(f'95% доверительный интервал для разности роста родителей и детей: [{Low:.4f}; {High:.4f}]')"
      ],
      "metadata": {
        "id": "DRS_h4qJlgiV"
      },
      "execution_count": null,
      "outputs": []
    },
    {
      "cell_type": "code",
      "source": [],
      "metadata": {
        "id": "xdbOHDLHoj63"
      },
      "execution_count": null,
      "outputs": []
    },
    {
      "cell_type": "code",
      "source": [
        "9 / (99-9)"
      ],
      "metadata": {
        "colab": {
          "base_uri": "https://localhost:8080/"
        },
        "id": "T4e-TmRgokQn",
        "outputId": "e135ad89-16c5-45fa-dc2a-1fc837537059"
      },
      "execution_count": null,
      "outputs": [
        {
          "output_type": "execute_result",
          "data": {
            "text/plain": [
              "0.1"
            ]
          },
          "metadata": {},
          "execution_count": 47
        }
      ]
    }
  ]
}