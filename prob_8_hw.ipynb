{
 "cells": [
  {
   "cell_type": "code",
   "execution_count": 1,
   "metadata": {},
   "outputs": [],
   "source": [
    "import numpy as np\n"
   ]
  },
  {
   "cell_type": "markdown",
   "metadata": {},
   "source": [
    "1.Провести дисперсионный анализ для определения того, есть ли различия среднего роста среди взрослых футболистов, хоккеистов и штангистов. Даны значения роста в трех группах случайно выбранных спортсменов: Футболисты: 173, 175, 180, 178, 177, 185, 183, 182. Хоккеисты: 177, 179, 180, 188, 177, 172, 171, 184, 180. Штангисты: 172, 173, 169, 177, 166, 180, 178, 177, 172, 166, 170."
   ]
  },
  {
   "cell_type": "code",
   "execution_count": 7,
   "metadata": {},
   "outputs": [],
   "source": [
    "footballers = np.array([173, 175, 180, 178, 177, 185, 183, 182], dtype=np.float64)\n",
    "hockeyers = np.array([ 177, 179, 180, 188, 177, 172, 171, 184, 180], dtype=np.float64)\n",
    "weightlifters = np.array([172, 173, 169, 177, 166, 180, 178, 177, 172, 166, 170], dtype=np.float64)\n",
    "# Проверяемая гипотеза (Н0) - средние групповых значений равны. Альтернативная (Н1) - средние различаются\n",
    "# Уровень значимости - 0.05"
   ]
  },
  {
   "cell_type": "code",
   "execution_count": 8,
   "metadata": {},
   "outputs": [],
   "source": [
    "x = footballers.copy()\n",
    "y = hockeyers.copy()\n",
    "z = weightlifters.copy()"
   ]
  },
  {
   "cell_type": "code",
   "execution_count": 10,
   "metadata": {},
   "outputs": [],
   "source": [
    "n_x, n_y, n_z = [len(x), len(y), len(z)]\n",
    "n = n_x + n_y + n_z\n",
    "k = 3"
   ]
  },
  {
   "cell_type": "code",
   "execution_count": 13,
   "metadata": {},
   "outputs": [
    {
     "name": "stdout",
     "output_type": "stream",
     "text": [
      "Средние по группам: футболисты 179.1250, хоккеисты 178.6667, штангисты 172.7273\n",
      "Среднее по всем значениям всех групп 176.4643\n"
     ]
    }
   ],
   "source": [
    "x_mean = x.mean()\n",
    "y_mean = y.mean()\n",
    "z_mean = z.mean()\n",
    "print(f\"Средние по группам: футболисты {x_mean:.4f}, хоккеисты {y_mean:.4f}, штангисты {z_mean:.4f}\")\n",
    "all_ = np.concatenate([x,y,z])\n",
    "all_mean = all_.mean()\n",
    "print(f\"Среднее по всем значениям всех групп {all_mean:.4f}\")"
   ]
  },
  {
   "cell_type": "code",
   "execution_count": 25,
   "metadata": {},
   "outputs": [
    {
     "name": "stdout",
     "output_type": "stream",
     "text": [
      "Сумма квадратов отклонений наблюдений от общего среднего 830.9643\n"
     ]
    }
   ],
   "source": [
    "# Найдём S^2 - сумма квадратов отклонений наблюдейний от общего среднего\n",
    "s2 = ((all_ - all_mean)**2).sum()\n",
    "print(f\"Сумма квадратов отклонений наблюдений от общего среднего {s2:.4f}\")"
   ]
  },
  {
   "cell_type": "code",
   "execution_count": 27,
   "metadata": {},
   "outputs": [
    {
     "name": "stdout",
     "output_type": "stream",
     "text": [
      "Сумма квадратов отклонений средних групповых значений от общего среднего 253.9075\n"
     ]
    }
   ],
   "source": [
    "# Найдём SF^2 - сумму квадратов отклонений средних групповых значений от общего среднего\n",
    "s2_f = ((x_mean - all_mean)**2) * n_x  + ((y_mean - all_mean)**2) * n_y + ((z_mean - all_mean)**2) * n_z\n",
    "print(f\"Сумма квадратов отклонений средних групповых значений от общего среднего {s2_f:.4f}\")"
   ]
  },
  {
   "cell_type": "code",
   "execution_count": 28,
   "metadata": {},
   "outputs": [
    {
     "name": "stdout",
     "output_type": "stream",
     "text": [
      "Остаточная сумма квадратов отклонений 577.0568\n"
     ]
    }
   ],
   "source": [
    "# Найдём Sост^2 - остаточную сумму квадратов отклонений\n",
    "s2_residual = ((x - x_mean)**2).sum() + ((y - y_mean)**2).sum() + ((z - z_mean)**2).sum()\n",
    "print(f\"Остаточная сумма квадратов отклонений {s2_residual:.4f}\")"
   ]
  },
  {
   "cell_type": "code",
   "execution_count": 23,
   "metadata": {},
   "outputs": [
    {
     "data": {
      "text/plain": [
       "5.684341886080801e-13"
      ]
     },
     "execution_count": 23,
     "metadata": {},
     "output_type": "execute_result"
    }
   ],
   "source": [
    "# Убедимся, что соблюдается равенство S^2 = SF^2 + Sост^2\n",
    "s2_residual + s2_f - s2"
   ]
  },
  {
   "cell_type": "code",
   "execution_count": 29,
   "metadata": {},
   "outputs": [
    {
     "name": "stdout",
     "output_type": "stream",
     "text": [
      "Общая дисперсия 30.7765\n"
     ]
    }
   ],
   "source": [
    "# Найдём общую дисперсию\n",
    "sigma2_general = s2 / (n - 1)\n",
    "print(f\"Общая дисперсия {sigma2_general:.4f}\")"
   ]
  },
  {
   "cell_type": "code",
   "execution_count": 30,
   "metadata": {},
   "outputs": [
    {
     "name": "stdout",
     "output_type": "stream",
     "text": [
      "Факторная дисперсия 126.9537\n"
     ]
    }
   ],
   "source": [
    "# Найдём факторную дисперсию\n",
    "sigma2_f = s2_f / (k - 1)\n",
    "print(f\"Факторная дисперсия {sigma2_f:.4f}\")"
   ]
  },
  {
   "cell_type": "code",
   "execution_count": 31,
   "metadata": {},
   "outputs": [
    {
     "name": "stdout",
     "output_type": "stream",
     "text": [
      "Остаточная дисперсия 23.0823\n"
     ]
    }
   ],
   "source": [
    "# Найдём остаточную дисперсию\n",
    "sigma2_residual = s2_residual / (n - k)\n",
    "print(f\"Остаточная дисперсия {sigma2_residual:.4f}\")"
   ]
  },
  {
   "cell_type": "code",
   "execution_count": 32,
   "metadata": {},
   "outputs": [
    {
     "name": "stdout",
     "output_type": "stream",
     "text": [
      "Значение F-статистики 5.5001\n"
     ]
    }
   ],
   "source": [
    "# Вычислим F_H\n",
    "F_h = sigma2_f / sigma2_residual\n",
    "print(f\"Значение F-статистики {F_h:.4f}\")"
   ]
  },
  {
   "cell_type": "code",
   "execution_count": 37,
   "metadata": {},
   "outputs": [
    {
     "name": "stdout",
     "output_type": "stream",
     "text": [
      "Различие роста статистически значимо\n"
     ]
    }
   ],
   "source": [
    "# Табличное значение для числителя 2 (k-1) и знаменателя  25 (n-k)  равно 3,38\n",
    "F_kr = 3.38\n",
    "if F_h > F_kr:\n",
    "    print(\"Различие роста статистически значимо\")\n",
    "else:\n",
    "    print(\"Различие роста незначительное\")\n",
    "    \n",
    "# Стоит заметить, что для уровня значимости 0,01 и 0,001 (вероятности совершить ошибку первого рода 1% и 0.1%) и их \n",
    "# критических значений, 5.57 и 9.22 соответственно, различия роста незначительны"
   ]
  },
  {
   "cell_type": "code",
   "execution_count": 39,
   "metadata": {},
   "outputs": [
    {
     "data": {
      "text/plain": [
       "0.30555761769498"
      ]
     },
     "execution_count": 39,
     "metadata": {},
     "output_type": "execute_result"
    }
   ],
   "source": [
    "# Вычисляем эмпирическое корреляционное отношение эта^2\n",
    "eta2 = s2_f / s2\n",
    "eta2"
   ]
  },
  {
   "cell_type": "code",
   "execution_count": 41,
   "metadata": {},
   "outputs": [
    {
     "data": {
      "text/plain": [
       "F_onewayResult(statistic=5.500053450812596, pvalue=0.010482206918698694)"
      ]
     },
     "execution_count": 41,
     "metadata": {},
     "output_type": "execute_result"
    }
   ],
   "source": [
    "# В качестве проверки воспользуемся встроенной функцией для ANOVA тестирования\n",
    "import scipy.stats as stats\n",
    "stats.f_oneway(footballers, hockeyers, weightlifters)"
   ]
  },
  {
   "cell_type": "markdown",
   "metadata": {},
   "source": [
    "Видим, что значение, рассчитанное вручную и значения, посчитанные функцией совпадают.\n",
    "Также видим, что pvalue равно 0.01, откуда можно сделать вывод, что для вероятности 5% мы можем принять альтернативную гипотезу, при уровне значимости 1% находимся практически на границе и необходимо взять бОльшую выб"
   ]
  }
 ],
 "metadata": {
  "kernelspec": {
   "display_name": "Python 3",
   "language": "python",
   "name": "python3"
  },
  "language_info": {
   "codemirror_mode": {
    "name": "ipython",
    "version": 3
   },
   "file_extension": ".py",
   "mimetype": "text/x-python",
   "name": "python",
   "nbconvert_exporter": "python",
   "pygments_lexer": "ipython3",
   "version": "3.7.4"
  }
 },
 "nbformat": 4,
 "nbformat_minor": 2
}
