{
  "nbformat": 4,
  "nbformat_minor": 0,
  "metadata": {
    "colab": {
      "provenance": [],
      "authorship_tag": "ABX9TyN5VFVQz0S6IFzzjdL/BAmO",
      "include_colab_link": true
    },
    "kernelspec": {
      "name": "python3",
      "display_name": "Python 3"
    },
    "language_info": {
      "name": "python"
    }
  },
  "cells": [
    {
      "cell_type": "markdown",
      "metadata": {
        "id": "view-in-github",
        "colab_type": "text"
      },
      "source": [
        "<a href=\"https://colab.research.google.com/github/eridanletalis/probability_and_statistics/blob/master/prob_hw_9.ipynb\" target=\"_parent\"><img src=\"https://colab.research.google.com/assets/colab-badge.svg\" alt=\"Open In Colab\"/></a>"
      ]
    },
    {
      "cell_type": "code",
      "execution_count": 1,
      "metadata": {
        "id": "tu2BDE9RtzGa"
      },
      "outputs": [],
      "source": [
        "import numpy as np\n",
        "import pandas as pd\n",
        "import matplotlib.pyplot as plt"
      ]
    },
    {
      "cell_type": "code",
      "source": [],
      "metadata": {
        "id": "CPgvYLGvt1Z0"
      },
      "execution_count": null,
      "outputs": []
    },
    {
      "cell_type": "markdown",
      "source": [
        "Даны значения величины заработной платы заемщиков банка (zp) и значения их поведенческого кредитного скоринга (ks): zp = [35, 45, 190, 200, 40, 70, 54, 150, 120, 110], ks = [401, 574, 874, 919, 459, 739, 653, 902, 746, 832]. Используя математические операции, посчитать коэффициенты линейной регрессии, приняв за X заработную плату (то есть, zp - признак), а за y - значения скорингового балла (то есть, ks - целевая переменная). Произвести расчет как с использованием intercept, так и без.\n",
        "\n"
      ],
      "metadata": {
        "id": "PNvfOoWlt17F"
      }
    },
    {
      "cell_type": "code",
      "source": [
        "zp = np.array([35, 45, 190, 200, 40, 70, 54, 150, 120, 110], dtype=np.float64)\n",
        "ks = np.array( [401, 574, 874, 919, 459, 739, 653, 902, 746, 832], dtype=np.float64)\n",
        "b = (np.mean(zp * ks) - np.mean(zp) * np.mean(ks)) / (np.mean(zp**2) - np.mean(zp) ** 2)\n",
        "a = np.mean(ks) - b * np.mean(zp)\n",
        "print(f\"Уравнение линейной регрессии: y = {a:.4f} + {b:.4f}*x\")"
      ],
      "metadata": {
        "colab": {
          "base_uri": "https://localhost:8080/"
        },
        "id": "152yH0FIt-ih",
        "outputId": "73a1ce06-487f-48b4-a0eb-c2cca1949003"
      },
      "execution_count": 3,
      "outputs": [
        {
          "output_type": "stream",
          "name": "stdout",
          "text": [
            "Уравнение линейной регрессии: y = 444.1774 + 2.6205*x\n"
          ]
        }
      ]
    },
    {
      "cell_type": "code",
      "source": [
        "from numpy.linalg import inv\n",
        "\n",
        "X = zp.reshape((len(zp), 1))\n",
        "y = ks.reshape((len(ks), 1))\n",
        "B = inv(X.T@X)@X.T@y # (np.dot(inv(np.dot(X.T, X)), X.T))@y\n",
        "print(f\"Линейное урванение без коэффициента пересечения с OY: y = {B[0,0]:.4f}x\")"
      ],
      "metadata": {
        "colab": {
          "base_uri": "https://localhost:8080/"
        },
        "id": "iN9ZHxxtt-k7",
        "outputId": "245ad884-d283-4757-c3e7-499f7ee5400e"
      },
      "execution_count": 4,
      "outputs": [
        {
          "output_type": "stream",
          "name": "stdout",
          "text": [
            "Линейное урванение без коэффициента пересечения с OY: y = 5.8898x\n"
          ]
        }
      ]
    },
    {
      "cell_type": "code",
      "source": [
        "plt.scatter(zp, ks, marker='x', color='black', label='Экспериментальные значения')\n",
        "plt.plot(zp, (a + b*zp), color='green', label=f'y = {a:.4f} + {b:.4f}*x')\n",
        "plt.plot(zp, (B[0,0]*zp), color='orange', label=f'{B[0,0]:.4f}*x')\n",
        "plt.legend()\n",
        "plt.show()"
      ],
      "metadata": {
        "colab": {
          "base_uri": "https://localhost:8080/",
          "height": 265
        },
        "id": "gDsPjwAivHUO",
        "outputId": "271ce5d3-c3a9-4862-daf4-8121e64688d2"
      },
      "execution_count": 5,
      "outputs": [
        {
          "output_type": "display_data",
          "data": {
            "text/plain": [
              "<Figure size 432x288 with 1 Axes>"
            ],
            "image/png": "[encoded data removed]"
          },
          "metadata": {
            "needs_background": "light"
          }
        }
      ]
    },
    {
      "cell_type": "code",
      "source": [
        "# С дополнительной единицей в матрице признаков\n",
        "X = zp.reshape((len(zp), 1))\n",
        "y = ks.reshape((len(ks), 1))\n",
        "X = np.hstack([np.ones((len(zp), 1)), X])\n",
        "X"
      ],
      "metadata": {
        "colab": {
          "base_uri": "https://localhost:8080/"
        },
        "id": "6QcnMTxjvHpy",
        "outputId": "055c51a0-5748-4d90-c87f-e973fd316958"
      },
      "execution_count": 7,
      "outputs": [
        {
          "output_type": "execute_result",
          "data": {
            "text/plain": [
              "array([[  1.,  35.],\n",
              "       [  1.,  45.],\n",
              "       [  1., 190.],\n",
              "       [  1., 200.],\n",
              "       [  1.,  40.],\n",
              "       [  1.,  70.],\n",
              "       [  1.,  54.],\n",
              "       [  1., 150.],\n",
              "       [  1., 120.],\n",
              "       [  1., 110.]])"
            ]
          },
          "metadata": {},
          "execution_count": 7
        }
      ]
    },
    {
      "cell_type": "code",
      "source": [
        "B = inv(X.T@X)@X.T@y \n",
        "B\n",
        "\n",
        "# Значения идентичны значениям выше"
      ],
      "metadata": {
        "colab": {
          "base_uri": "https://localhost:8080/"
        },
        "id": "M4Nj0iPvwOKy",
        "outputId": "cab70ff2-dbce-49a1-b01c-4c26a87579ef"
      },
      "execution_count": 8,
      "outputs": [
        {
          "output_type": "execute_result",
          "data": {
            "text/plain": [
              "array([[444.17735732],\n",
              "       [  2.62053888]])"
            ]
          },
          "metadata": {},
          "execution_count": 8
        }
      ]
    },
    {
      "cell_type": "code",
      "source": [
        "# Проверим в sklearn\n",
        "import sklearn.linear_model as lm\n",
        "a = zp.copy().reshape(-1, 1)\n",
        "b = ks.copy()\n",
        "skm = lm.LinearRegression()\n",
        "skm.fit(a, b)\n",
        "print (skm.intercept_, skm.coef_)"
      ],
      "metadata": {
        "colab": {
          "base_uri": "https://localhost:8080/"
        },
        "id": "CsUo24RYxMIq",
        "outputId": "2e02a665-9308-488c-afef-883b83e6217c"
      },
      "execution_count": 11,
      "outputs": [
        {
          "output_type": "stream",
          "name": "stdout",
          "text": [
            "444.1773573243595 [2.62053888]\n"
          ]
        }
      ]
    },
    {
      "cell_type": "markdown",
      "source": [
        "Резульат также идентичен"
      ],
      "metadata": {
        "id": "qINczLArxofP"
      }
    },
    {
      "cell_type": "markdown",
      "source": [
        "Проверяем остатки"
      ],
      "metadata": {
        "id": "LsYR5jkezzpb"
      }
    },
    {
      "cell_type": "code",
      "source": [
        "X_new = zp.copy()\n",
        "Y_pred = skm.intercept_ + skm.coef_*zp\n",
        "Y_pred"
      ],
      "metadata": {
        "colab": {
          "base_uri": "https://localhost:8080/"
        },
        "id": "HKbZ5NE0zzxF",
        "outputId": "21dc277b-8722-434e-b42c-0cba1cf87a5f"
      },
      "execution_count": 25,
      "outputs": [
        {
          "output_type": "execute_result",
          "data": {
            "text/plain": [
              "array([535.89621821, 562.10160703, 942.07974498, 968.2851338 ,\n",
              "       548.99891262, 627.61507909, 585.68645697, 837.25818968,\n",
              "       758.64202321, 732.43663439])"
            ]
          },
          "metadata": {},
          "execution_count": 25
        }
      ]
    },
    {
      "cell_type": "code",
      "source": [
        "X_new "
      ],
      "metadata": {
        "colab": {
          "base_uri": "https://localhost:8080/"
        },
        "id": "_0fT5rAg0nTQ",
        "outputId": "96329ee4-51e7-4245-e7d1-cf0b08ec33f5"
      },
      "execution_count": 22,
      "outputs": [
        {
          "output_type": "execute_result",
          "data": {
            "text/plain": [
              "array([ 35.,  45., 190., 200.,  40.,  70.,  54., 150., 120., 110.])"
            ]
          },
          "metadata": {},
          "execution_count": 22
        }
      ]
    },
    {
      "cell_type": "code",
      "source": [
        "zp"
      ],
      "metadata": {
        "colab": {
          "base_uri": "https://localhost:8080/"
        },
        "id": "A2e2RCfH0snj",
        "outputId": "bb691f8c-afed-4a89-b076-70c8a3469a5a"
      },
      "execution_count": 24,
      "outputs": [
        {
          "output_type": "execute_result",
          "data": {
            "text/plain": [
              "array([ 35.,  45., 190., 200.,  40.,  70.,  54., 150., 120., 110.])"
            ]
          },
          "metadata": {},
          "execution_count": 24
        }
      ]
    },
    {
      "cell_type": "code",
      "source": [
        "plt.scatter(zp, ks, marker='x', color='black', label='Экспериментальные значения')\n",
        "plt.plot(zp, Y_pred, color='green')\n",
        "# plt.plot(zp, (B[0,0]*zp), color='orange', label=f'{B[0,0]:.4f}*x')\n",
        "plt.legend()\n",
        "plt.show()"
      ],
      "metadata": {
        "colab": {
          "base_uri": "https://localhost:8080/",
          "height": 265
        },
        "id": "dGhc8MD_0Tqm",
        "outputId": "8b9d7593-3c30-44b6-b5de-3d8773266f85"
      },
      "execution_count": 27,
      "outputs": [
        {
          "output_type": "display_data",
          "data": {
            "text/plain": [
              "<Figure size 432x288 with 1 Axes>"
            ],
            "image/png": "[encoded data removed]"
          },
          "metadata": {
            "needs_background": "light"
          }
        }
      ]
    },
    {
      "cell_type": "code",
      "source": [
        "res = Y_pred - ks\n",
        "res"
      ],
      "metadata": {
        "colab": {
          "base_uri": "https://localhost:8080/"
        },
        "id": "4mdK30n609R9",
        "outputId": "f6f88a46-cf29-4fa6-9232-b6b6e77fc86e"
      },
      "execution_count": 28,
      "outputs": [
        {
          "output_type": "execute_result",
          "data": {
            "text/plain": [
              "array([ 134.89621821,  -11.89839297,   68.07974498,   49.2851338 ,\n",
              "         89.99891262, -111.38492091,  -67.31354303,  -64.74181032,\n",
              "         12.64202321,  -99.56336561])"
            ]
          },
          "metadata": {},
          "execution_count": 28
        }
      ]
    },
    {
      "cell_type": "code",
      "source": [
        "plt.scatter(zp, res, label='Остатки')\n",
        "plt.grid()\n",
        "plt.legend()\n",
        "plt.show()"
      ],
      "metadata": {
        "colab": {
          "base_uri": "https://localhost:8080/",
          "height": 265
        },
        "id": "U4HdHa8y1CVa",
        "outputId": "e6b048ae-fdc9-40aa-fa2b-95c74e219326"
      },
      "execution_count": 30,
      "outputs": [
        {
          "output_type": "display_data",
          "data": {
            "text/plain": [
              "<Figure size 432x288 with 1 Axes>"
            ],
            "image/png": "[encoded data removed]"
          },
          "metadata": {
            "needs_background": "light"
          }
        }
      ]
    },
    {
      "cell_type": "code",
      "source": [
        "import scipy.stats as stats\n",
        "stats.shapiro(res)"
      ],
      "metadata": {
        "colab": {
          "base_uri": "https://localhost:8080/"
        },
        "id": "47JXp7P41dF6",
        "outputId": "19865765-b0cd-479d-d9e0-87fcc80b1eaa"
      },
      "execution_count": 33,
      "outputs": [
        {
          "output_type": "execute_result",
          "data": {
            "text/plain": [
              "ShapiroResult(statistic=0.9479535818099976, pvalue=0.6443547606468201)"
            ]
          },
          "metadata": {},
          "execution_count": 33
        }
      ]
    },
    {
      "cell_type": "markdown",
      "source": [
        "По графику можно судить о том, что остатки распределены хаотично, т.е. модель гомоскедастично.\n",
        "Тестировалось распределение остатков на нормальность. pvalue больше 0.05, следовательно можно принять гипотезу о том, что остатки распределены равномерно."
      ],
      "metadata": {
        "id": "UA-jZhe31TEr"
      }
    },
    {
      "cell_type": "markdown",
      "source": [
        "2. Посчитать коэффициент линейной регрессии при заработной плате (zp), используя градиентный спуск (без intercept).\n",
        "\n"
      ],
      "metadata": {
        "id": "NHIQGLHxt-vf"
      }
    },
    {
      "cell_type": "code",
      "source": [
        "def mse_(B1, y=ks, X=zp, n=len(zp)):\n",
        "    return np.sum((B1*X - y)**2)/n\n",
        "\n",
        "eps = 1e-5\n",
        "B1 = 1\n",
        "alpha = 0.00001\n",
        "maxiter = 1e+5\n",
        "iterno = 0\n",
        "lastmse = 1e+12\n",
        "while maxiter > iterno:\n",
        "    \n",
        "    B1 -= alpha*(2/len(zp)) * np.sum((B1*zp - ks)* zp)\n",
        "    lost = mse_(B1)\n",
        "    if iterno%10 == 0:\n",
        "        print(f\"Коэффициент {B1} при MSE = {lost} на итериации {iterno}\")\n",
        "    \n",
        "    if np.abs(lost - lastmse) < eps:\n",
        "        break\n",
        "    lastmse = lost\n",
        "    iterno += 1\n",
        "\n",
        "print(f\"Коэффициент линейной регрессии, посчитанный методом наименьших квадратов, равен {B1:.4f}\")"
      ],
      "metadata": {
        "colab": {
          "base_uri": "https://localhost:8080/"
        },
        "id": "KcMSM4PHt__6",
        "outputId": "4beb5c95-ee2b-4b36-dca9-a3273d8158e1"
      },
      "execution_count": 13,
      "outputs": [
        {
          "output_type": "stream",
          "name": "stdout",
          "text": [
            "Коэффициент 2.347302 при MSE = 229405.42884192182 на итериации 0\n",
            "Коэффициент 5.748727835228332 при MSE = 56791.110810876475 на итериации 10\n",
            "Коэффициент 5.884200938409783 при MSE = 56517.293461113455 на итериации 20\n",
            "Коэффициент 5.889596605572516 при MSE = 56516.859105830044 на итериации 30\n",
            "Коэффициент линейной регрессии, посчитанный методом наименьших квадратов, равен 5.8898\n"
          ]
        }
      ]
    },
    {
      "cell_type": "code",
      "source": [],
      "metadata": {
        "id": "r1Z-jUjwuADZ"
      },
      "execution_count": null,
      "outputs": []
    },
    {
      "cell_type": "markdown",
      "source": [
        "3. Произвести вычисления как в пункте 2, но с вычислением intercept. Учесть, что изменение коэффициентов должно производиться на каждом шаге одновременно (то есть изменение одного коэффициента не должно влиять на изменение другого во время одной итерации)."
      ],
      "metadata": {
        "id": "FE5KGX4yuAVQ"
      }
    },
    {
      "cell_type": "code",
      "source": [],
      "metadata": {
        "id": "-9dQSGVNzDNz"
      },
      "execution_count": null,
      "outputs": []
    },
    {
      "cell_type": "code",
      "execution_count": 16,
      "metadata": {
        "id": "W0arCjE1f9wi",
        "outputId": "c0654641-373f-425d-edc5-9bc47a15d682",
        "colab": {
          "base_uri": "https://localhost:8080/"
        }
      },
      "outputs": [
        {
          "output_type": "stream",
          "name": "stdout",
          "text": [
            "Коэффициенты b0=0.23993199999999998 b1=1.6950780000000003 при MSE = 298669.91957656574 на итериации 0\n",
            "Коэффициенты b0=176.99793823155434 b1=4.5874232870909015 при MSE = 24578.24552869998 на итериации 10000\n",
            "Коэффициенты b0=283.2661860212592 b1=3.8051124339540343 при MSE = 13038.409454267963 на итериации 20000\n",
            "Коэффициенты b0=347.26717936958835 b1=3.3339587944678577 при MSE = 8852.729392011368 на итериации 30000\n",
            "Коэффициенты b0=385.81234440965807 b1=3.050202342526814 при MSE = 7334.517393975145 на итериации 40000\n",
            "Коэффициенты b0=409.0265114129715 b1=2.879307506383829 при MSE = 6783.838021281238 на итериации 50000\n",
            "Коэффициенты b0=423.00744907655417 b1=2.776384577863402 при MSE = 6584.097950788569 на итериации 60000\n",
            "Коэффициенты b0=431.4275926003403 b1=2.7143983326712977 при MSE = 6511.649085371195 на итериации 70000\n",
            "Коэффициенты b0=436.4986986067572 b1=2.6770665675510315 при MSE = 6485.3707422860225 на итериации 80000\n",
            "Коэффициенты b0=439.5528171090929 b1=2.6545831813953518 при MSE = 6475.839173898802 на итериации 90000\n",
            "Коэффициенты b0=441.3921870245521 b1=2.6410423629690927 при MSE = 6472.38192411613 на итериации 100000\n",
            "Уравнение имеет вид y = 442.2059 + 2.6351*x\n"
          ]
        }
      ],
      "source": [
        "X = zp.copy()\n",
        "y = ks.copy()\n",
        "\n",
        "def mse2_(b0, b1, y=y, X=X, n=len(zp)):\n",
        "    return np.sum((b0 + b1*X - y)**2)/n\n",
        "\n",
        "eps = 1e-4\n",
        "b0 = 0.1\n",
        "b1 = 0.1\n",
        "alpha = 0.00001\n",
        "maxiter = 1e+6\n",
        "iterno = 0\n",
        "lastmse = 1e+12\n",
        "while maxiter > iterno:\n",
        "    y_ = b0 + b1 * X\n",
        "    b0 -= alpha * 10 * (2/len(X)) * np.sum((y_ - y)) # Множитель 10 у скорости изменения свободного коэффициента\n",
        "    # Если сильно уменьшить (до 1е-5) альфа, без этого множителя программа ведёт себя не правильно - коэффициенты растут\n",
        "    # С этим коэффициентом достигается сходимость на итерации 106810\n",
        "    # Коэффициенты b0=442.20546084743114 b1=2.635055316495254 при MSE = 6471.400545751201 на итериации 106810\n",
        "    b1 -= alpha * (2/len(X)) * np.sum((y_ - y) * X)\n",
        "    lost = mse2_(b0, b1)\n",
        "    if iterno%10000 == 0:\n",
        "        print(f\"Коэффициенты b0={b0} b1={b1} при MSE = {lost} на итериации {iterno}\")\n",
        "    \n",
        "    if np.abs(lost - lastmse) < eps:\n",
        "        break\n",
        "    lastmse = lost\n",
        "    iterno += 1\n",
        "\n",
        "print(f\"Уравнение имеет вид y = {b0:.4f} + {b1:.4f}*x\")"
      ]
    },
    {
      "cell_type": "markdown",
      "source": [
        "В обоих вариантах видим, что коэффициенты схожи с коэффициентами, которые найдены по формулам\n"
      ],
      "metadata": {
        "id": "PcU75eBT22B0"
      }
    }
  ]
}