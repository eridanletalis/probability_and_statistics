{
  "nbformat": 4,
  "nbformat_minor": 0,
  "metadata": {
    "colab": {
      "provenance": [],
      "authorship_tag": "ABX9TyN9AVrFNTRKBN72mz/LhYgW",
      "include_colab_link": true
    },
    "kernelspec": {
      "name": "python3",
      "display_name": "Python 3"
    },
    "language_info": {
      "name": "python"
    }
  },
  "cells": [
    {
      "cell_type": "markdown",
      "metadata": {
        "id": "view-in-github",
        "colab_type": "text"
      },
      "source": [
        "<a href=\"https://colab.research.google.com/github/eridanletalis/probability_and_statistics/blob/master/prob_hw5_.ipynb\" target=\"_parent\"><img src=\"https://colab.research.google.com/assets/colab-badge.svg\" alt=\"Open In Colab\"/></a>"
      ]
    },
    {
      "cell_type": "code",
      "execution_count": 1,
      "metadata": {
        "id": "W1jsvpvlGo3A"
      },
      "outputs": [],
      "source": [
        "import numpy as np\n"
      ]
    },
    {
      "cell_type": "markdown",
      "source": [
        "1. Когда используется критерий Стьюдента, а когда Z –критерий?\n"
      ],
      "metadata": {
        "id": "eQd_es-LG07Y"
      }
    },
    {
      "cell_type": "markdown",
      "source": [
        "Оба критерия являются параметрическими критериями. Оба критерия требуют, чтобы выборки имели нормальное распределение.\n",
        "Z критерий или критерий Фишера используется, когда известна дисперсия ($σ$) генеральной совокупности\n",
        "t-критерий, или критерий Стьюдента, используется, когда дисперсия генеральной совокупности неизвестна."
      ],
      "metadata": {
        "id": "KW0Suf3nG7SK"
      }
    },
    {
      "cell_type": "markdown",
      "source": [
        "2. Проведите тест гипотезы. Утверждается, что шарики для подшипников, изготовленные автоматическим станком, имеют средний диаметр 17 мм.\n",
        "Используя односторонний критерий с α=0,05, проверить эту гипотезу, если в выборке из n=100 шариков средний диаметр оказался равным 17.5 мм, а дисперсия известна и равна 4 кв. мм."
      ],
      "metadata": {
        "id": "mhnuMf1sH99F"
      }
    },
    {
      "cell_type": "markdown",
      "source": [
        "В задаче нам известена дисперсия, поэтому можно использовать Z-критерий.\n",
        "Для этого используем формулу для подсчёта значения наблюдаемого критирия\n",
        "\n",
        "$$Z_{н} = \\frac{\\bar{X}-μ}{\\sigma / {\\sqrt(n)}}$$\n",
        "\n",
        "при $α = 0.05$\n",
        "\n",
        "Нам известно:\n",
        "$$\n",
        "n = 100, \n",
        "\\bar{X} = 17.5, \n",
        "σ = 2\n",
        "$$\n",
        "\n",
        "Формулируем гипотезы\n",
        "$H_{0}: $ наблюдаемый средний диаметр шариков принадлежит генеральной совокупности\n",
        "$H_{1}: $ наблюдаемый средний диаметр шариков больше, чем среднее генеральной совокупности.\n",
        "\n",
        "Сначала рассчитаем, как далеко 17.5 находятся от 17. Расстояние равно 0.5. Считаем, в скольких стандартных отклонениях находится 0.5 от среднего.\n",
        "\n",
        "Считаем стандартное отклонение, как $\\frac{\\sigma}{\\sqrt{n}} = 2 / 10 = 0.2$\n",
        "\n",
        "Далее  $\\bar{X}-μ$ делим на $0.2$, получаем $2.5$\n",
        "Ищем табличное значение для Z критерия для $α=0.05$\n",
        "$Z_{0.05} = 1.645$\n",
        "\n",
        "\n",
        "Так как расчётное значение больше, чем значение Z-критерия для выбранной значимости, то *нулевую гипотезу стоит отвергнуть*\n"
      ],
      "metadata": {
        "id": "6dGeABi3UGKY"
      }
    },
    {
      "cell_type": "markdown",
      "source": [
        "3. Проведите тест гипотезы. Продавец утверждает, что средний вес пачки печенья составляет 200 г.\n",
        "Из партии извлечена выборка из 10 пачек. Вес каждой пачки составляет:\n",
        "202, 203, 199, 197, 195, 201, 200, 204, 194, 190.\n",
        "Известно, что их веса распределены нормально.\n",
        "Верно ли утверждение продавца, если учитывать, что доверительная вероятность равна 99%? (Провести двусторонний тест.)"
      ],
      "metadata": {
        "id": "WjfybW-EdQMx"
      }
    },
    {
      "cell_type": "markdown",
      "source": [
        "В этом примере следует использовать двусторонний критерий.\n",
        "\n",
        "Формулируем нулевую гипотезу\n",
        "$H_{0}: \\mu = 200$ \n",
        "и альтернативную\n",
        "$H_{1}: \\mu \\neq 200 $\n",
        "для уровня значимости $α=0.01$\n",
        "\n",
        "Так как нам не изветсна сигма, то используем t-критерий (критерий Стьюдента)."
      ],
      "metadata": {
        "id": "ZNBgcR0Fdg4G"
      }
    },
    {
      "cell_type": "code",
      "source": [
        "\n",
        "X = np.array([202, 203, 199, 197, 195, 201, 200, 204, 194, 190])\n",
        "n = len(X)\n",
        "mu = 200\n",
        "a = 0.01\n",
        "print(f\"Среднее {X.mean():.4f}, исправленная дисперсия {X.var(ddof=1):.4f}\")\n",
        "s = np.sqrt(X.var(ddof=1))\n",
        "# \n",
        "t_kr = 3.25 # таблица, a = 0.005, k = 9\n",
        "M = X.mean()\n",
        "t_nabl = (M - mu) * np.sqrt(n)/s\n",
        "\n",
        "if abs(t_nabl) > t_kr:  # по модулю, т.к. критерий двусторонний\n",
        "    print(\"Отвергаем нулевую гипотезу\")\n",
        "else:\n",
        "    print(\"Принимаем нулевую гипотезу\")"
      ],
      "metadata": {
        "colab": {
          "base_uri": "https://localhost:8080/"
        },
        "id": "ykHtiDwBdhnx",
        "outputId": "8478c660-cb3c-4c45-928e-6b8ea8e79908"
      },
      "execution_count": 2,
      "outputs": [
        {
          "output_type": "stream",
          "name": "stdout",
          "text": [
            "Среднее 198.5000, исправленная дисперсия 19.8333\n",
            "Принимаем нулевую гипотезу\n"
          ]
        }
      ]
    },
    {
      "cell_type": "markdown",
      "source": [
        "4. Есть ли статистически значимые различия в росте дочерей?\n",
        "\n",
        "Рост матерей 172, 177, 158, 170, 178,175, 164, 160, 169\n",
        "\n",
        "Рост взрослых дочерей: 173, 175, 162, 174, 175, 168, 155, 170, 160"
      ],
      "metadata": {
        "id": "Y17o9R7ueL_P"
      }
    },
    {
      "cell_type": "code",
      "source": [
        "# Введём значения\n",
        "moms = np.array([172, 177, 158, 170, 178,175, 164, 160, 169])\n",
        "dtrs = np.array([173, 175, 162, 174, 175, 168, 155, 170, 160])"
      ],
      "metadata": {
        "id": "paJC4JrGeRtX"
      },
      "execution_count": 3,
      "outputs": []
    },
    {
      "cell_type": "markdown",
      "source": [
        "Формулировка гипотез: \n",
        "\n",
        "$H_{0}$: Распределения принадлежат одной генеральной совокупности\n",
        "\n",
        "$H_{1}$: Распределения принадлежат разным генеральным совокупностям\n",
        "\n",
        "Так как не указано иное, будем считать $\\alpha=0.05$"
      ],
      "metadata": {
        "id": "45MKAFsJe03m"
      }
    },
    {
      "cell_type": "code",
      "source": [
        "import pylab\n",
        "import scipy.stats as stats"
      ],
      "metadata": {
        "id": "SHzJJOLeeguY"
      },
      "execution_count": 5,
      "outputs": []
    },
    {
      "cell_type": "markdown",
      "source": [
        "Проверим выборки на нормальность с помощью теста Шапиро-Уилка"
      ],
      "metadata": {
        "id": "ewxL4Uctfbkq"
      }
    },
    {
      "cell_type": "code",
      "source": [
        "stats.shapiro(moms)"
      ],
      "metadata": {
        "colab": {
          "base_uri": "https://localhost:8080/"
        },
        "id": "Oy8_1u0uff8g",
        "outputId": "9872fd7c-6447-4c29-ada8-74535ddac086"
      },
      "execution_count": 6,
      "outputs": [
        {
          "output_type": "execute_result",
          "data": {
            "text/plain": [
              "ShapiroResult(statistic=0.9342719912528992, pvalue=0.5230545401573181)"
            ]
          },
          "metadata": {},
          "execution_count": 6
        }
      ]
    },
    {
      "cell_type": "code",
      "source": [
        "stats.shapiro(dtrs)"
      ],
      "metadata": {
        "colab": {
          "base_uri": "https://localhost:8080/"
        },
        "id": "t-PELF-0fm6k",
        "outputId": "86b534db-711e-4aa0-b916-5cd5cbfc1739"
      },
      "execution_count": 7,
      "outputs": [
        {
          "output_type": "execute_result",
          "data": {
            "text/plain": [
              "ShapiroResult(statistic=0.879397988319397, pvalue=0.15474608540534973)"
            ]
          },
          "metadata": {},
          "execution_count": 7
        }
      ]
    },
    {
      "cell_type": "markdown",
      "source": [
        "В обоих случаях pvalue больше, чем критерий значимости, поэтому можем считать, что тест на нормальность пройден.\n"
      ],
      "metadata": {
        "id": "2I7Ad_RegBbE"
      }
    },
    {
      "cell_type": "code",
      "source": [
        "#QQ\n",
        "\n",
        "stats.probplot(moms, dist='norm', plot=pylab)\n",
        "pylab.show()"
      ],
      "metadata": {
        "colab": {
          "base_uri": "https://localhost:8080/",
          "height": 295
        },
        "id": "ltl6-jREfpKK",
        "outputId": "18f506a8-cc37-40ec-c7f2-313da2fb050f"
      },
      "execution_count": 12,
      "outputs": [
        {
          "output_type": "display_data",
          "data": {
            "text/plain": [
              "<Figure size 432x288 with 1 Axes>"
            ],
            "image/png": "[encoded data removed]"
          },
          "metadata": {
            "needs_background": "light"
          }
        }
      ]
    },
    {
      "cell_type": "code",
      "source": [
        "stats.probplot(dtrs, dist='norm', plot=pylab)\n",
        "pylab.show()"
      ],
      "metadata": {
        "colab": {
          "base_uri": "https://localhost:8080/",
          "height": 295
        },
        "id": "tYz_LQ0zgktE",
        "outputId": "b0ad4140-8adf-4233-ab49-218d7a8773b5"
      },
      "execution_count": 13,
      "outputs": [
        {
          "output_type": "display_data",
          "data": {
            "text/plain": [
              "<Figure size 432x288 with 1 Axes>"
            ],
            "image/png": "[encoded data removed]"
          },
          "metadata": {
            "needs_background": "light"
          }
        }
      ]
    },
    {
      "cell_type": "markdown",
      "source": [
        "Нам неизвестны дисперсии и мы не предполагаем, что они равно. Для оценки \"статистической одинаковости\" двух наборово будет использоваться партный t-тест"
      ],
      "metadata": {
        "id": "pT0MqtFoiUuf"
      }
    },
    {
      "cell_type": "code",
      "source": [
        "stats.ttest_ind(moms, dtrs)"
      ],
      "metadata": {
        "colab": {
          "base_uri": "https://localhost:8080/"
        },
        "id": "M55gDWBwiU-Y",
        "outputId": "48df7630-bfb4-4742-d807-5b7c2e446097"
      },
      "execution_count": 18,
      "outputs": [
        {
          "output_type": "execute_result",
          "data": {
            "text/plain": [
              "Ttest_indResult(statistic=0.35581195161541973, pvalue=0.7266292679160495)"
            ]
          },
          "metadata": {},
          "execution_count": 18
        }
      ]
    },
    {
      "cell_type": "markdown",
      "source": [
        "statistic=0.3558 - значение t-статистики\n",
        "\n",
        "pvalue=0.7266\n",
        "\n",
        "Так как *pvalue* больше, чем уровень значимости, значит принимаем нулевую гипотезу, т.е нет статистически значимых различий между ростом мам и их дочерей "
      ],
      "metadata": {
        "id": "YEXe5ywOi5NF"
      }
    }
  ]
}