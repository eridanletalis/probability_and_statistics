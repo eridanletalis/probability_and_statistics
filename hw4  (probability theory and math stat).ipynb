{
 "cells": [
  {
   "cell_type": "markdown",
   "metadata": {},
   "source": [
    "__Задача 1__\n",
    "\n",
    "О непрерывной равномерно распределённой случайной величине `B` известно, что её дисперсия равна 0.2. Можно ли найти правую границу величины `B` и её среднее значение зная, что левая граница равна 0.5? Если да, найдите их.\n"
   ]
  },
  {
   "cell_type": "code",
   "execution_count": 14,
   "metadata": {},
   "outputs": [],
   "source": [
    "import numpy as np\n",
    "D = 0.2\n",
    "a = 0.5\n"
   ]
  },
  {
   "cell_type": "markdown",
   "metadata": {},
   "source": [
    "Математическое ожидание и дисперсия равномерного распределения:\n",
    "$$M(X) = \\dfrac{a + b}{2}, \\:\\: D(X) = \\dfrac{(b - a)^2}{12},$$\n",
    "откуда \n",
    "$$(b-a)^2 = 12D(X);$$\n",
    "$$b = \\sqrt{12 D(X)} + a;$$\n"
   ]
  },
  {
   "cell_type": "code",
   "execution_count": 15,
   "metadata": {},
   "outputs": [
    {
     "name": "stdout",
     "output_type": "stream",
     "text": [
      "Правая граница равна 2.049193338482967\n"
     ]
    }
   ],
   "source": [
    "b = np.sqrt(12*D) + a\n",
    "print(f'Правая граница равна {b}')"
   ]
  },
  {
   "cell_type": "code",
   "execution_count": 16,
   "metadata": {},
   "outputs": [
    {
     "name": "stdout",
     "output_type": "stream",
     "text": [
      "Среднее значение равно 1.2745966692414834\n"
     ]
    }
   ],
   "source": [
    "M = (a + b)/2\n",
    "print(f'Среднее значение равно {M}')"
   ]
  },
  {
   "cell_type": "code",
   "execution_count": 19,
   "metadata": {},
   "outputs": [
    {
     "name": "stdout",
     "output_type": "stream",
     "text": [
      "Математическое ожидание равно 1.2745966692414834, дисперсия равна 0.2\n"
     ]
    }
   ],
   "source": [
    "# Попробуем проверить\n",
    "samples = np.random.uniform(a, b, size=10000)\n",
    "M_1 = samples.mean()\n",
    "D_1 = samples.var(ddof=1) # Правильно ли считаю, что если здесь значений много, то смещением можно пренебречь?\n",
    "print(f'Математическое ожидание равно {M}, дисперсия равна {D}')\n",
    "# Похоже на правду"
   ]
  },
  {
   "cell_type": "markdown",
   "metadata": {},
   "source": [
    "__Задача 2__\n",
    "\n",
    "На сколько сигм (средних квадратических отклонений) отклоняется рост человека, равный 190 см, от математического ожидания роста в популяции, в которой `M(X) = 178` и `D(X) = 25`?\n"
   ]
  },
  {
   "cell_type": "code",
   "execution_count": 23,
   "metadata": {},
   "outputs": [],
   "source": [
    "M = 178\n",
    "D = 25\n",
    "h = 190"
   ]
  },
  {
   "cell_type": "code",
   "execution_count": 25,
   "metadata": {},
   "outputs": [
    {
     "name": "stdout",
     "output_type": "stream",
     "text": [
      "12\n",
      "5.0\n"
     ]
    }
   ],
   "source": [
    "sigma = np.sqrt(D)\n",
    "distance = h - M\n",
    "print(distance)\n",
    "print(sigma)"
   ]
  },
  {
   "cell_type": "code",
   "execution_count": 26,
   "metadata": {},
   "outputs": [
    {
     "name": "stdout",
     "output_type": "stream",
     "text": [
      "Отклонение роста человека от мат ожидание составляет 3.0 сигм\n"
     ]
    }
   ],
   "source": [
    "x = np.ceil(distance/sigma)\n",
    "print(f\"Отклонение роста человека от мат ожидание составляет {x} сигм\")"
   ]
  },
  {
   "cell_type": "code",
   "execution_count": null,
   "metadata": {},
   "outputs": [],
   "source": []
  },
  {
   "cell_type": "markdown",
   "metadata": {},
   "source": [
    "\n",
    "__Задача 3__\n",
    "\n",
    "Рост взрослого населения города `X` имеет нормальное распределение, причём, средний рост равен 174 см, а среднее квадратическое отклонение равно 8 см. С помощью правил стандартного отклонения, двух и трёх сигм посчитайте, какова вероятность того, что случайным образом выбранный взрослый человек имеет рост:\n",
    "\n",
    "1. больше 182 см?\n",
    "2. больше 190 см?\n",
    "3. от 166 см до 190 см?\n",
    "4. от 166 см до 182 см?\n",
    "5. от 158 см до 190 см?\n",
    "6. не выше 150 см или не ниже 190 см?\n",
    "7. не выше 150 см или не ниже 198 см?\n",
    "8. ниже 166 см?\n"
   ]
  },
  {
   "cell_type": "code",
   "execution_count": 33,
   "metadata": {},
   "outputs": [],
   "source": [
    "import scipy.stats as stats\n",
    "M = 174\n",
    "sigma = 8"
   ]
  },
  {
   "cell_type": "markdown",
   "metadata": {},
   "source": [
    "__Немного теории для себя__\n",
    "\n",
    "Нормальным называется распределение вероятности непрерывной СВ $X$, плотность которого имеет вид:\n",
    "$$ f(x) = \\frac {1} {\\sigma \\sqrt{2 \\pi}} e^{\\frac {-(x-m)^2}{ 2 \\sigma ^2}} $$\n",
    "\n",
    "где $m$ - математическо ожидание, $\\sigma $ - СКО $X$\n",
    "\n",
    "Вероятность того, что $X$ примет значение, принадлежащее интервалу $(a,b)$:\n",
    "\n",
    "$$P(a < X < b) = Ф(\\frac {b - m} {\\sigma}) - Ф(\\frac {a - m}{\\sigma})$$\n",
    "\n",
    "где $Ф(x)$ - функция Лапласа.\n",
    "\n",
    "Вероятность того, что абсолютная величина отклонения меньше положительного числа $\\delta$:\n",
    "$$P(|X - m| < \\delta) = 2Ф(\\frac {\\delta}{\\sigma})$$\n",
    "\n",
    "В частности, при $m = 0$ справедливо равенство:\n",
    "\n",
    "$$P(|X| < \\delta) = 2Ф(\\frac {\\delta}{\\sigma})$$\n",
    "\n",
    "Ассиметрия, эксцесс, мода и медиана нормального распределения, соотвественно, равны:\n",
    "\n",
    "$$A_s = 0, E_k = 0, M_0 = m, M_e = m, $$\n",
    "\n",
    "где $m = M(X)$\n",
    "\n",
    "Преобразуем формулу $P(|X - m| < \\delta) = 2Ф(\\frac {\\delta}{\\sigma})$\n",
    "\n",
    "Положим $\\delta = \\sigma t$, в итоге получим:\n",
    "\n",
    "$$P(|X-m| < \\sigma t) = 2Ф(t),$$\n",
    "\n",
    "где $t$ - количество \"сигм\".\n"
   ]
  },
  {
   "cell_type": "markdown",
   "metadata": {},
   "source": [
    "1. больше 182 см?\n",
    "2. больше 190 см?\n",
    "3. от 166 см до 190 см?\n",
    "4. от 166 см до 182 см?\n",
    "5. от 158 см до 190 см?\n",
    "6. не выше 150 см или не ниже 190 см?\n",
    "7. не выше 150 см или не ниже 198 см?\n",
    "8. ниже 166 см?\n"
   ]
  },
  {
   "cell_type": "code",
   "execution_count": 30,
   "metadata": {},
   "outputs": [
    {
     "name": "stdout",
     "output_type": "stream",
     "text": [
      "Граница первой сигмы (166:182)\n",
      "Граница второй сигмы (158:190)\n",
      "Граница третьей сигмы (150:198)\n"
     ]
    }
   ],
   "source": [
    "print(f\"Граница первой сигмы ({M - sigma}:{M + sigma})\")\n",
    "print(f\"Граница второй сигмы ({M - 2*sigma}:{M + 2*sigma})\")\n",
    "print(f\"Граница третьей сигмы ({M - 3* sigma}:{M + 3* sigma})\")"
   ]
  },
  {
   "cell_type": "code",
   "execution_count": 37,
   "metadata": {},
   "outputs": [
    {
     "data": {
      "text/plain": [
       "0.02275013194817921"
      ]
     },
     "execution_count": 37,
     "metadata": {},
     "output_type": "execute_result"
    }
   ],
   "source": [
    "#1 Если я правильно понял, как считать с помощью сигм, то\n",
    "P = 1 - stats.norm.cdf(2)\n",
    "P"
   ]
  },
  {
   "cell_type": "code",
   "execution_count": 38,
   "metadata": {},
   "outputs": [
    {
     "data": {
      "text/plain": [
       "0.0013498980316301035"
      ]
     },
     "execution_count": 38,
     "metadata": {},
     "output_type": "execute_result"
    }
   ],
   "source": [
    "# 2\n",
    "P = 1 - stats.norm.cdf(3)\n",
    "P\n"
   ]
  },
  {
   "cell_type": "code",
   "execution_count": 39,
   "metadata": {},
   "outputs": [
    {
     "data": {
      "text/plain": [
       "0.9999683287581662"
      ]
     },
     "execution_count": 39,
     "metadata": {},
     "output_type": "execute_result"
    }
   ],
   "source": [
    "# 3\n",
    "P = stats.norm.cdf((190-M)/2) - stats.norm.cdf((166-M)/2)\n",
    "P"
   ]
  },
  {
   "cell_type": "code",
   "execution_count": 40,
   "metadata": {},
   "outputs": [
    {
     "data": {
      "text/plain": [
       "0.9999366575163338"
      ]
     },
     "execution_count": 40,
     "metadata": {},
     "output_type": "execute_result"
    }
   ],
   "source": [
    "# 4\n",
    "P = stats.norm.cdf((182-M)/2) - stats.norm.cdf((166-M)/2)\n",
    "P"
   ]
  },
  {
   "cell_type": "code",
   "execution_count": 41,
   "metadata": {},
   "outputs": [
    {
     "data": {
      "text/plain": [
       "0.9999999999999987"
      ]
     },
     "execution_count": 41,
     "metadata": {},
     "output_type": "execute_result"
    }
   ],
   "source": [
    "# 5\n",
    "P = stats.norm.cdf((190-M)/2) - stats.norm.cdf((158-M)/2)\n",
    "P"
   ]
  },
  {
   "cell_type": "code",
   "execution_count": 45,
   "metadata": {},
   "outputs": [
    {
     "data": {
      "text/plain": [
       "6.661338147750939e-16"
      ]
     },
     "execution_count": 45,
     "metadata": {},
     "output_type": "execute_result"
    }
   ],
   "source": [
    "# 6\n",
    "P = stats.norm.cdf((150-M)/2) + (1- stats.norm.cdf((190-M)/2))\n",
    "P"
   ]
  },
  {
   "cell_type": "code",
   "execution_count": 47,
   "metadata": {},
   "outputs": [
    {
     "data": {
      "text/plain": [
       "1.776482112077653e-33"
      ]
     },
     "execution_count": 47,
     "metadata": {},
     "output_type": "execute_result"
    }
   ],
   "source": [
    "# 7\n",
    "P = stats.norm.cdf((150-M)/2) + (1- stats.norm.cdf((198-M)/2))\n",
    "P"
   ]
  },
  {
   "cell_type": "code",
   "execution_count": 49,
   "metadata": {},
   "outputs": [
    {
     "data": {
      "text/plain": [
       "3.167124183311986e-05"
      ]
     },
     "execution_count": 49,
     "metadata": {},
     "output_type": "execute_result"
    }
   ],
   "source": [
    "# 8\n",
    "P = stats.norm.cdf((166-M)/2)\n",
    "P"
   ]
  },
  {
   "cell_type": "markdown",
   "metadata": {},
   "source": [
    "\n",
    "__Задача 4__ (на подумать)\n",
    "\n",
    "Каким образом связаны между собой понятие квантиля и правила двух и трёх сигм? \n",
    "\n",
    "Данное задание - на подумать, оформлять его не обязательно. Этот вопрос мы обсудим в начале следующего занятия."
   ]
  },
  {
   "cell_type": "markdown",
   "metadata": {},
   "source": [
    "Понятие квантиля состоит в том, что вероятность появления какого-то количества значений СВ не превышает определённую вероятность. Правила двух и трёх сигм говорит, что непрерывная СВ с определённой долей вероятности не превысит какое-то значение относительно своего среднего.\n",
    "Также здесь можно привести интерквантильное расстояние ($IQR$). Одно расстояние - это 50 % всех данных, лежащих посередине, одна сигма - это около 68% всех данных. Размах в $3IQR$ содержит все данные, которые не являются выбросами. Также, то, что лежит за третьими сигмами, можно посчитать за аномальные значения."
   ]
  }
 ],
 "metadata": {
  "kernelspec": {
   "display_name": "Python 3",
   "language": "python",
   "name": "python3"
  },
  "language_info": {
   "codemirror_mode": {
    "name": "ipython",
    "version": 3
   },
   "file_extension": ".py",
   "mimetype": "text/x-python",
   "name": "python",
   "nbconvert_exporter": "python",
   "pygments_lexer": "ipython3",
   "version": "3.6.5"
  }
 },
 "nbformat": 4,
 "nbformat_minor": 2
}
