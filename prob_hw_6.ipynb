{
  "nbformat": 4,
  "nbformat_minor": 0,
  "metadata": {
    "colab": {
      "name": "prob_hw_6.ipynb",
      "provenance": [],
      "authorship_tag": "ABX9TyM6E5HL5XTjlN+Q09Vcv2Vr",
      "include_colab_link": true
    },
    "kernelspec": {
      "name": "python3",
      "display_name": "Python 3"
    }
  },
  "cells": [
    {
      "cell_type": "markdown",
      "metadata": {
        "id": "view-in-github",
        "colab_type": "text"
      },
      "source": [
        "<a href=\"https://colab.research.google.com/github/eridanletalis/probability_and_statistics/blob/master/prob_hw_6.ipynb\" target=\"_parent\"><img src=\"https://colab.research.google.com/assets/colab-badge.svg\" alt=\"Open In Colab\"/></a>"
      ]
    },
    {
      "cell_type": "code",
      "metadata": {
        "id": "eNA8bPGaLjI0",
        "colab_type": "code",
        "colab": {}
      },
      "source": [
        "import numpy as np\n",
        "import pandas as pd"
      ],
      "execution_count": 0,
      "outputs": []
    },
    {
      "cell_type": "markdown",
      "metadata": {
        "id": "DpZYeoRELkzo",
        "colab_type": "text"
      },
      "source": [
        "1) Даны значения величины заработной платы заемщиков банка (zp) и значения их поведенческого кредитного скоринга (ks):\n",
        "zp = [35, 45, 190, 200, 40, 70, 54, 150, 120, 110],\n",
        "ks = [401, 574, 874, 919, 459, 739, 653, 902, 746, 832].\n",
        "Найдите ковариацию этих двух величин с помощью элементарных действий, а затем с помощью функции cov из numpy\n",
        "Полученные значения должны быть равны.\n",
        "Найдите коэффициент корреляции Пирсона с помощью ковариации и среднеквадратичных отклонений двух признаков,\n",
        "а затем с использованием функций из библиотек numpy и pandas.\n"
      ]
    },
    {
      "cell_type": "code",
      "metadata": {
        "id": "1DAIOzWPLt4s",
        "colab_type": "code",
        "colab": {
          "base_uri": "https://localhost:8080/",
          "height": 54
        },
        "outputId": "2f226b1b-c093-4766-822c-f6f0520e739f"
      },
      "source": [
        "zp = np.array([35, 45, 190, 200, 40, 70, 54, 150, 120, 110])\n",
        "ks = np.array([401, 574, 874, 919, 459, 739, 653, 902, 746, 832])\n",
        "\n",
        "M_zp = zp.mean()\n",
        "M_ks = ks.mean()\n",
        "M_xy = (zp * ks).mean()\n",
        "\n",
        "cov = M_xy - M_zp * M_ks\n",
        "print(f\"Ковариация выборок, посчитанная вручную равна {cov:.4f}\")\n",
        "print(f\"Ковариация выборок, посчитанная функцией равна \\\n",
        "{np.cov(np.vstack((zp, ks)), ddof=0)[0,1]}\")\n",
        "# Значения ковариаций совпадают. Положительная ковариация говорит о том,\n",
        "# что с ростом первой величины вторая также растёт."
      ],
      "execution_count": 38,
      "outputs": [
        {
          "output_type": "stream",
          "text": [
            "Ковариация выборок, посчитанная вручную равна 9157.8400\n",
            "Ковариация выборок, посчитанная функцией равна 9157.84\n"
          ],
          "name": "stdout"
        }
      ]
    },
    {
      "cell_type": "code",
      "metadata": {
        "id": "jtQgJpRbO5lS",
        "colab_type": "code",
        "colab": {
          "base_uri": "https://localhost:8080/",
          "height": 54
        },
        "outputId": "230e5601-fc7c-44a5-9852-428d466e7f5c"
      },
      "source": [
        "D_zp = zp.var()\n",
        "D_ks = ks.var()\n",
        "r2 = cov / (np.sqrt(D_zp * D_ks))\n",
        "\n",
        "df = pd.DataFrame({'zp': zp, 'ks': ks})\n",
        "corr_matrix = df.loc[:, ['zp', 'ks']].corr()\n",
        "\n",
        "\n",
        "print(f\"Коэффициент корреляции Пирсона посчитанный вручную, равен {r2:.4f}\")\n",
        "print(f\"Коэффициент корреляции Пирсона посчитанный функцией, равен \\\n",
        "{corr_matrix.values[0,1]:.4f}\")"
      ],
      "execution_count": 39,
      "outputs": [
        {
          "output_type": "stream",
          "text": [
            "Коэффициент корреляции Пирсона посчитанный вручную, равен 0.8875\n",
            "Коэффициент корреляции Пирсона посчитанный функцией, равен 0.8875\n"
          ],
          "name": "stdout"
        }
      ]
    },
    {
      "cell_type": "code",
      "metadata": {
        "id": "XzKCkdIOQPti",
        "colab_type": "code",
        "colab": {
          "base_uri": "https://localhost:8080/",
          "height": 112
        },
        "outputId": "c529a18f-e283-45fa-e830-79188df635b1"
      },
      "source": [
        "corr_matrix        \n",
        " \n",
        " # Значения коэффициента корреляций Пирсона совпадают\n",
        " # Ненулевое значение коэф говорит о наличии линейной связи между zp и ks\n",
        " # Близость коэффициента к единице говорит о высокой степени этой связи."
      ],
      "execution_count": 37,
      "outputs": [
        {
          "output_type": "execute_result",
          "data": {
            "text/html": [
              "<div>\n",
              "<style scoped>\n",
              "    .dataframe tbody tr th:only-of-type {\n",
              "        vertical-align: middle;\n",
              "    }\n",
              "\n",
              "    .dataframe tbody tr th {\n",
              "        vertical-align: top;\n",
              "    }\n",
              "\n",
              "    .dataframe thead th {\n",
              "        text-align: right;\n",
              "    }\n",
              "</style>\n",
              "<table border=\"1\" class=\"dataframe\">\n",
              "  <thead>\n",
              "    <tr style=\"text-align: right;\">\n",
              "      <th></th>\n",
              "      <th>zp</th>\n",
              "      <th>ks</th>\n",
              "    </tr>\n",
              "  </thead>\n",
              "  <tbody>\n",
              "    <tr>\n",
              "      <th>zp</th>\n",
              "      <td>1.00000</td>\n",
              "      <td>0.88749</td>\n",
              "    </tr>\n",
              "    <tr>\n",
              "      <th>ks</th>\n",
              "      <td>0.88749</td>\n",
              "      <td>1.00000</td>\n",
              "    </tr>\n",
              "  </tbody>\n",
              "</table>\n",
              "</div>"
            ],
            "text/plain": [
              "         zp       ks\n",
              "zp  1.00000  0.88749\n",
              "ks  0.88749  1.00000"
            ]
          },
          "metadata": {
            "tags": []
          },
          "execution_count": 37
        }
      ]
    },
    {
      "cell_type": "markdown",
      "metadata": {
        "id": "O_eNuPFGLuKL",
        "colab_type": "text"
      },
      "source": [
        "\n",
        "2) Измерены значения IQ выборки студентов,\n",
        "обучающихся в местных технических вузах:\n",
        "131, 125, 115, 122, 131, 115, 107, 99, 125, 111.\n",
        "Известно, что в генеральной совокупности IQ распределен нормально.\n",
        "Найдите доверительный интервал для математического ожидания с надежностью 0.95.\n"
      ]
    },
    {
      "cell_type": "code",
      "metadata": {
        "id": "-TEdRtLnLuhd",
        "colab_type": "code",
        "colab": {
          "base_uri": "https://localhost:8080/",
          "height": 54
        },
        "outputId": "bdf8ff93-4fac-47e7-ec76-5d73acd4cc81"
      },
      "source": [
        "X = np.array([131, 125, 115, 122, 131, 115, 107, 99, 125, 111])\n",
        "\n",
        "print(f\"Среднее {X.mean():.4f}, исправленная дисперсия {X.var(ddof=1):.4f}\")\n",
        "s = np.sqrt(X.var(ddof=1))\n",
        "# нет информации о генеральной совокупности, используем критерий Стьюдента\n",
        "# по таблице Стьюдента находим t для параметров (9; 0,025) = 2.262\n",
        "t = 2.262\n",
        "M = X.mean()\n",
        "left_right = t * s / (len(X) ** 0.5)\n",
        "print(f\"Доверительный интервал M для p = 0.95\\\n",
        " [{M-left_right:.4f};{M+left_right:.4f}]\")\n"
      ],
      "execution_count": 41,
      "outputs": [
        {
          "output_type": "stream",
          "text": [
            "Среднее 118.1000, исправленная дисперсия 111.2111\n",
            "Доверительный интервал M для p = 0.05 [110.5566;125.6434]\n"
          ],
          "name": "stdout"
        }
      ]
    },
    {
      "cell_type": "markdown",
      "metadata": {
        "id": "_iwKZATFLuoa",
        "colab_type": "text"
      },
      "source": [
        "\n",
        "3) Известно, что рост футболистов в сборной распределен нормально\n",
        "с дисперсией генеральной совокупности, равной 25 кв.см. Объем выборки равен 27,\n",
        "среднее выборочное составляет 174.2. Найдите доверительный интервал для математического\n",
        "ожидания с надежностью 0.95.\n"
      ]
    },
    {
      "cell_type": "code",
      "metadata": {
        "id": "6CfDgzcpLy-A",
        "colab_type": "code",
        "colab": {
          "base_uri": "https://localhost:8080/",
          "height": 35
        },
        "outputId": "3cef9b80-ab33-4483-f79a-8ce3ba1d5bd1"
      },
      "source": [
        "D = 25\n",
        "n = 27\n",
        "M = 174.2\n",
        "p = 0.95\n",
        "\n",
        "# Дана генеральная совокупность, большая выборка, следовательно можем использовать Z-оценку\n",
        "\n",
        "s = np.sqrt(D)\n",
        "\n",
        "Z = 1.96 # Ф^(-1) (1-(0.05/2))\n",
        "\n",
        "left_right = Z * s / (n ** 0.5)\n",
        "print(f\"Доверительный интервал M для p = 0.95\\\n",
        " [{M-left_right:.4f};{M+left_right:.4f}]\")\n"
      ],
      "execution_count": 44,
      "outputs": [
        {
          "output_type": "stream",
          "text": [
            "Доверительный интервал M для p = 0.95 [172.3140;176.0860]\n"
          ],
          "name": "stdout"
        }
      ]
    },
    {
      "cell_type": "markdown",
      "metadata": {
        "id": "OZix7MV0LzIW",
        "colab_type": "text"
      },
      "source": [
        "\n",
        "Выберите тему для проектной работы по курсу Теории вероятностей и математической статистики\n",
        "и напишите ее в комментарии к Практическому заданию.\n",
        "\n",
        "4.Выберите тему для проектной работы по курсу Теории вероятностей и математической статистики\n",
        "и напишите ее в комментарии к Практическому заданию. (ПРОЕКТ ДОБРОВОЛЬНЫЙ)"
      ]
    },
    {
      "cell_type": "markdown",
      "metadata": {
        "id": "Z3zPWBe3atWS",
        "colab_type": "text"
      },
      "source": [
        "Нужна помощь с выбором."
      ]
    }
  ]
}