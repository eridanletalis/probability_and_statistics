{
 "cells": [
  {
   "cell_type": "markdown",
   "metadata": {},
   "source": [
    "Задача 1\n",
    "\n",
    "Контрольная работа состоит из пяти вопросов. На каждый вопрос приведено четыре варианта ответа, один из которых правильный. Составьте закон распределения числа правильных ответов при простом угадывании. Найдите M(X), D(X)."
   ]
  },
  {
   "cell_type": "markdown",
   "metadata": {},
   "source": [
    "Пусть X - дискретная величина, равная числу ответов, распределённая по биноминальному закону. Её параметры n = 5, p = 1/4. \n",
    "Для этого случая вероятность можно вычислить по формуле: P(X=k) = (C^k)_n*(1-p)^(n-k) * p^k\n"
   ]
  },
  {
   "cell_type": "code",
   "execution_count": 2,
   "metadata": {},
   "outputs": [],
   "source": [
    "import numpy as np\n",
    "\n",
    "def permutations(n: int) -> int:\n",
    "   \n",
    "    return np.math.factorial(n)\n",
    "\n",
    "def perm(n: int) -> int:\n",
    "   \n",
    "    return permutations(n)\n",
    "\n",
    "def combinations(n: int, k: int) -> int:\n",
    "    return np.math.factorial(n) // (np.math.factorial(k)*np.math.factorial(n-k))\n",
    "\n",
    "def comb(n: int, k: int) -> int:\n",
    "    return combinations(n, k)\n",
    " \n",
    "\n",
    "def arrangement(n: int, k: int) -> int:\n",
    "    return combinations(n,k)*perm(k)\n",
    "\n",
    "def arrang(n: int, k: int) -> int:\n",
    "    return arrangement(n, k)"
   ]
  },
  {
   "cell_type": "code",
   "execution_count": 17,
   "metadata": {},
   "outputs": [],
   "source": [
    "def answer_prob(k: int) -> float:\n",
    "    return comb(5, k)*((0.75)**(5-k)) * (0.25 ** k)\n"
   ]
  },
  {
   "cell_type": "code",
   "execution_count": 22,
   "metadata": {},
   "outputs": [
    {
     "name": "stdout",
     "output_type": "stream",
     "text": [
      "0:0.2373046875\n",
      "1:0.3955078125\n",
      "2:0.263671875\n",
      "3:0.087890625\n",
      "4:0.0146484375\n",
      "5:0.0009765625\n"
     ]
    }
   ],
   "source": [
    "k_values = np.arange(0,6)\n",
    "P_values = np.full_like(k_values, 0, dtype='float')\n",
    "for i in k_values:\n",
    "    P_values[i] = answer_prob(i)\n",
    "    print(f'{i}:{P_values[i]}')\n",
    "    \n",
    "    \n",
    "# следует читать так: Вероятность угадывания k вопросов из пяти равна P(X=k)"
   ]
  },
  {
   "cell_type": "code",
   "execution_count": 24,
   "metadata": {},
   "outputs": [
    {
     "name": "stdout",
     "output_type": "stream",
     "text": [
      "1.25\n",
      "0.9375\n"
     ]
    }
   ],
   "source": [
    "m = 5 * 0.25 # Математическое ожидание количества угаданных вопросов есть величина np\n",
    "print(m)\n",
    "d = m * (1 - 0.25) # Дисперсия равна величине np(1 - p)\n",
    "print(d)"
   ]
  },
  {
   "cell_type": "markdown",
   "metadata": {},
   "source": [
    "Задача 2\n",
    "\n",
    "Вероятность попадания в цель при одном выстреле равна 0.01. Какова вероятность того, что число попаданий при 200 выстрелах будет не менее 5 и не более 10?"
   ]
  },
  {
   "cell_type": "markdown",
   "metadata": {},
   "source": [
    "В этой задаче следует посчитать вероятности попадания от пяти до десяти раз включительно и сложить эти значения. Формула будет использована та же, что и для первой задачи, со своими коэффициентами."
   ]
  },
  {
   "cell_type": "code",
   "execution_count": 25,
   "metadata": {},
   "outputs": [
    {
     "name": "stdout",
     "output_type": "stream",
     "text": [
      "0.051739381860374606\n"
     ]
    }
   ],
   "source": [
    "def answer_prob_2(k: int) -> float:\n",
    "    return comb(200, k)*((1 - 0.01)**(200-k)) * (0.01 ** k)\n",
    "\n",
    "result_propability = 0\n",
    "\n",
    "for i in range(5, 11):\n",
    "    result_propability += answer_prob_2(i)\n",
    "    \n",
    "print(result_propability)"
   ]
  },
  {
   "cell_type": "markdown",
   "metadata": {},
   "source": [
    "Задача 3\n",
    "\n",
    "В условиях предыдущей задачи сколько выстрелов нужно сделать чтобы быть уверенным с вероятностью 0.9, что хотя бы 10 раз будет совершено попадание?\n",
    "\n",
    "Подсказка. Как посчитать P(X >= k) для величины X, имеющей распределение Пуассона? Здесь предстоит немножко покодить."
   ]
  },
  {
   "cell_type": "markdown",
   "metadata": {},
   "source": [
    "Используем функцию распределения вероятностей и посчитаем, при каком значении a = n*p вероятность станет равна или больше 0,9\n",
    "Для этого применим следующий метод: P(k>=10) = 1 - P(k<9) = 1 - P(k=9) - P(k=8) - ... - P(k=1) - P(k=0) \n",
    "Итеративно будем подбирать n, пока вероятность P(k<9) не станет меньше 0.1"
   ]
  },
  {
   "cell_type": "code",
   "execution_count": 26,
   "metadata": {},
   "outputs": [
    {
     "name": "stdout",
     "output_type": "stream",
     "text": [
      "1422\n"
     ]
    }
   ],
   "source": [
    "def probability(n: int, k: int) -> float:\n",
    "    num = (n * 0.01) ** k\n",
    "    exp = np.exp(-0.01 * n)\n",
    "    return num * exp / np.math.factorial(k)\n",
    "\n",
    "\n",
    "n = 0\n",
    "P = 1.0\n",
    "while P > 0.1:\n",
    "    P = 0.0\n",
    "    for i in range(0, 10):\n",
    "        P += probability(n, i)\n",
    "\n",
    "    n += 1\n",
    "\n",
    "print(n)\n",
    "\n",
    "\n"
   ]
  }
 ],
 "metadata": {
  "kernelspec": {
   "display_name": "Python 3",
   "language": "python",
   "name": "python3"
  },
  "language_info": {
   "codemirror_mode": {
    "name": "ipython",
    "version": 3
   },
   "file_extension": ".py",
   "mimetype": "text/x-python",
   "name": "python",
   "nbconvert_exporter": "python",
   "pygments_lexer": "ipython3",
   "version": "3.6.5"
  }
 },
 "nbformat": 4,
 "nbformat_minor": 2
}
